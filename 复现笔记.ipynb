{
 "cells": [
  {
   "cell_type": "markdown",
   "id": "2c7ca0df",
   "metadata": {},
   "source": [
    "<img src=\"readme.png\" alt=\"Schematic diagram of DigNet generation network\" />\n",
    "\n",
    "## 1.输入数据\n",
    "### 1.1 \n",
    "基因表达谱和GRN(数据格式见`Supplement S1`)\n",
    "\n",
    "- **'net' variable**: Contains the adjacency matrix of network data, a 0-1 weight matrix (Numpy ndarray). Non-0-1 values can also be loaded, sized cell * cell.\n",
    "- **'exp' variable**: Contains experimental data in DataFrame format, preprocessed scRNA-seq results (CSV format), sized gene * cell.\n",
    "\n",
    "\n",
    "### 1.2\n",
    "只输入基因表达谱, 有方法构建一个参考网络(见manuscript, 即readme文档使用的输入格式), 接下来都是使用该格式输入\n",
    "\n",
    "预处理:参考`CancerDatasets/Create_BRCA_data.py`,基因表达谱是一个csv或xlsx文件,第一行是cell numbers, 第一列是gene symbol IDs\n",
    "\n",
    "\n",
    "\n",
    "## 2.文件和文件夹\n",
    "\n",
    "- `pre_train/`: The pre-trained DigNet model provided in this article\n",
    "- `Cancer_datasets/`: Contains preprocessed results of the E-MTAB-8107 data used in the manuscript\n",
    ">预处理后的数据,但是在pathway/中使用的是预处理前的数据.预处理前应该是csv格式,预处理后应该是mat,data格式.根据解压出的是csv,判断该文件夹下其实是预处理前的数据\n",
    "\n",
    "- `pathway/`: sub-function file containing data preprocessing\n",
    "\n",
    "> 预处理\n",
    "> MaxMinNormalization(x, Min=0, Max=1): 归一化到(0,1)区间\n",
    "\n",
    "> cal_percent(new_bit_crop,corr_TF_Gene, MI_TF_Gene,net_bit_orig):<br>\n",
    "1.首先new_bit_origC赋值为net_bit_orig和的new_bit_crop交集,然后计算在new_bit_crop中的比例,记为NUM_ORIG<br>\n",
    "2.corr_TF_GeneC赋值为corr_TF_GeneC和new_bit_crop的交集,然后计算与net_bit_origC不相交的个数在new_bit_crop中的比例,记为NUM_PCC<br>\n",
    "3.对MI_TF_Gene的操作与corr_TF_GeneC相同,得到NUM_MI<br>\n",
    "4.如果NUM_ORIG,NUM_PCC,NUM_MI相加不是100,则缩放使得和为100<br>\n",
    "5.NUM_PCC+NUM_MIover>50 -> overflow = True<br>\n",
    "else: overflow = False<br>\n",
    "return NUM_ORIG, NUM_PCC, NUM_MI, overflow\n",
    "\n",
    ">load_sergio_count(filename='pathway/simulation/SERGIO_data_node_2000.data',  num=None, logp=True):<br>\n",
    "用pickle加载filename,如果有num,则选择索引为num的数据,如果logp == True, 则进行log1p变换<br>\n",
    "return batch\n",
    "\n",
    ">plot_GRN_percent(network_percent):<br>\n",
    "画一个\"Train_GRN_pecent_bar.pdf\"柱形图,<br>\n",
    "以pathway为横坐标,<br>\n",
    "NUM_ORIG,NUM_PCC,NUM_MI为纵坐标\n",
    "\n",
    ">compute_mutual_information(df):<br>\n",
    "df每行是一个特征<br>\n",
    "计算df特征间的的mi(互信息)<br>\n",
    "return mi_matrix\n",
    "\n",
    ">compare_char(charlist, setlist):<br>\n",
    "index为setlist中charlist的索引<br>\n",
    "一般来说index方法只能在list中找一个值的索引,所以charlist可能不是list类型,只是一个值<br>\n",
    "return index\n",
    "\n",
    ">calRegnetwork(human_network, GRN_GENE_symbol):<br>\n",
    "human_network_TF_symbol = human_network第0列<br>\n",
    "human_network_Gene_symbol= human_network第2列<br>\n",
    "GRN_GENE_symbol中找调控基因(TF)和靶基因(Gene)<br>\n",
    "这一段循环方式低效,应该可以改进<br>\n",
    "return pd.DataFrame(network, columns=['TF', 'Gene'])\n",
    "\n",
    ">load_KEGG(kegg_file='pathway/kegg/KEGG_all_pathway.pkl'):<br>\n",
    "如果 pkl 文件存在，则加载它,如果 pkl 文件不存在，则运行 KEGG.py 文件\n",
    "\n",
    ">high_MI(exp_pca_discretized, exp_pca, net_bit, parm):<br>\n",
    "计算exp_pca_discretized的互信息,保存在row_MI中,将row_MI的对角线设置为0.然后筛选大于阈值的调控基因和靶基因,把调控基因和靶基因保存到MI_TF_Gene中,并且与net_bit拼接去重.<br>\n",
    "return net_bit, MI_TF_Gene\n",
    "\n",
    ">high_pearson(exp_pca, net_bit, parm):<br>\n",
    "与high_MI中的操作类似,不过未经过离散化.<br>\n",
    "值得注意的是,mi和pearson相关系数都是对称的,也就是说调控基因和靶基因(有向边)并没有明确的区分?\n",
    "\n",
    ">from_cancer_create(BRCA_exp_filter_saver, KEGG, parm, lim=200, test_pathway=None, Other_Pathway=None, human_network=None):<br>\n",
    "1.获得exp表达谱:在KEGG的Other_Pathway中但不在KEGG的test_pathway中<br>\n",
    "2.对exp进行标准化<br>\n",
    "3.net_bit,用calRegnetwork函数在human_network的先验信息中得到,由两列组成:调控基因TF和靶基因Gene<br>\n",
    "4.net_bit_orig:net_bit的拷贝<br>\n",
    "5.exp_pca:通过pca降维,列数比exp少一<br>\n",
    "6.将exp_pca分成256个离散化的区间(0-255),保存为exp_pca_discretized<br>\n",
    "7.用上面两个函数计算高pearson和MI的调控-靶基因,添加到net_bit<br>\n",
    "8.创建邻接矩阵adj_matrix<br>\n",
    "8.1 矩阵形状:基因个数(exp.index) * 基因个数<br>\n",
    "8.2 有调控关系的(TF-Gene)在矩阵中置1<br>\n",
    "8.3 经过cal_del_TF_edge(exp.index)函数,将exp分成TF,GENE两个不相交的部分<br>\n",
    "然后在邻接矩阵adj_matrix中将下标为GENE,TF的点置0(这样就从无向图变成了有向图)<br>\n",
    "9.predicted_adj_matrix, new_graph = pca_cmi(exp_pca_discretized, net_bit, parm['pmi_percent'], 1):<br>\n",
    "参考**其他文件**,通过删除cmi较小的边,获得邻接矩阵和图.此处有重要的问题,即离散化的数据用多元正态分布的方法计算cmi不合理.<br>\n",
    "new_bit_crop是更新后的图的所有边<br>\n",
    "10.以上有两个邻接矩阵adj_matrix,predicted_adj_matrix.前者是基于先验知识(查表)删除回路边,后者是用cmi删除cmi小的边,以下要对两者进行比较<br>\n",
    "11.分为三种情况,选择边最少的邻接矩阵<br>\n",
    "11.1 predicted_adj_matrix所有值为0<br>\n",
    "11.2 (np.sum(adj_matrix) / np.sum(predicted_adj_matrix)) < 0.5:<br>\n",
    "return exp, adj_matrix, new_row<br>\n",
    "11.3 else:<br>\n",
    "return exp, predicted_adj_matrix, new_row<br>\n",
    "评价:这里用0.5比较,可能是因为adj_matrix是有向图<br>\n",
    "如果predicted_adj_matrix还是一个对称的无向图,与有向的adj_matrix的边数相同,predicted_adj_matrix会多一倍的边.<br>\n",
    "但是如果选了predicted_adj_matrix,为什么不把他从对称矩阵(无向)变成有向图?<br>\n",
    "而且经过复现并不是对称图,这个判断几乎只会选到predicted_adj_matrix,后续可以尝试改成与1比较.\n",
    "\n",
    ">matrix2Data(adj_matrix, node_feature, num=0, adj2data=True, log_trans=True, metacell=False, Cnum=100, k=20):<br>\n",
    "1.1如果node_feature是list<br>\n",
    "node_feature中选择第num个,转换为tensor,得到x<br>\n",
    "1.2如果node_feature不是list<br>\n",
    "直接将node_feature转换为tensor,得到x<br>\n",
    "log_trans默认True,进行对数变换x = log(1+x)<br>\n",
    "2.归一化:使用MinMaxScalar,得到x_normalized<br>\n",
    "3.1如果adj2data是True(默认为True),此时邻接矩阵是0-1编码的,即表示无权图<br>\n",
    "adj_matrix转换为tensor<br>\n",
    "indices_tensor是所有的边,每一列代表一条边的头节点和尾节点<br>\n",
    "num_edges是边的数量<br>\n",
    "values_tensor是一个全为1的张量,长度是边的数量<br>\n",
    "3.2如果adj2data是False,此时邻接矩阵是一个稠密的,图中每个点(i,j)都有权重的数组<br>\n",
    "indeces = 邻接矩阵的所有索引,每一列代表一条边的头节点和尾节点<br>\n",
    "values = 邻接矩阵的所有值<br>\n",
    "然后转换成张量,indeces_tensor,values_tensor<br>\n",
    "4.创建data,一个图,节点特征为x_normalized(形状为(节点数,特征数)),边的索引和权重分别是indeces_tensor,values_tensor,索引为0-(节点数-1)<br>\n",
    "return data\n",
    "\n",
    ">load_pathway_mat(file_path, num=0):<br>\n",
    "从mat类型数据中读取data<br>\n",
    "node_feature是8个节点的特征,这个8是怎么确定的?<br>\n",
    "adj_matrix是data中的邻接矩阵<br>\n",
    "Data1 = matrix2Data(adj_matrix, node_feature, num=num)创建图<br>\n",
    "return Data1\n",
    "\n",
    ">create_batch_dataset_from_mat(matnum=100, test=False):<br>\n",
    "1.如果test = True:测试集<br>\n",
    "直接加载第matnum个mat文件到batch<br>\n",
    "2.否则:训练集<br>\n",
    "加载序号为1-matnum的所有mat文件到batch<br>\n",
    "return batch\n",
    "\n",
    ">create_batch_dataset_simu(filename='./pathway/simulation/SERGIO_data_node_2000.data', num=None, device=None,test=False,adddata=None, metacell=True, Cnum=100, k=20):<br>\n",
    "1.如果test == True 测试集<br>\n",
    "直接加载文件,文件中有邻接矩阵net,基因谱exp,保存到batch<br>\n",
    "return batch<br>\n",
    "2.如果test == False 训练集<br>\n",
    "2.1 文件中有多个net,exp,遍历地取出保存到data_list(相当于一个batch), edge_percent(计算边在图中的比例)<br>\n",
    "2.2 edge_percent = 所有edge_percent的平均值<br>\n",
    "2.3 如果有adddata(默认没有), 则在data_list,edge_percent中加入新的数据<br>\n",
    "2.4 创建batch<br>\n",
    "2.5 return batch,edge_persent\n",
    "\n",
    ">cal_metacell(BRCA_exp_filter_saver, Cnum=100, k=20):<br>\n",
    "BRCA_exp_filter_savert,形状(样本个数, 特征数),具体来说是(细胞个数,基因个数)<br>\n",
    "K_list,k近邻得到每个细胞的k个邻居,形状(细胞个数,k)<br>\n",
    "ALL_C_list,长度为细胞个数的数组,元素是基因序号(0-基因个数)<br>\n",
    "S,元素为None,长度为Cnum的list,用于存储细胞索引<br>\n",
    "old_S,S的拷贝<br>\n",
    "Nc_max_list,(1,Cnum)的0数组,用于存储S中对应细胞的最大k近邻<br>\n",
    "1.while循环:<br>\n",
    "1.1 ALL_C_list_current,不在S中的基因索引,即一开始是所有的细胞<br>\n",
    "1.2 对ALL_C_list_current中的c循环,c不在S中<br>\n",
    "1.2.1 Nc_max,对一个细胞c,所有S中的细胞与他k近邻并集最多的个数<br>\n",
    "1.2.2 a.如果Nc_max > Nc_max_list中的最小值(初始是0),则对于最小值的位置,S置c,Nc_max_list置Nc_max.其实这个所谓最小值的位置,就是从0递增.<br>\n",
    "b.elif Nc_max是k*2,即S中存在一个与c的k近邻不交的细胞<br>\n",
    "对于S中最大值的位置,S置c,Nc_max_list置Nc_max<br>\n",
    "1.2.3 如果一段时间S没有更新,则结束while<br>\n",
    "1.3 进行Cnum(即metacell的数量)次循环,每次序号为cn<br>\n",
    "1.3.1 对于S在cn位置的c细胞,Nc_max是所有S中的细胞与他k近邻并集最多的个数<br>\n",
    "1.3.2 如果Nc_max>原来位置的值则更新S和Nc_max_list<br>\n",
    "评价:1.3的循环意义不明,S和Nc_max_list已经在1.2更新过了,这一段似乎完全没用<br>\n",
    "2.对S进行排序,确认不含None,不含重复值<br>\n",
    "3.定义BRCA_exp_filter_saver为dataframe<br>\n",
    "4.对于S中的每个细胞si, 在K_list中取这个细胞的前x个相邻细胞,x为一个metacell中细胞个数,这些细胞每个基因的平均值作为metacell中的基因的值,然后保存到BRCA_exp_filter_saver中,列名为'c' + str(si)<br>\n",
    "评价:x的计算方式:所有细胞数除metacell个数, 即一个metacell中的细胞数<br>\n",
    "既然要取最近的x个点,为什么k近邻中近邻数量是20,而不是直接用x(细胞总数/100)<br>\n",
    "这是为了利用切片的性质,即使x大于20也可以取20个细胞作为一个metacell,不会报错<br>\n",
    "5.最终得到的BRCA_exp_filter_saver形状为(基因个数,Cnum)<br>\n",
    "6.return BRCA_exp_filter_saver\n",
    "\n",
    ">create_batch_dataset_from_cancer(filepath='CancerDatasets/DCA/BRCA_output.csv',test_pathway='hsa05224', test=False, device=None, metacell=True, Cnum=100, k=20, lim=200, return_list=False):<br>\n",
    "1.1 metacell == True 需要metacell处理<br>\n",
    "filepath中读取BRCA_exp_filter_saver,数据处理有误,多删了第一列<br>\n",
    "用函数cal_metacell重新获得BRCA_exp_filter_saver,(基因个数,Cnum= metacell个数)<br>\n",
    "1.2 metacell == False 不需要metacell处理<br>\n",
    "从filepath中读取BRCA_exp_filter_saver,(基因个数,细胞个数)<br>\n",
    "2.读取KEGG<br>\n",
    "3.Regnetwork_path = 'pathway/Regnetwork/2022.human.source'<br>\n",
    "这是写死在函数里,不是传递的参数<br>\n",
    "从这个路径获得human_network<br>\n",
    "4.network_percent是一个DataFrame,<br>\n",
    "列名为Pathway,NUM_ORIG,NUM_PCC,NUM_MI<br>\n",
    "5.1 如果test == True,测试集<br>\n",
    "通过from_cancer_create,matrix2Data两个函数获得batch<br>\n",
    "return batch<br>\n",
    "5.2 如果test == False,训练集<br>\n",
    "pathway_ID_list是KEGG的键<br>\n",
    "5.2.1 遍历pathway_ID_list中的Other_Pathway<br>\n",
    "network_percent保存每条边的出节点和入节点<br>\n",
    "data_list保存每个Data,即图<br>\n",
    "edge_percent保存每个图中边占图的大小的比例,即稀疏程度<br>\n",
    "5.2.2 return_list(默认为False)控制返回的data_list是list类型还是转换为tensor类型的batch.<br>\n",
    "默认返回tensor类型的batch,以及edge_percent取平均值<br>\n",
    "return batch, edge_percent\n",
    "\n",
    ">复现<br>\n",
    "先验信息的来源:KEGG,Regnetwork<br>\n",
    "discrete文件夹下添加__init__.py文件,才能将该文件夹识别为模块,运行当前文件\n"
   ]
  },
  {
   "cell_type": "markdown",
   "id": "433b8264",
   "metadata": {},
   "source": [
    "\n",
    "- `pathway/simulation/`: synthetic network and gene expression profile generated by SERGIO\n",
    "- `discrete/`: model-related configuration files\n",
    "### 2.1 discrete/network_preprocess.py\n",
    ">class PlaceHolder:<br>\n",
    "1.def __init__(self, X, E, y):<br>\n",
    "初始化<br>\n",
    "2.def type_as(self, x: torch.Tensor):<br>\n",
    "将X,E,y的类型修改为和x相同,即张量<br>\n",
    "3.def mask(self, node_mask, collapse=False):<br>\n",
    "node_mask:(bs,n)<br>\n",
    "x_mask,e_mask1,e_mask2,都是在node_mask的基础上拓展维度,维度分别是:\n",
    "(bs,n,1),(bs,n,1,1),(bs,1,n,1)<br>\n",
    "3.1 如果collapse == True:<br>\n",
    "更新E的形状为(bs, n, n)然后根据mask把含0的(被屏蔽)节点置-1<br>\n",
    "3.2 如果collapse == False:<br>\n",
    "更新X,把mask中0的点置0<br>\n",
    "更新E,把mask中0的点置0<br>\n",
    "return self\n",
    "\n",
    ">def to_dense(x, edge_index, edge_attr, batch=None, training=True, max_num_nodes=None):<br>\n",
    "x:(num_nodes, node_attr)<br>\n",
    "batch:(num_nodes),用于指示x中的每一行(即每个节点)属于哪一个batch<br>\n",
    "1.处理节点<br>\n",
    "1.1 if training:<br>\n",
    "X:(bs, max_num_nodes, node_attr)经过密集处理的批次张量<br>\n",
    "node_mask:(bs, max_num_nodes)为0的节点指示为掩码,因为每个batch可能节点数量不同<br>\n",
    "1.2 else:<br>\n",
    "X = x<br>\n",
    "node_mask = None<br>\n",
    "2.处理边<br>\n",
    "E: (bs, max_num_nodes, max_num_nodes),源代码中每条边的特征为常数,即权重.如果边的特征是向量,则形状为(bs, max_num_nodes, max_num_nodes,edge_attr)<br>\n",
    "E_onehot:(s, max_num_nodes, max_num_nodes,2)独热编码,即最后一个维度是[1,0],(对应权重为0)或者[0,1],(对应权重为1)<br>\n",
    "return PlaceHolder(X=X, E=E_onehot, y=None), node_mask,max_num_nodes\n",
    "\n",
    ">def get_max_node(data):<br>\n",
    "获得最大节点数,似乎把data是PlaceHolder类型的,还把X写成小写,而且其他地方没有用到,忽略\n",
    "\n",
    ">def encode_no_edge(E):<br>\n",
    "E:(bs, n, n, 2)<br>\n",
    "然后写了个冗余的判断,跳过<br>\n",
    "no_edge:(bs,n,n),bool类型,E中最后一个维度的和为0就置1<br>\n",
    "first_elt:(bs,n,n),E的最后一个维度的第1维<br>\n",
    "将这个first_elt中no_edge的位置置1,相当于没有边,再赋值给E的最后一个维度的第1维,即在矩阵中编码为[0,1]<br>\n",
    "这又是一个错误,没有边应该编码为[1,0],应该在first_elt时取第0维而不是第1维<br>\n",
    "diag:(bs,n,n)bool类型的对角阵<br>\n",
    "然后用diag将E的对角线元素置0<br>\n",
    "return E\n",
    "\n",
    ">def unnormalize(X, E, y, norm_values, norm_biases, node_mask, collapse=False):<br>\n",
    "对X,E,y进行反归一化,即乘标准差后加均值\n",
    "return PlaceHolder(X=X, E=E, y=y).mask(node_mask, collapse)\n",
    "\n",
    ">def normalize(X, E, y, norm_values, norm_biases, node_mask):<br>\n",
    "对E,y归一化<br>\n",
    "diag:(E.shape[0], E.shape[1], E.shape[1]),其中第1,2维的数组是对角线矩阵,类型为bool<br>\n",
    "将E在diag为True的对应位置(对角线)置0<br>\n",
    "return PlaceHolder(X=X, E=E, y=y).mask(node_mask)\n"
   ]
  },
  {
   "cell_type": "markdown",
   "id": "684681ab",
   "metadata": {},
   "source": [
    "\n",
    "### 2.2 discrete/diffusion_utils.py\n",
    ">class CrossEntropyMetric(Metric):<br>\n",
    "与discrete/models/train_metrics.py中同名的类相同,用于计算交叉熵\n",
    "\n",
    ">class SumExceptBatchMetric(Metric):<br>\n",
    "总和值/样本数,用于算出一个平均值\n",
    "\n",
    ">class SumExceptBatchKL(Metric):<br>\n",
    "用于计算p,q的kl散度的平均值\n",
    "\n",
    ">class NLL(Metric):<br>\n",
    "用于计算batch_nll的平均值\n",
    "\n",
    ">def linear_beta_schedule(timesteps):<br>\n",
    "用于生成 DDPM（Denoising Diffusion Probabilistic Models）中的线性噪声调度（beta schedule）。噪声调度控制着在扩散过程中如何逐步向数据添加噪声，以及在逆过程中如何逐步去噪。<br>\n",
    "返回一个长度为timesteps的等差数列\n",
    "\n",
    ">def cosine_beta_schedule_discrete(timesteps, s=0.008):<br>\n",
    "生成余弦噪声调度，通过余弦函数平滑控制噪声强度<br>\n",
    "返回长度为timesteps+1的噪声,随着时间步增加噪声逐渐增大\n",
    "\n",
    ">def get_diffusion_betas(spec):<br>\n",
    "得到噪声beta,既然有这个函数,上面两个函数基本就没用了<br>\n",
    "spec:dict,其中可以指定噪声类型,有三种类型:linear,cosine,jsd<br>\n",
    "jsd实际上是倒数调度,即1/T,1/(T-1),...1,这与jsd不同.以及他提供的论文DPM使用的二项式扩散过程的调度不同\n",
    "\n",
    ">def custom_beta_schedule_discreteDig(timesteps, average_num_nodes=50, s=0.008):<br>\n",
    "与余弦调度重复\n",
    "\n",
    ">def sample_discrete_max(X, probE, node_mask, test=False):<br>\n",
    "X: bs, n, dx_out<br>\n",
    "probE: bs, n, n, de_out<br>\n",
    "node_mask: bs, n<br>\n",
    "inverse_edge_mask: bs, n, n,根据node_mask获得途中要屏蔽的边并取反, 结果上True表示要屏蔽,False表示不屏蔽<br>\n",
    "diag_mask:bs, n, n,对角线为1的矩阵<br>\n",
    "probE的对角线以及要屏蔽的位置,都置为1/ de_out<br>\n",
    "E_t:(bs, n, n) 元素为probE最后一个维度取最大值的索引,然后把对角线置1\n",
    "return PlaceHolder(X=X, E=E_t, y=None)\n",
    "\n",
    ">def sample_discrete_features(X, probE, node_mask, randomseed=42, test=True):<br>\n",
    "X: bs, n, dx_out<br>\n",
    "probE: bs, n, n, de_out<br>\n",
    "node_mask: bs, n<br>\n",
    "inverse_edge_mask: bs, n, n,根据node_mask获得途中要屏蔽的边并取反, 结果上True表示要屏蔽,False表示不屏蔽<br>\n",
    "diag_mask:bs, n, n,对角线为1的矩阵<br>\n",
    "probE的对角线以及要屏蔽的位置,都置为1/ de_out<br>\n",
    "probE形状改为(bs*n*n,de_out),最后一个维度即为抽样概率<br>\n",
    "抽样后复原形状得到E_t:(bs,n,n),对角线置1<br>\n",
    "return PlaceHolder(X=X, E=E_t, y=None)\n",
    "\n",
    ">def Evaluation(y_true, y_pred, flag=False):<br>\n",
    "y_p,从y_pred转化而来的np数组(n,)<br>\n",
    "y_t,从y_true转化而来的np数组(n,)<br>\n",
    "用y_t,y_p计算AUC<br>\n",
    "用y_t,y_p计算roc曲线,包括:fpr, tpr, thresholds<br>\n",
    "best_threshold = thresholds中令tpr - fpr最大的值<br>\n",
    "用y_t,y_p计算PR曲线,包括:precision,recall,thresholds<br>\n",
    "AUPR = PR曲线下面积<br>\n",
    "AUPR_norm = AUPR / y_t均值(正样本比例)<br>\n",
    "y_p对于大于best_thresholds的部分置1,其余部分置0,从概率分布变成0-1<br>\n",
    "用y_t, y_p计算f1<br>\n",
    "return {'AUC': AUC, 'AUPR': AUPR, 'AUPR_norm': AUPR_norm, 'F1': f1}\n",
    "\n",
    ">def compute_batched_over0_posterior_distribution(X_t, Qt, Qsb, Qtb):<br>\n",
    "对边计算后验分布<br>\n",
    "0,t都是时间步,已知x_t,计算x_0的后验分布的公式:<br>\n",
    "$$\n",
    "\\text{posterior} = \\frac{(X_t \\cdot Q_t^T) \\odot (x_0 \\cdot Q_{sb})}{x_0 \\cdot Q_{tb} \\cdot X_t^T}\n",
    "$$\n",
    "用贝叶斯公式理解,上面的s为t-1时刻:\n",
    "$$\n",
    "\\begin{aligned}\n",
    "p(x_{t-1}|x_{t},x_{0}) &= p(x_{t}|x_{t-1},x_{0})p(x_{t-1}|x_{0})/ p(x_{t}|x_{0})\\\\\n",
    "&= p(x_{t}|x_{t-1})p(x_{t-1}|x_{0})/ p(x_{t}|x_{0})\n",
    "\\end{aligned}\n",
    "$$\n",
    "\n",
    "out输出的形状:(bs, n*n, d0, d_t - 1)<br>\n",
    "其中,n是边数,d0,d_t是0或者t时刻的特征维度\n",
    "\n",
    ">def sample_discrete_feature_noise(X, limit_dist, node_mask, seed=42):<br>\n",
    "X:()<br>\n",
    "node_mask:(bs, n_max)<br>\n",
    "limit_dist:dict<br>\n",
    "e_limit:(bs,n_max,n_max,de)边的分布概率<br>\n",
    "U_E:(bs,n_max,n_max)每条边进行多元分布的采样结果,对角线置1<br>\n",
    "long_mask:将node_mask改为long类型<br>\n",
    "U_E修改为one-hot编码:(bs,n_max,n_max,de)<br>\n",
    "y:(1,0)的空张量<br>\n",
    "return PlaceHolder(X=X, E=U_E, y=y).mask(node_mask)\n",
    "\n",
    ">def delte_dig_from_batch(batchdata):<br>\n",
    "将batchdata的对角线置1然后返回batachdata\n",
    "\n",
    ">def cal_del_TF_edge(GeneName):<br>\n",
    "GeneName是一个包含了调控基因TF和靶基因Gene的list<br>\n",
    "通过查表GRN/TF.txt,将这两者分开,得到他们在GeneName中的索引<br>\n",
    "return GENE_ID_list, TF_ID_list"
   ]
  },
  {
   "cell_type": "markdown",
   "id": "64239a85",
   "metadata": {},
   "source": [
    "### 2.3 discrete/noise_predefined.py\n",
    ">class PredefinedNoiseScheduleDiscrete(torch.nn.Module):\n",
    "一个噪声调度的查找数组\n",
    "1.初始化:\n",
    "betas:噪声调度,不需要梯度更新的张量,有cosine和线性调度两个选择,diffusion_utils.get_diffusion_betas中的jsd调度没有使用到\n",
    "alphas = 1 - betas\n",
    "alphas_bar: alphas的累积乘积\n",
    "2.def forward(self, t_normalized=None, t_int=None):\n",
    "t_normalized,t_int中有且只有一个是None\n",
    "t_normalized:取值0-1的浮点数,时间中的相对位置\n",
    "t_int:整数,时间索引,如果为None,则将t_normalized乘以总步长(timesteps),然后四舍五入取整数\n",
    "返回betas中t_int索引的值\n",
    "return self.betas[t_int.long()]\n",
    "3.def get_alpha_bar(self, t_normalized=None, t_int=None):\n",
    "逻辑与上面相同\n",
    "返回alphas_bar中t_int索引的值\n",
    "return self.alphas_bar[t_int.long()]\n",
    "\n",
    ">class DiscreteUniformTransition:\n",
    "1.初始化\n",
    "E_classes:状态的数量,没有显式的写为2\n",
    "u_e: (1,E_classes,E_classes), 元素全为1/E_classes的矩阵\n",
    "2.def get_Qt(self, beta_t, device):\n",
    "beta_t:(bs,1)\n",
    "q_e是从t-1时刻到t时刻的状态转移矩阵,随着时间t增大,I(原图)的影响变小,u_e(噪声)的影响增大\n",
    "return network_preprocess.PlaceHolder(X=None, E=q_e, y=None)\n",
    "3.def get_Qt_bar(self, alpha_bar_t, device):\n",
    "alpha_bar_t: (bs,1)\n",
    "q_e是从0时刻到t时刻的状态转移矩阵,随着时间t增大,I(原图)的影响变小,u_e(噪声)的影响增大\n",
    "return network_preprocess.PlaceHolder(X=None, E=q_e, y=None)\n",
    "\n",
    ">class MarginalUniformTransition:\n",
    "1.初始化\n",
    "e_marginals:长度为E_classes的张量,状态的数量没有显式的写为2\n",
    "u_e:(1,E_classes,E_classes),元素是由参数传入的,与上面的均匀分布不同\n",
    "2.def get_Qt(self, beta_t, device):与上面的类相同\n",
    "3.def get_Qt_bar(self, alpha_bar_t, device):与上面的类相同\n"
   ]
  },
  {
   "cell_type": "markdown",
   "id": "bb7f79d7",
   "metadata": {},
   "source": [
    "- `discrete/models/`: Graph Transformer architecture\n",
    ">该目录下的graph_transformer.py使用dgl包.图神经网络常用的两个包pyg和dgl,本教程配置环境下载的是pyg,没有dgl,所以这个文件是无法直接运行的.<br>\n",
    "事实上,本文使用的模型都在transformer_model.py文件内,名字和用法不是很匹配.\n",
    "### 2.4 discrete/models/layers.py\n",
    ">class Xtoy(nn.Module):<br>\n",
    "处理节点特征,将平均值,最大值,最小值,标准差的信息结合起来然后通过一个线性层\n",
    "这种特征处理方法叫PNA<br>\n",
    "输入X: (bs, n, dx)<br>\n",
    "输出out: (bs, dy)\n",
    "\n",
    ">class Etoy(nn.Module):<br>\n",
    "处理边的特征,将平均值,最大值,最小值,标准差的信息结合起来然后通过一个线性层<br>\n",
    "输入E: (bs, n, n, de)<br>\n",
    "输出out: (bs, dy)\n",
    "\n",
    ">def masked_softmax(x, mask, **kwargs):<br>\n",
    "掩码mask为0的部分忽略,但是这里似乎有误,如果mask全0,应该对整个张量都忽略(即返回全0张量), 但是原代码会返回原张量<br>\n",
    "掩码后经过一个softmax<br>\n",
    "返回的形状与x相同\n"
   ]
  },
  {
   "cell_type": "markdown",
   "id": "50ee84a8",
   "metadata": {},
   "source": [
    "\n",
    "### 2.5 discrete/models/train_matrics.py\n",
    ">class CrossEntropyMetric(Metric):<br>\n",
    "Metric 是一个抽象基类,用于定义和计算各种评估指标.<br>\n",
    "preds和target:(bs * n, d) or (bs * n * n, d)<br>\n",
    "total_ce 累积交叉熵<br>\n",
    "total_samples 累积样本数量<br>\n",
    "输出: total_ce/total_samples\n",
    "\n",
    ">class NodeMSE(MeanSquaredError),class EdgeMSE(MeanSquaredError):<br>\n",
    "分别是点和边的MSE.MSE用于回归任务,但是对于边似乎是0-1的分类问题,需要进一步分析\n",
    "\n",
    ">class TrainLossDiscrete(nn.Module):<br>\n",
    "1.初始化<br>\n",
    "node_loss,edge_loss,y_loss均为交叉熵损失函数<br>\n",
    "lambda_train是传入参数<br>\n",
    "2.forward(self, masked_pred_E, nosoft_pred_E, true_E, CEloss=False):<br>\n",
    "前向传播过程<br>\n",
    "如果CEloss == True, masked_pred_E赋值为nosoft_pred_E\n",
    "输入--masked_pred_E,true_E:(bs, n, n, de)<br>\n",
    "reshape后--masked_pred_E,true_E:(bs * n * n, de)<br>\n",
    "mask_E:true_E最后一个维度存在不为0的则为True,全0则False,(bs * n * n)<br>\n",
    "masked_pred_E,true_E分别使用mask_E,删掉全为0的行,得到flat_pred_E,flat_true_E:(-1,de)<br>\n",
    "如果CEloss为True,计算flat_pred_E,flat_true_E的交叉熵,否则计算他们的二元交叉熵,得到loss_train<br>\n",
    "return loss_train<br>\n",
    "3.reset(self):<br>\n",
    "每次重置node_loss,edge_loss,y_loss<br>\n",
    "评价:实际计算损失函数用到的是torch库自带的交叉熵和二元交叉熵,初始化定义的node_loss,edge_loss,y_loss没有使用到,意义不明\n",
    "\n",
    "\n",
    "\n",
    ">def weights_init(m):<br>\n",
    "m是神经网络中的层,用xavier初始化attention层的权重,用kaiming初始化其他层(如线性层)的权重,bias初始化为0.关于两种方法见`5.2初始化与激活函数`\n"
   ]
  },
  {
   "cell_type": "markdown",
   "id": "017eb94c",
   "metadata": {},
   "source": [
    "\n",
    "### 2.6 discrete/models/trasformer_model.py\n",
    ">class NodeEdgeBlock(nn.Module):<br>\n",
    "自注意力机制的模块<br>\n",
    "前向传播def forward(self, X, E, y, node_mask):<br>\n",
    "X:(bs, n, d)点<br>\n",
    "E:(bs,n,n,d)边<br>\n",
    "y:(bs,dz)全局特征<br>\n",
    "node_mask:(bs, n)<br>\n",
    "Q,K,V:来自点的特征X<br>\n",
    "Y:通过FiLM技术将边E的信息融合到点X(Q*K)中,关于FiLM技术,具体见5.3节,注意区分中间变量Y和全局特征y<br>\n",
    "newE:通过FiLM技术将全局y的信息融合到Y中<br>\n",
    "attn: Y经过掩码和softmax后,矩阵每一列的和为1<br>\n",
    "weighted_V:将attn作为权重和V相乘,之后按列求和(bs, n, trans_GE)<br>\n",
    "newX:通过FiLM技术将全局y的信息融合到点X(weighted_V)中<br>\n",
    "new_y:X,E,y的信息经过线性层后直接相加<br>\n",
    "return newX, newE, new_y<br>\n",
    "返回形状与输入相同\n",
    "\n",
    ">class Transformer_encoder(nn.Module):<br>\n",
    "前向传播def forward(self, X, E, t, node_mask):<br>\n",
    "self.self_attn = NodeEdgeBlock(trans_GE, trans_E, trans_T, n_head, **kw)即上面定义的自注意力模块,得到newX, newE, new_y<br>\n",
    "对点,边,全局信息分别残差连接(如X + newX)后通过LayerNorm,更新X,E,t<br>\n",
    "再次残差连接,这次是加上线性层(X + self.MLP_GE(X))后通过LayerNorm,更新X,E,t<br>\n",
    "return X, E, t\n",
    "\n",
    ">class DigNetGraphTransformer(nn.Module):<br>\n",
    "前向传播def forward(self, x, edge_attr, t_step, edge_index, ALLedge_index, node_mask, noisy_data):<br>\n",
    "这么多参数中,只有node_mask,noisy_data实际使用到<br>\n",
    "noisy_data是一个字典,从中获得X,E,y<br>\n",
    "diag_mask:(bs,n,n,1)掩码,对角线为False,其余为True<br>\n",
    "after_in:对X,E,y进行MLP和掩码,是一个PlaceHolder类型数据,用它更新X,E,y<br>\n",
    "然后经过多层(层数在初始化时定义)的Transformer_encoder,更新X,E,y<br>\n",
    "输出层还是经过MLP,更新X,E,y<br>\n",
    "E经过diag_mask掩码, 对角线置0<br>\n",
    "return network_preprocess.PlaceHolder(X=X, E=E, y=t).mask(node_mask)"
   ]
  },
  {
   "cell_type": "code",
   "execution_count": 1,
   "id": "391ba4ab",
   "metadata": {},
   "outputs": [
    {
     "data": {
      "text/plain": [
       "tensor([[1., 0., 1., 0.],\n",
       "        [1., 0., 1., 0.],\n",
       "        [1., 0., 1., 0.]])"
      ]
     },
     "execution_count": 1,
     "metadata": {},
     "output_type": "execute_result"
    }
   ],
   "source": [
    "import torch\n",
    "from torch_geometric import utils\n",
    "from torch_geometric.data import Data,Batch\n",
    "a = torch.rand(3,6,9)\n",
    "#utils.dense_to_sparse(torch.ones(3,3))[0].shape\n",
    "x = [[1],[2],[3]]\n",
    "e = [[1,2],[0.3,0.7],[0.4,0.6]]\n",
    "d = Data(x = x, edge_attr = e)\n",
    "b = torch.zeros(3,4,5)\n",
    "b[1,:,:] = 1\n",
    "#b.nonzero(as_tuple = True)\n",
    "#b.nonzero().t().shape\n",
    "torch.tensor([[1, 0]], dtype=torch.float32).repeat(3,2)"
   ]
  },
  {
   "cell_type": "markdown",
   "id": "ce3ad06f",
   "metadata": {},
   "source": [
    "\n",
    "- `denoising_diffusion_pytorch/`: Contains related sub-function files used for training/testing/initializing DigNet\n",
    "该目录下只有一个文件denoising_diffusion_pytorch_1d.py\n",
    "### 2.7 denoising_diffusion_pytorch/denoising_diffusion_pytorch_1d.py\n",
    ">class RowNormalize(nn.Module):<br>\n",
    "对每行用L2范数进行归一化\n",
    "\n",
    "class GaussianDiffusion1D(nn.Module):\n",
    ">初始化def __init__(\n",
    "        self,\n",
    "        model,\n",
    "        *,\n",
    "        edge_percent=0.3,\n",
    "        max_num_nodes=None,\n",
    "        device='cpu',\n",
    "        timesteps = 1000,\n",
    "        sampling_timesteps = None,\n",
    "        loss_type = 'l2',\n",
    "        predflag = 'E_start',\n",
    "        transition='marginal',  # 转移矩阵类型\n",
    "        ddim_sampling_eta=0.,\n",
    "        noise_type='cos',\n",
    "    ):<br>\n",
    "\n",
    ">def noisy_data2data_dense(self, noisy_data, all_edge=True):\n",
    "noisy_data:dict,索引有X_t,E_t<br>\n",
    "data_list_ALL,data_list,两个list用于在接下来的循环中保存data_ALL和data<br>\n",
    "1.循环遍历bs<br>\n",
    "从noisy_data中获得边和点的切片<br>\n",
    "edge_weights:(n,n,de)邻接矩阵<br>\n",
    "node_features:(n,dx)<br>\n",
    "edge_index:(2,n * n),所有边(不管存不存在)的索引,比如第一列为[0,0],第二列为[0,1]...<br>\n",
    "data_ALL:pyg中的Data类,包括x,edge_attr,edge_index,包括所有边(n*n条),不管权重是否为0<br>\n",
    "edge_weights0 = edge_weights[:, :, 0]<br>\n",
    "indices_tensor:(2,x):x是非零的边的数量,找到edge_weight0中所有不为0的边的索引<br>\n",
    "num_edges:不为0的边的数量<br>\n",
    "values_tensor :(num_edges,2),每一行都为[1,0]的张量<br>\n",
    "data:pyg中的Data类,包括x,edge_attr,edge_index,只包括权重不为0的边<br>\n",
    "把data_ALL,data添加到data_list_ALL,data_list中<br>\n",
    "2.<br>\n",
    "batch_ALL:data_list_ALL转换为batch数据<br>\n",
    "batch:data_list转换为batch数据<br>\n",
    "ALLedge_index:(n * n * bs, 2)整个batch_ALL的索引<br>\n",
    "3.<br>\n",
    "如果all_edge为True(默认情况),return batch_ALL, ALLedge_index<br>\n",
    "否则return batch, ALLedge_index<br>\n",
    "\n",
    ">def pred_shape2data(self, pred, noisy_data):<br>\n",
    "pred的形状与noisy_data中的E_t一致:(bs,n,n,c)<br>\n",
    "pred可能是张量(只包含边)或者PlaceHolder(包含点,边,全局),无论是哪种,都返回PlaceHolder<br>\n",
    "return network_preprocess.PlaceHolder(X=pred.X, E=pred.E, y=pred.y)<br>\n",
    "\n",
    ">def loss_fn(self):<br>\n",
    "l1或者l2损失函数,初始化时默认l2损失函数<br>\n",
    "\n",
    ">def compute_posterior_distribution(self, M, M_t, Qt_M, Qsb_M, Qtb_M):<br>\n",
    "计算后验分布,用于扩散模型的反向过程, 即去噪过程<br>\n",
    "M:(bs, N = n*n, d)在下面调用时输入是E,即边的信息<br>\n",
    "M_t:(bs, n*n, d)<br>\n",
    "Qt_M:(bs,d,d)<br>\n",
    "Qsb_M:(bs,d,d)<br>\n",
    "Qt_M_T:(bs,d,d)转置<br>\n",
    "return prob<br>\n",
    "返回后验概率的形状:(bs,N,d)\n",
    "\n",
    ">def posterior_distributions(self, E, E_t, Qt, Qsb, Qtb):<br>\n",
    "用compute_posterior_distribution函数计算边的后验概率prob_E<br>\n",
    "return network_preprocess.PlaceHolder(X=1, E=prob_E, y=None)\n",
    "\n",
    ">def compute_Lt(self, E, pred, noisy_data, node_mask, test=False):<br>\n",
    "pred包含边的数据,noisy_data包含点,边,全局信息<br>\n",
    "pred_probs_E:PlaceHolder类型,点,全局信息来自noisy_data,边来自pred<br>\n",
    "pred_probs_E0:pred_probs_E的副本<br>\n",
    "Qtb:PlaceHolder类型,从noisy_data['alpha_t_bar']获得0到t时刻的alpha_bar<br>\n",
    "Qsb:PlaceHolder类型,从noisy_data['alpha_s_bar']获得0到s时刻的alpha_bar<br>\n",
    "Qt:PlaceHolder类型,从noisy_data['beta_t']获得t-1到t时刻的alpha<br>\n",
    "prob_true:PlaceHolder,用E(干净数据)计算后验概率<br>\n",
    "prob_pred:PlaceHolder,用 pred_probs_E 计算后验概率<br>\n",
    "prob_true_E, prob_pred.E 经过掩码的先验和后验分布\n",
    "这两者计算KL散度,得到kl_e\n",
    "return kl_e, prob_true_E\n",
    "\n",
    ">def vb_terms_bpd(self, E, pred, noisy_data, node_mask):<br>\n",
    "代表变分下界(Variational Lower Bound)，即 ELBO(Evidence Lower Bound).在变分自编码器(VAE)等模型中,VB 是优化目标,用于近似复杂的后验分布.<br>\n",
    "pred包含边的数据,noisy_data包含点,边,全局信息<br>\n",
    "pred_probs_E:(bs, n, n, de)来自pred的信息<br>\n",
    "pred_probs_E0:pred_probs_E的副本<br>\n",
    "Qtb:PlaceHolder类型,从noisy_data['alpha_t_bar']获得0到t时刻的alpha_bar<br>\n",
    "Qsb:PlaceHolder类型,从noisy_data['alpha_s_bar']获得0到t时刻的alpha_bar<br>\n",
    "Qt:PlaceHolder类型,从noisy_data['beta_t']获得t-1到t时刻的alpha<br>\n",
    "prob_true:PlaceHolder,用E(干净数据)计算后验概率<br>\n",
    "prob_pred_t_1:(bs,n*n,d0,d_t-1) 从0到t的后验<br>\n",
    "pred_probs_E 修改形状为(bs, n*n, de)<br>\n",
    "weighted_E:(bs,n*n,d0,d_t-1)以上两项的哈达马积<br>\n",
    "unnormalized_prob_E:(bs, n*n,d_t-1),对weighted_E倒数第二个维度求和,为0的元素改为1e-5<br>\n",
    "prob_E_final:由unnormalized_prob_E得到,最后一个维度和为1,形状改为(bs,n,n,d_t-1)<br>\n",
    "t0mask:(t, 1),bool类型,如果t为0则True,其他False,即时间步t为0的索引<br>\n",
    "对于t0mask的地方(时间步为0的地方), prob_E_final 用pred_probs_E0 覆盖<br>\n",
    "prob_true.E 用 E 覆盖<br>\n",
    "prob_true_E, prob_E_final = self.mask_distributions(true_E=prob_true.E, pred_E=prob_E_final, node_mask=node_mask)<br>\n",
    "loss = self.train_loss(masked_pred_E=prob_E_final, nosoft_pred_E=prob_E_final, true_E=prob_true_E)<br>\n",
    "return loss, prob_E_final, prob_true_E\n",
    "\n",
    ">def loss_xtpxt(self, E, pred, noisy_data, node_mask):<br>\n",
    "vb和ce损失结合得到losses<br>\n",
    "return losses"
   ]
  },
  {
   "cell_type": "markdown",
   "id": "1d8dc230",
   "metadata": {},
   "source": [
    ">def reconstruction_logp(self, X, t, E, node_mask):<br>\n",
    "t:tensor,形状未知<br>\n",
    "beta_0:(bs)从噪声调度中选择t = 0 的值<br>\n",
    "Q0:PlaceHolder,获得0到1时刻的状态转移矩阵<br>\n",
    "probE0:(bs,n,n,de_out)<br>\n",
    "sampled0:PplaceHolder,通过probE0采样,边经过采样的整数,形状是(bs,n,n)<br>\n",
    "E0:sampled0经过one-hot编码,(bs,n,n,de_out)<br>\n",
    "noisy_data = {'X_t': X, 'E_t': sampled_0.E, 'y_t': None, 'node_mask': node_mask,'t_int': torch.zeros(X.shape[0], 1).type_as(E)}<br>\n",
    "用noisy_data获得batch, ALLedge_index<br>\n",
    "time_tensor_tonode:(bs * n)每个元素都是0<br>\n",
    "pred = 通过model得到的预测值<br>\n",
    "probE0:(bs,n,n,de_out),对pred的最后一个维度softmax<br>\n",
    "然后对于矩阵中被掩码的部分,将最后一个维度全置为1(作为均匀分布,为什么不是1/de_out)<br>\n",
    "return network_preprocess.PlaceHolder(X=X, E=probE0, y=None)<br>\n",
    "\n",
    ">def p_losses(self, E, noisy_data, node_mask, loss_method='celoss', calAUC=True):<br>\n",
    "评价:默认的损失函数是交叉熵celoss,没有使用变分下界. 默认calAUC = True,\n",
    "另一种不计算AUC的方法,输出个数不同,可能导致报错,没有被使用.\n",
    "计算E与pred的二元交叉熵,相当于直接比较预测值,\n",
    "与扩散模型中常见的比较噪声的MSE不同.<br>\n",
    "调用上面的函数noisy_data2data_dense(noisy_data, all_edge=False),得到batch, ALLedge_index.\n",
    "E 是干净的原始数据,noisy_data 是加噪声数据<br>\n",
    "batch不含权重为0的边, ALLedge_index则包含所有边的所有索引<br>\n",
    "time_tensor_tonode:(bs*n,?, 1)noisy_data中的t(即全局信息),按batch的索引进行选择,每个batch中有n个点,所以第一个维度是bs * n<br>\n",
    "pred = self.model(batch.x, batch.edge_attr, time_tensor_tonode, batch.edge_index, ALLedge_index, node_mask, n)<br>\n",
    "这个类中没有默认model的值,不过根据传参基本可以确定模型是\n",
    "discrete/models/transformer_model.DigNetGraphTransformer,\n",
    "最后返回的是PlaceHolder类型数据pred<br>\n",
    "mask_pred_probs_E:pred经过掩码<br>\n",
    "mask_pred_probs_ES:pred边的数据,对最后一个维度softmax<br>\n",
    "predflag如果是'E_start'(默认值),target = E,即对原始干净的边预测<br>\n",
    "否则target = noisy_data['E_s']<br>\n",
    "loss:对于变分下界(vb)的损失函数或者交叉熵损失函数<br>\n",
    "1.1  如果calAUC为True<br>\n",
    "E_pred_discrete:(bs,n,n)最后一个维度已经argmax<br>\n",
    "E_true_discrete:(bs,n,n)最后一个维度已经argmax<br>\n",
    "AUC_list:对每个bs保存AUC<br>\n",
    "AUC:AUC_list中的最小值<br>\n",
    "return loss, pred, AUC<br>\n",
    "1.2 如果calAUC为False<br>\n",
    "return loss, pred\n",
    "\n",
    ">def given_pred_to_edge(self, pred, noisy_data, node_mask, predflah2 = 'noweight'):<br>\n",
    "根据后验概率pred采样获得边的预测结果<br>\n",
    "X_t:(bs,n,dx)<br>\n",
    "beta_t:(bs,1)<br>\n",
    "alpha_s_bar:(bs,1)<br>\n",
    "alpha_t_bar:(bs,1)<br>\n",
    "状态转移矩阵<br>\n",
    "Qtb:(bs,E_classes,E_classes)<br>\n",
    "Qsb:(bs,E_classes,E_classes)<br>\n",
    "Qt:(bs,E_classes,E_classes)<br>\n",
    "pred_probs_E:(bs,n,n,d0) 经过采样,最后一个维度one-hot,\n",
    "对角线和mask全为0.他想要的应该是一个概率,为何要one-hot?<br>\n",
    "prob_E_final:(bs,n,n,d_t-1)后验概率分布<br>\n",
    "E_s:(bs,n,n,Edim_output)根据prob_E_final采样的结果,最后一个维度是one-hot<br>\n",
    "return E_s\n",
    "\n",
    ">def apply_noise(self, X, E, y, node_mask,t_int=None):<br>\n",
    "t_int:(bs,1)<br>\n",
    "s_int = t_int - 1, 即s是t的前一时刻,如果t = 0则s = 0<br>\n",
    "t_float:(bs,1),元素为0到1的浮点数,整数时间步占总步长的比例<br>\n",
    "s_float:(bs,1),元素为0到1的浮点数,整数时间步占总步长的比例<br>\n",
    "beta_t,alpha_s_bar,alpha_t_bar:(bs,1),噪音调度<br>\n",
    "Qtb:(bs,E_classes,E_classes)0到t时刻的转移矩阵<br>\n",
    "probE:(bs,n,n,de_out)t时刻的概率分布<br>\n",
    "E_t:(bs,n,n,de_out)t时刻的抽样结果,最后一维one-hot<br>\n",
    "z_t:PlaceHolder<br>\n",
    "对s时刻同样操作得到E_s,z_s<br>\n",
    "将t和s时刻的信息(主要包括时间,beta,alpha,边)放入dict类型的noisy_data中<br>\n",
    "return noisy_data\n",
    "\n",
    ">def mask_distributions(self, true_E, pred_E, node_mask):<br>\n",
    "pred_E:(bs,n,n,de) 把0变成小值,防止数值问题<br>\n",
    "row_E:(de)显式把第1个索引设置成1,即[0,1]<br>\n",
    "true_E,pred_E的最后一个维度都变成[0,1],那刚才对pred_E的处理不是没用了?<br>\n",
    "return true_E, pred_E<br>\n",
    "\n",
    ">def kl_prior(self, X, E, node_mask):<br>\n",
    "据注释,后验 q(z1 | x)和先验 p(z1)的kl散度,在实验中不那么重要,但是能帮助查看噪声调度是否正确.<br>\n",
    "Ts:(bs,1) 全为 T - 1(总时间的前一时刻) <br>\n",
    "Qtb:0到T-1时刻的状态转移矩阵<br>\n",
    "probE:0到T-1时刻的分布矩阵<br>\n",
    "limit_E :(bs,n,n,E_classes)类的初始化时定义的分布概率<br>\n",
    "kl_distance_E:(bs,n,n,E_classes)初始化(先验)的limit_E和后验probE的kl散度<br>\n",
    "return self.sum_except_batch(kl_distance_E)<br>\n",
    "返回形状(bs),对第一个维度以外求和.\n",
    "\n",
    ">def compute_val_loss(self, pred, noisy_data, X, E, node_mask, test=False):<br>\n",
    "变分下界<br>\n",
    "N:(bs)<br>\n",
    "log_pN:(bs)每个batch的节点数量与最大节点数的比值,取对数<br>\n",
    "kl_prior:(bs ) 先验E和加噪声后的分布的kl散度<br>\n",
    "loss_all_t:标量, 扩散的损失, 计算仍然使用kl散度<br>\n",
    "prob0:PlaceHolder通过模型对0时刻的分布进行预测<br>\n",
    "loss_term_0: 0时刻真实值和预测值的交叉熵<br>\n",
    "nlls = -log_pN + kl_prior + loss_all_t - loss_term_0<br>\n",
    "因为上面的对数都是负数,取负号为正.对batch维度求和<br>\n",
    "return nll\n",
    "\n",
    ">def forward(self, data, *args, **kwargs):<br>\n",
    "输入data是Batch类型<br>\n",
    "转换为PlaceHolder类型的dense_data\n",
    "从中获得X,E<br>\n",
    "y是形状(num_graphs,0)的空矩阵, 这里应该有修改的空间<br>\n",
    "noisy_data:dict类型,包含t和t-1时刻的加噪数据<br>\n",
    "loss, pred, AUC计算损失函数<br>\n",
    "return loss, AUC\n",
    "\n",
    ">def validation_step(self, data):<br>\n",
    "在不计算梯度的情况下,计算多种损失的总和,<br>\n",
    "return val_loss\n",
    "\n",
    ">def sample_zt(self, noisy_data):<br>\n",
    "获得t时刻的采样值<br>\n",
    "pred1:t时刻的预测概率<br>\n",
    "E_s1:采样值<br>\n",
    "out_one_hot,out_discrete两者一样,包括了边的采样值<br>\n",
    "return out_one_hot.mask(node_mask).type_as(y_t), out_discrete.mask(node_mask, collapse=False).type_as(y_t)\n",
    "\n",
    ">def sample_p_zs_given_zt(self, s, t, X_t, E_t, y_t, node_mask):<br>\n",
    "t到t-1时刻的采样值<br>\n",
    "noisy_data:仅含t时刻的数据,不含s(t-1)时刻<br>\n",
    "pred:<br>\n",
    "dense2data:该函数不存在,说明这个函数可能有问题,功能与sample_zt几乎相同\n",
    "\n",
    ">sample_zt_for_photo(self, noisy_data):<br>\n",
    "通过模型获得t-1的预测概率pred1,然后采样得到E_s1<br>\n",
    "E_t:(1,51,51,1)预测概率<br>\n",
    "Et_mask:(1,51,51,1) 预测的边<br>\n",
    "out_one_hot,out_discrete:PlaceHolder,都是预测的边<br>\n",
    "photo_data:包含预测概率和预测值<br>\n",
    "return out_one_hot.mask(node_mask).type_as(y_t), out_discrete.mask(node_mask, collapse=False).type_as(y_t), photo_data\n",
    "\n",
    ">def test_step(self, testdata, TrueData=None, show=True, seed=None):<br>\n",
    "testdata只包含一个批次,即bs = 1, 没有bs维度<br>\n",
    "X:(n, dx) n为节点个数<br>\n",
    "dense_X:(1,n_max,dx) 其中n_max (>= n) 是所有批次中最大节点数 <br>\n",
    "node_mask:(1, n_max) 掩码,前n个为True, 后面False<br>\n",
    "z_T:PlaceHolder, 随机采样的结果<br>\n",
    "E,y: z_T中的边和全局信息<br>\n",
    "pbar2:进度条,T-1 到 0 <br>\n",
    "1.对pbar2中的t_int循环:<br>\n",
    "t_array:(1,1)递减的t时刻 <br>\n",
    "s_array:(1,1)递减的t-1时刻,t == 0时和t相等<br>\n",
    "noisy_data:dict,包含t,s时刻的边<br>\n",
    "sampled_s:PlaceHolder,采样值<br>\n",
    "1.1 默认show == True,展示:t, AUC, AUPR, AUPRM<br>\n",
    "all_adj中加入预测值的邻接矩阵<br>\n",
    "2.return sampled_s1.E, all_adj<br>\n",
    "返回最后一个(0时刻)的预测值, 以及所有时刻的预测值\n",
    "\n",
    "\n"
   ]
  },
  {
   "cell_type": "markdown",
   "id": "2a62ad3a",
   "metadata": {},
   "source": [
    "\n",
    "- `config.py`: Configure hyperparameters for training or testing DigNet\n",
    "- `DigNet.py`: Contains the process framework of DigNet\n",
    "主程序"
   ]
  },
  {
   "cell_type": "markdown",
   "id": "a681d3a9",
   "metadata": {},
   "source": [
    "2.8 Dignet.py/class Dignet\n",
    ">def __init__(self, args):<br>\n",
    "初始化的args是从config/config.json下读取\n",
    "\n",
    ">def load_pre_model(self, diffusion_pre):<br>\n",
    "diffusion_pre:dict,含有模型参数和预训练参数<br>\n",
    "从diffusion_pre中读取参数<br>\n",
    "model:DigNetGraphTransformer<br>\n",
    "model 加载预训练参数<br>\n",
    "diffusion:GaussianDiffusion1D<br>\n",
    "return diffusion\n",
    "\n",
    ">def load_pretrained_model(self, diffusion_pre):<br>\n",
    "与load_pre_model相同\n",
    "\n",
    ">def evaluate(self, testdata, truelabel):<br>\n",
    "主要调用GaussianDiffusion1D.test_step<br>\n",
    "return all_adj\n",
    "\n",
    ">def setup_paths(self):<br>\n",
    "如果不存在,创建results_checkpoint/TrainingData文件<br>\n",
    "\n",
    ">def load_test_data(self, test_filename, num, diffusion_pre):<br>\n",
    "获得test_data:Batch<br>\n",
    "truelabel:PlaceHolder<br>\n",
    "trulabel_discrete:(n,n,de)\n",
    "return testdata, truelabel_discrete\n",
    "\n",
    ">def load_data(self, train_filename, n_train=200, n_test=[1000, 1010]):<br>\n",
    "data:Batch<br>\n",
    "edge_percent<br>\n",
    "test_list:每个元素是字典,包含一个测试的图的Data和边<br>\n",
    "train_file = 'result/Training data_BATCH.data'<br>\n",
    "data:Batch,训练数据<br>\n",
    "更新self.data,self.edge_percent,self.test_list\n",
    "\n",
    ">def setup_model(self):<br>\n",
    "设置模型,需要在加载数据之后\n",
    "将加载数据得到的data转换为dataloader\n",
    "train_node:batch中节点数的最大值\n",
    "学习率调度:每100步变为0.95倍\n",
    "\n",
    ">def train(self, train_filename, n_train=200, n_test=[1000, 1010]):\n",
    "加载数据,设置模型\n",
    "1. 遍历epoch:\n",
    "1.1 遍历graph_data_loader:\n",
    "通过扩散模型计算loss, Train_AUC\n",
    "1.2 更新学习率;计算平均值total_loss,total_AUC\n",
    "每10个epoch输出一次平均损失\n",
    "每200个epoch保存一次中间模型checkpoint,results_checkpoint文件夹下\n",
    "每100个epoch进行一次validation,其中计算best_mean_AUC,best_mean_AUC_file,printf,都是在验证集上\n",
    "2. 遍历完所有epoch后保存模型,result文件夹下\n",
    "return self.best_mean_AUC, self.best_mean_AUC_file, self.printf\n",
    "\n",
    ">def test(self, diffusion_pre, testdata, truelabel=None):\n",
    "加载训练过的模型\n",
    "多进程进行训练,评估结果保存到all_adj_list = []\n",
    "adj_final:\n",
    "return adj_final\n",
    "\n",
    "def evaluation(self, adj_final, truelabel):\n",
    "输出diffusion_utils.Evaluation的结果performance\n",
    "return performance\n",
    "\n",
    "def save_model(self, filename):\n",
    "用于保存checkpoint和最终模型\n",
    "\n",
    "def validation(self, epoch):\n",
    "在第epoch次,对验证集评估\n",
    "输出AUC,AUPR,AUPRM,F1\n",
    "如果AUC比以前更高,更新self.best_mean_AUC,self.best_mean_AUC_file\n",
    "\n",
    "2.9 DigNet.py/main\n",
    "1.1 输入表达谱和GRN\n",
    "\n",
    "1.2 只输入表达谱"
   ]
  },
  {
   "cell_type": "markdown",
   "id": "0afbbb1f",
   "metadata": {},
   "source": [
    "- `Download_TF_file.py`: used to download TF list\n",
    "- `make_final_net.py`: Integrated voting sub-function\n",
    "- `Tutorial.py`: A quick tutorial for using DigNet"
   ]
  },
  {
   "cell_type": "markdown",
   "id": "bb29d204",
   "metadata": {},
   "source": [
    "## 3.复现代码\n",
    "\n",
    "### 3.1 pathway/pathway.py"
   ]
  },
  {
   "cell_type": "markdown",
   "id": "54251eca",
   "metadata": {},
   "source": [
    "pathway/pathway.py中的主程序\n",
    "功能:创建data类型和mat类型的数据,保存在Cancer_datasets文件夹下\n",
    "有两种移除边的方式,1.基于先验知识(查表) 2.基于cmi\n",
    "增加输出判断采用了哪种方式, 发现所有文件都使用了cmi,但是有以下两个问题\n",
    "1. 计算cmi时,使用离散化而非连续化数据, 但是又假设是多元正态分布\n",
    "2. 删除边的两种方式得到的边数用0.5进行比较而不是1,这样选边较少的图几乎完全会选第二种cmi方法"
   ]
  },
  {
   "cell_type": "code",
   "execution_count": 1,
   "id": "d9789d06",
   "metadata": {},
   "outputs": [],
   "source": [
    "import scipy.io\n",
    "from torch_geometric.data import Data, Batch\n",
    "import numpy as np\n",
    "import pickle\n",
    "import torch\n",
    "from sklearn.preprocessing import MinMaxScaler, StandardScaler\n",
    "import pandas as pd\n",
    "import os\n",
    "from tqdm import tqdm\n",
    "import subprocess\n",
    "from sklearn.decomposition import PCA\n",
    "import scipy.io as sio\n",
    "from sklearn.metrics import mutual_info_score\n",
    "from sklearn.neighbors import NearestNeighbors\n",
    "import random\n",
    "import networkx as nx\n",
    "import seaborn as sns\n",
    "import matplotlib.pyplot as plt\n",
    "from discrete.diffusion_utils import cal_del_TF_edge\n",
    "from pathway.PCA_CMI import pca_cmi\n",
    "from pathway.pathway import *\n",
    "import powerlaw\n",
    "from tqdm import tqdm"
   ]
  },
  {
   "cell_type": "code",
   "execution_count": 2,
   "id": "74fe8dee",
   "metadata": {},
   "outputs": [],
   "source": [
    "celllist = [\"T_cell\", \"B_cell\", \"Cancer\"]\n",
    "filelist = [33,39,42,53,60]\n",
    "# 此处根据修改Cancer_datasets中的文件修改,只做其中几个用于展示\n",
    "test_pathway = 'hsa05224'\n",
    "Cnum = 100\n",
    "k = 20\n",
    "KEGG = load_KEGG()\n",
    "# KEGG是dict,每一个key对应多个基因名\n",
    "Regnetwork_path = 'pathway/Regnetwork/2022.human.source'\n",
    "dtypes = {1: str, 3: str}\n",
    "\n",
    "#设置一个用于测试的文件路径\n",
    "filepath = 'Cancer_Datasets/S33_Cancer_BRCA_output.csv'\n",
    "\n",
    "# 第1,3列是数字,此处强行要求识别成字符串\n",
    "human_network = pd.read_csv(Regnetwork_path, sep='\\t', header=None, dtype=dtypes)\n",
    "# human_network是DataFrame,共4列,第0,2列分别是调控基因TF,靶基因Gene\n",
    "metacell = False"
   ]
  },
  {
   "cell_type": "code",
   "execution_count": 4,
   "id": "1651ce03",
   "metadata": {},
   "outputs": [
    {
     "data": {
      "text/html": [
       "<div>\n",
       "<style scoped>\n",
       "    .dataframe tbody tr th:only-of-type {\n",
       "        vertical-align: middle;\n",
       "    }\n",
       "\n",
       "    .dataframe tbody tr th {\n",
       "        vertical-align: top;\n",
       "    }\n",
       "\n",
       "    .dataframe thead th {\n",
       "        text-align: right;\n",
       "    }\n",
       "</style>\n",
       "<table border=\"1\" class=\"dataframe\">\n",
       "  <thead>\n",
       "    <tr style=\"text-align: right;\">\n",
       "      <th></th>\n",
       "      <th>0</th>\n",
       "      <th>1</th>\n",
       "      <th>2</th>\n",
       "      <th>3</th>\n",
       "    </tr>\n",
       "  </thead>\n",
       "  <tbody>\n",
       "    <tr>\n",
       "      <th>0</th>\n",
       "      <td>ALDOA</td>\n",
       "      <td>226</td>\n",
       "      <td>FBP1</td>\n",
       "      <td>2203</td>\n",
       "    </tr>\n",
       "    <tr>\n",
       "      <th>1</th>\n",
       "      <td>ALDOB</td>\n",
       "      <td>229</td>\n",
       "      <td>FBP1</td>\n",
       "      <td>2203</td>\n",
       "    </tr>\n",
       "    <tr>\n",
       "      <th>2</th>\n",
       "      <td>ALDOC</td>\n",
       "      <td>230</td>\n",
       "      <td>FBP1</td>\n",
       "      <td>2203</td>\n",
       "    </tr>\n",
       "    <tr>\n",
       "      <th>3</th>\n",
       "      <td>ALDH2</td>\n",
       "      <td>217</td>\n",
       "      <td>ADH1A</td>\n",
       "      <td>124</td>\n",
       "    </tr>\n",
       "    <tr>\n",
       "      <th>4</th>\n",
       "      <td>ALDH1B1</td>\n",
       "      <td>219</td>\n",
       "      <td>ADH1A</td>\n",
       "      <td>124</td>\n",
       "    </tr>\n",
       "  </tbody>\n",
       "</table>\n",
       "</div>"
      ],
      "text/plain": [
       "         0    1      2     3\n",
       "0    ALDOA  226   FBP1  2203\n",
       "1    ALDOB  229   FBP1  2203\n",
       "2    ALDOC  230   FBP1  2203\n",
       "3    ALDH2  217  ADH1A   124\n",
       "4  ALDH1B1  219  ADH1A   124"
      ]
     },
     "execution_count": 4,
     "metadata": {},
     "output_type": "execute_result"
    }
   ],
   "source": [
    "human_network.head()"
   ]
  },
  {
   "cell_type": "code",
   "execution_count": null,
   "id": "6c012e8e",
   "metadata": {},
   "outputs": [
    {
     "data": {
      "text/plain": [
       "['ESR1',\n",
       " 'ESR2',\n",
       " 'NCOA1',\n",
       " 'NCOA3',\n",
       " 'FOS',\n",
       " 'JUN',\n",
       " 'SP1',\n",
       " 'CCND1',\n",
       " 'MYC',\n",
       " 'PGR',\n",
       " 'WNT1',\n",
       " 'WNT4',\n",
       " 'TNFSF11',\n",
       " 'ERBB2',\n",
       " 'FGF1',\n",
       " 'FGF2',\n",
       " 'FGF3',\n",
       " 'FGF4',\n",
       " 'FGF17',\n",
       " 'FGF6',\n",
       " 'FGF7',\n",
       " 'FGF8',\n",
       " 'FGF9',\n",
       " 'FGF10',\n",
       " 'FGF16',\n",
       " 'FGF5',\n",
       " 'FGF18',\n",
       " 'FGF20',\n",
       " 'FGF22',\n",
       " 'FGF19',\n",
       " 'FGF21',\n",
       " 'FGF23',\n",
       " 'FGFR1',\n",
       " 'IGF1',\n",
       " 'IGF1R',\n",
       " 'EGF',\n",
       " 'EGFR',\n",
       " 'KIT',\n",
       " 'SHC1',\n",
       " 'SHC2',\n",
       " 'SHC3',\n",
       " 'SHC4',\n",
       " 'GRB2',\n",
       " 'SOS1',\n",
       " 'SOS2',\n",
       " 'HRAS',\n",
       " 'KRAS',\n",
       " 'NRAS',\n",
       " 'ARAF',\n",
       " 'BRAF',\n",
       " 'RAF1',\n",
       " 'MAP2K1',\n",
       " 'MAP2K2',\n",
       " 'MAPK1',\n",
       " 'MAPK3',\n",
       " 'PIK3CA',\n",
       " 'PIK3CD',\n",
       " 'PIK3CB',\n",
       " 'PIK3R1',\n",
       " 'PIK3R2',\n",
       " 'PIK3R3',\n",
       " 'PTEN',\n",
       " 'AKT1',\n",
       " 'AKT2',\n",
       " 'AKT3',\n",
       " 'MTOR',\n",
       " 'RPS6KB1',\n",
       " 'RPS6KB2',\n",
       " 'JAG1',\n",
       " 'JAG2',\n",
       " 'DLL3',\n",
       " 'DLL1',\n",
       " 'DLL4',\n",
       " 'NOTCH1',\n",
       " 'NOTCH2',\n",
       " 'NOTCH3',\n",
       " 'NOTCH4',\n",
       " 'HES1',\n",
       " 'HES5',\n",
       " 'HEYL',\n",
       " 'HEY1',\n",
       " 'HEY2',\n",
       " 'FLT4',\n",
       " 'CDKN1A',\n",
       " 'NFKB2',\n",
       " 'WNT2',\n",
       " 'WNT2B',\n",
       " 'WNT3',\n",
       " 'WNT3A',\n",
       " 'WNT5A',\n",
       " 'WNT5B',\n",
       " 'WNT6',\n",
       " 'WNT7A',\n",
       " 'WNT7B',\n",
       " 'WNT8A',\n",
       " 'WNT8B',\n",
       " 'WNT9A',\n",
       " 'WNT9B',\n",
       " 'WNT10B',\n",
       " 'WNT10A',\n",
       " 'WNT11',\n",
       " 'WNT16',\n",
       " 'FZD1',\n",
       " 'FZD7',\n",
       " 'FZD2',\n",
       " 'FZD3',\n",
       " 'FZD4',\n",
       " 'FZD5',\n",
       " 'FZD8',\n",
       " 'FZD6',\n",
       " 'FZD10',\n",
       " 'FZD9',\n",
       " 'LRP5',\n",
       " 'LRP6',\n",
       " 'DVL3',\n",
       " 'DVL2',\n",
       " 'DVL1',\n",
       " 'FRAT1',\n",
       " 'FRAT2',\n",
       " 'GSK3B',\n",
       " 'AXIN1',\n",
       " 'AXIN2',\n",
       " 'APC',\n",
       " 'APC2',\n",
       " 'CTNNB1',\n",
       " 'CSNK1A1L',\n",
       " 'CSNK1A1',\n",
       " 'TCF7',\n",
       " 'TCF7L1',\n",
       " 'TCF7L2',\n",
       " 'LEF1',\n",
       " 'TP53',\n",
       " 'GADD45A',\n",
       " 'GADD45B',\n",
       " 'GADD45G',\n",
       " 'BAX',\n",
       " 'BAK1',\n",
       " 'DDB2',\n",
       " 'POLK',\n",
       " 'CDK4',\n",
       " 'CDK6',\n",
       " 'RB1',\n",
       " 'E2F1',\n",
       " 'E2F2',\n",
       " 'E2F3',\n",
       " 'BRCA1',\n",
       " 'BRCA2']"
      ]
     },
     "execution_count": 5,
     "metadata": {},
     "output_type": "execute_result"
    }
   ],
   "source": [
    "# KEGG,dict,每一个key对应一个含若干基因的list\n",
    "KEGG['hsa05224']"
   ]
  },
  {
   "cell_type": "code",
   "execution_count": 3,
   "id": "e2a282bb",
   "metadata": {},
   "outputs": [
    {
     "data": {
      "text/html": [
       "<div>\n",
       "<style scoped>\n",
       "    .dataframe tbody tr th:only-of-type {\n",
       "        vertical-align: middle;\n",
       "    }\n",
       "\n",
       "    .dataframe tbody tr th {\n",
       "        vertical-align: top;\n",
       "    }\n",
       "\n",
       "    .dataframe thead th {\n",
       "        text-align: right;\n",
       "    }\n",
       "</style>\n",
       "<table border=\"1\" class=\"dataframe\">\n",
       "  <thead>\n",
       "    <tr style=\"text-align: right;\">\n",
       "      <th></th>\n",
       "      <th>Unnamed: 0</th>\n",
       "      <th>sc5rJUQ033_AAAGATGAGTTTCCTT</th>\n",
       "      <th>sc5rJUQ033_AAAGATGGTGGCCCTA</th>\n",
       "      <th>sc5rJUQ033_AAAGTAGTCCCTCAGT</th>\n",
       "      <th>sc5rJUQ033_AAATGCCGTCAGCTAT</th>\n",
       "      <th>sc5rJUQ033_AACACGTTCCGAAGAG</th>\n",
       "      <th>sc5rJUQ033_AACTTTCGTTCGGCAC</th>\n",
       "      <th>sc5rJUQ033_AAGACCTGTAAACACA</th>\n",
       "      <th>sc5rJUQ033_AAGGAGCAGTGAAGTT</th>\n",
       "      <th>sc5rJUQ033_AATCGGTTCTTGTTTG</th>\n",
       "      <th>...</th>\n",
       "      <th>sc5rJUQ033_TTATGCTTCTCTTATG</th>\n",
       "      <th>sc5rJUQ033_TTCCCAGGTGGGTCAA</th>\n",
       "      <th>sc5rJUQ033_TTCGGTCAGGGTGTGT</th>\n",
       "      <th>sc5rJUQ033_TTCGGTCTCATTCACT</th>\n",
       "      <th>sc5rJUQ033_TTCTACATCTGTTTGT</th>\n",
       "      <th>sc5rJUQ033_TTCTCAATCTTTACGT</th>\n",
       "      <th>sc5rJUQ033_TTTACTGCACCAGGTC</th>\n",
       "      <th>sc5rJUQ033_TTTATGCCACCTTGTC</th>\n",
       "      <th>sc5rJUQ033_TTTCCTCAGATCTGAA</th>\n",
       "      <th>sc5rJUQ033_TTTGGTTGTAAGAGAG</th>\n",
       "    </tr>\n",
       "  </thead>\n",
       "  <tbody>\n",
       "    <tr>\n",
       "      <th>0</th>\n",
       "      <td>FO538757.2</td>\n",
       "      <td>0.953</td>\n",
       "      <td>1.420</td>\n",
       "      <td>1.441</td>\n",
       "      <td>1.465</td>\n",
       "      <td>0.716</td>\n",
       "      <td>0.466</td>\n",
       "      <td>0.777</td>\n",
       "      <td>0.490</td>\n",
       "      <td>1.198</td>\n",
       "      <td>...</td>\n",
       "      <td>1.682</td>\n",
       "      <td>0.823</td>\n",
       "      <td>0.788</td>\n",
       "      <td>1.228</td>\n",
       "      <td>2.305</td>\n",
       "      <td>1.485</td>\n",
       "      <td>1.119</td>\n",
       "      <td>0.996</td>\n",
       "      <td>2.284</td>\n",
       "      <td>1.469</td>\n",
       "    </tr>\n",
       "    <tr>\n",
       "      <th>1</th>\n",
       "      <td>RP11-206L10.9</td>\n",
       "      <td>0.188</td>\n",
       "      <td>0.246</td>\n",
       "      <td>0.189</td>\n",
       "      <td>0.188</td>\n",
       "      <td>0.179</td>\n",
       "      <td>0.193</td>\n",
       "      <td>0.299</td>\n",
       "      <td>0.187</td>\n",
       "      <td>0.192</td>\n",
       "      <td>...</td>\n",
       "      <td>0.194</td>\n",
       "      <td>0.190</td>\n",
       "      <td>0.195</td>\n",
       "      <td>0.239</td>\n",
       "      <td>0.196</td>\n",
       "      <td>0.191</td>\n",
       "      <td>0.183</td>\n",
       "      <td>0.198</td>\n",
       "      <td>0.191</td>\n",
       "      <td>0.188</td>\n",
       "    </tr>\n",
       "    <tr>\n",
       "      <th>2</th>\n",
       "      <td>NOC2L</td>\n",
       "      <td>0.522</td>\n",
       "      <td>0.428</td>\n",
       "      <td>0.426</td>\n",
       "      <td>0.422</td>\n",
       "      <td>0.384</td>\n",
       "      <td>0.441</td>\n",
       "      <td>0.422</td>\n",
       "      <td>0.415</td>\n",
       "      <td>0.540</td>\n",
       "      <td>...</td>\n",
       "      <td>0.548</td>\n",
       "      <td>0.427</td>\n",
       "      <td>0.449</td>\n",
       "      <td>0.408</td>\n",
       "      <td>0.455</td>\n",
       "      <td>0.434</td>\n",
       "      <td>0.496</td>\n",
       "      <td>0.461</td>\n",
       "      <td>0.533</td>\n",
       "      <td>0.419</td>\n",
       "    </tr>\n",
       "    <tr>\n",
       "      <th>3</th>\n",
       "      <td>PLEKHN1</td>\n",
       "      <td>0.133</td>\n",
       "      <td>0.140</td>\n",
       "      <td>0.137</td>\n",
       "      <td>0.441</td>\n",
       "      <td>0.103</td>\n",
       "      <td>0.154</td>\n",
       "      <td>0.133</td>\n",
       "      <td>0.127</td>\n",
       "      <td>0.148</td>\n",
       "      <td>...</td>\n",
       "      <td>1.234</td>\n",
       "      <td>0.139</td>\n",
       "      <td>0.164</td>\n",
       "      <td>0.121</td>\n",
       "      <td>0.171</td>\n",
       "      <td>0.146</td>\n",
       "      <td>0.380</td>\n",
       "      <td>0.180</td>\n",
       "      <td>0.469</td>\n",
       "      <td>0.131</td>\n",
       "    </tr>\n",
       "    <tr>\n",
       "      <th>4</th>\n",
       "      <td>HES4</td>\n",
       "      <td>1.554</td>\n",
       "      <td>1.122</td>\n",
       "      <td>3.421</td>\n",
       "      <td>1.696</td>\n",
       "      <td>0.783</td>\n",
       "      <td>0.997</td>\n",
       "      <td>1.927</td>\n",
       "      <td>1.395</td>\n",
       "      <td>0.720</td>\n",
       "      <td>...</td>\n",
       "      <td>3.388</td>\n",
       "      <td>1.720</td>\n",
       "      <td>0.974</td>\n",
       "      <td>0.737</td>\n",
       "      <td>3.660</td>\n",
       "      <td>1.437</td>\n",
       "      <td>1.215</td>\n",
       "      <td>0.865</td>\n",
       "      <td>0.918</td>\n",
       "      <td>1.065</td>\n",
       "    </tr>\n",
       "  </tbody>\n",
       "</table>\n",
       "<p>5 rows × 246 columns</p>\n",
       "</div>"
      ],
      "text/plain": [
       "      Unnamed: 0  sc5rJUQ033_AAAGATGAGTTTCCTT  sc5rJUQ033_AAAGATGGTGGCCCTA  \\\n",
       "0     FO538757.2                        0.953                        1.420   \n",
       "1  RP11-206L10.9                        0.188                        0.246   \n",
       "2          NOC2L                        0.522                        0.428   \n",
       "3        PLEKHN1                        0.133                        0.140   \n",
       "4           HES4                        1.554                        1.122   \n",
       "\n",
       "   sc5rJUQ033_AAAGTAGTCCCTCAGT  sc5rJUQ033_AAATGCCGTCAGCTAT  \\\n",
       "0                        1.441                        1.465   \n",
       "1                        0.189                        0.188   \n",
       "2                        0.426                        0.422   \n",
       "3                        0.137                        0.441   \n",
       "4                        3.421                        1.696   \n",
       "\n",
       "   sc5rJUQ033_AACACGTTCCGAAGAG  sc5rJUQ033_AACTTTCGTTCGGCAC  \\\n",
       "0                        0.716                        0.466   \n",
       "1                        0.179                        0.193   \n",
       "2                        0.384                        0.441   \n",
       "3                        0.103                        0.154   \n",
       "4                        0.783                        0.997   \n",
       "\n",
       "   sc5rJUQ033_AAGACCTGTAAACACA  sc5rJUQ033_AAGGAGCAGTGAAGTT  \\\n",
       "0                        0.777                        0.490   \n",
       "1                        0.299                        0.187   \n",
       "2                        0.422                        0.415   \n",
       "3                        0.133                        0.127   \n",
       "4                        1.927                        1.395   \n",
       "\n",
       "   sc5rJUQ033_AATCGGTTCTTGTTTG  ...  sc5rJUQ033_TTATGCTTCTCTTATG  \\\n",
       "0                        1.198  ...                        1.682   \n",
       "1                        0.192  ...                        0.194   \n",
       "2                        0.540  ...                        0.548   \n",
       "3                        0.148  ...                        1.234   \n",
       "4                        0.720  ...                        3.388   \n",
       "\n",
       "   sc5rJUQ033_TTCCCAGGTGGGTCAA  sc5rJUQ033_TTCGGTCAGGGTGTGT  \\\n",
       "0                        0.823                        0.788   \n",
       "1                        0.190                        0.195   \n",
       "2                        0.427                        0.449   \n",
       "3                        0.139                        0.164   \n",
       "4                        1.720                        0.974   \n",
       "\n",
       "   sc5rJUQ033_TTCGGTCTCATTCACT  sc5rJUQ033_TTCTACATCTGTTTGT  \\\n",
       "0                        1.228                        2.305   \n",
       "1                        0.239                        0.196   \n",
       "2                        0.408                        0.455   \n",
       "3                        0.121                        0.171   \n",
       "4                        0.737                        3.660   \n",
       "\n",
       "   sc5rJUQ033_TTCTCAATCTTTACGT  sc5rJUQ033_TTTACTGCACCAGGTC  \\\n",
       "0                        1.485                        1.119   \n",
       "1                        0.191                        0.183   \n",
       "2                        0.434                        0.496   \n",
       "3                        0.146                        0.380   \n",
       "4                        1.437                        1.215   \n",
       "\n",
       "   sc5rJUQ033_TTTATGCCACCTTGTC  sc5rJUQ033_TTTCCTCAGATCTGAA  \\\n",
       "0                        0.996                        2.284   \n",
       "1                        0.198                        0.191   \n",
       "2                        0.461                        0.533   \n",
       "3                        0.180                        0.469   \n",
       "4                        0.865                        0.918   \n",
       "\n",
       "   sc5rJUQ033_TTTGGTTGTAAGAGAG  \n",
       "0                        1.469  \n",
       "1                        0.188  \n",
       "2                        0.419  \n",
       "3                        0.131  \n",
       "4                        1.065  \n",
       "\n",
       "[5 rows x 246 columns]"
      ]
     },
     "execution_count": 3,
     "metadata": {},
     "output_type": "execute_result"
    }
   ],
   "source": [
    "BRCA_exp_filter_saver = pd.read_csv('Cancer_Datasets/S33_Cancer_BRCA_output.csv')\n",
    "\n",
    "BRCA_exp_filter_saver.head()\n",
    "# BRCA_exp_filter_saver的形状:(基因个数,细胞个数)"
   ]
  },
  {
   "cell_type": "code",
   "execution_count": 4,
   "id": "38a3626b",
   "metadata": {},
   "outputs": [
    {
     "data": {
      "text/html": [
       "<div>\n",
       "<style scoped>\n",
       "    .dataframe tbody tr th:only-of-type {\n",
       "        vertical-align: middle;\n",
       "    }\n",
       "\n",
       "    .dataframe tbody tr th {\n",
       "        vertical-align: top;\n",
       "    }\n",
       "\n",
       "    .dataframe thead th {\n",
       "        text-align: right;\n",
       "    }\n",
       "</style>\n",
       "<table border=\"1\" class=\"dataframe\">\n",
       "  <thead>\n",
       "    <tr style=\"text-align: right;\">\n",
       "      <th></th>\n",
       "      <th>sc5rJUQ033_AAAGATGAGTTTCCTT</th>\n",
       "      <th>sc5rJUQ033_AAAGATGGTGGCCCTA</th>\n",
       "      <th>sc5rJUQ033_AAAGTAGTCCCTCAGT</th>\n",
       "      <th>sc5rJUQ033_AAATGCCGTCAGCTAT</th>\n",
       "      <th>sc5rJUQ033_AACACGTTCCGAAGAG</th>\n",
       "      <th>sc5rJUQ033_AACTTTCGTTCGGCAC</th>\n",
       "      <th>sc5rJUQ033_AAGACCTGTAAACACA</th>\n",
       "      <th>sc5rJUQ033_AAGGAGCAGTGAAGTT</th>\n",
       "      <th>sc5rJUQ033_AATCGGTTCTTGTTTG</th>\n",
       "      <th>sc5rJUQ033_ACAGCTAAGGGTCGAT</th>\n",
       "      <th>...</th>\n",
       "      <th>sc5rJUQ033_TTATGCTTCTCTTATG</th>\n",
       "      <th>sc5rJUQ033_TTCCCAGGTGGGTCAA</th>\n",
       "      <th>sc5rJUQ033_TTCGGTCAGGGTGTGT</th>\n",
       "      <th>sc5rJUQ033_TTCGGTCTCATTCACT</th>\n",
       "      <th>sc5rJUQ033_TTCTACATCTGTTTGT</th>\n",
       "      <th>sc5rJUQ033_TTCTCAATCTTTACGT</th>\n",
       "      <th>sc5rJUQ033_TTTACTGCACCAGGTC</th>\n",
       "      <th>sc5rJUQ033_TTTATGCCACCTTGTC</th>\n",
       "      <th>sc5rJUQ033_TTTCCTCAGATCTGAA</th>\n",
       "      <th>sc5rJUQ033_TTTGGTTGTAAGAGAG</th>\n",
       "    </tr>\n",
       "    <tr>\n",
       "      <th>Unnamed: 0</th>\n",
       "      <th></th>\n",
       "      <th></th>\n",
       "      <th></th>\n",
       "      <th></th>\n",
       "      <th></th>\n",
       "      <th></th>\n",
       "      <th></th>\n",
       "      <th></th>\n",
       "      <th></th>\n",
       "      <th></th>\n",
       "      <th></th>\n",
       "      <th></th>\n",
       "      <th></th>\n",
       "      <th></th>\n",
       "      <th></th>\n",
       "      <th></th>\n",
       "      <th></th>\n",
       "      <th></th>\n",
       "      <th></th>\n",
       "      <th></th>\n",
       "      <th></th>\n",
       "    </tr>\n",
       "  </thead>\n",
       "  <tbody>\n",
       "    <tr>\n",
       "      <th>FO538757.2</th>\n",
       "      <td>0.953</td>\n",
       "      <td>1.420</td>\n",
       "      <td>1.441</td>\n",
       "      <td>1.465</td>\n",
       "      <td>0.716</td>\n",
       "      <td>0.466</td>\n",
       "      <td>0.777</td>\n",
       "      <td>0.490</td>\n",
       "      <td>1.198</td>\n",
       "      <td>0.945</td>\n",
       "      <td>...</td>\n",
       "      <td>1.682</td>\n",
       "      <td>0.823</td>\n",
       "      <td>0.788</td>\n",
       "      <td>1.228</td>\n",
       "      <td>2.305</td>\n",
       "      <td>1.485</td>\n",
       "      <td>1.119</td>\n",
       "      <td>0.996</td>\n",
       "      <td>2.284</td>\n",
       "      <td>1.469</td>\n",
       "    </tr>\n",
       "    <tr>\n",
       "      <th>RP11-206L10.9</th>\n",
       "      <td>0.188</td>\n",
       "      <td>0.246</td>\n",
       "      <td>0.189</td>\n",
       "      <td>0.188</td>\n",
       "      <td>0.179</td>\n",
       "      <td>0.193</td>\n",
       "      <td>0.299</td>\n",
       "      <td>0.187</td>\n",
       "      <td>0.192</td>\n",
       "      <td>0.246</td>\n",
       "      <td>...</td>\n",
       "      <td>0.194</td>\n",
       "      <td>0.190</td>\n",
       "      <td>0.195</td>\n",
       "      <td>0.239</td>\n",
       "      <td>0.196</td>\n",
       "      <td>0.191</td>\n",
       "      <td>0.183</td>\n",
       "      <td>0.198</td>\n",
       "      <td>0.191</td>\n",
       "      <td>0.188</td>\n",
       "    </tr>\n",
       "    <tr>\n",
       "      <th>NOC2L</th>\n",
       "      <td>0.522</td>\n",
       "      <td>0.428</td>\n",
       "      <td>0.426</td>\n",
       "      <td>0.422</td>\n",
       "      <td>0.384</td>\n",
       "      <td>0.441</td>\n",
       "      <td>0.422</td>\n",
       "      <td>0.415</td>\n",
       "      <td>0.540</td>\n",
       "      <td>0.531</td>\n",
       "      <td>...</td>\n",
       "      <td>0.548</td>\n",
       "      <td>0.427</td>\n",
       "      <td>0.449</td>\n",
       "      <td>0.408</td>\n",
       "      <td>0.455</td>\n",
       "      <td>0.434</td>\n",
       "      <td>0.496</td>\n",
       "      <td>0.461</td>\n",
       "      <td>0.533</td>\n",
       "      <td>0.419</td>\n",
       "    </tr>\n",
       "    <tr>\n",
       "      <th>PLEKHN1</th>\n",
       "      <td>0.133</td>\n",
       "      <td>0.140</td>\n",
       "      <td>0.137</td>\n",
       "      <td>0.441</td>\n",
       "      <td>0.103</td>\n",
       "      <td>0.154</td>\n",
       "      <td>0.133</td>\n",
       "      <td>0.127</td>\n",
       "      <td>0.148</td>\n",
       "      <td>0.141</td>\n",
       "      <td>...</td>\n",
       "      <td>1.234</td>\n",
       "      <td>0.139</td>\n",
       "      <td>0.164</td>\n",
       "      <td>0.121</td>\n",
       "      <td>0.171</td>\n",
       "      <td>0.146</td>\n",
       "      <td>0.380</td>\n",
       "      <td>0.180</td>\n",
       "      <td>0.469</td>\n",
       "      <td>0.131</td>\n",
       "    </tr>\n",
       "    <tr>\n",
       "      <th>HES4</th>\n",
       "      <td>1.554</td>\n",
       "      <td>1.122</td>\n",
       "      <td>3.421</td>\n",
       "      <td>1.696</td>\n",
       "      <td>0.783</td>\n",
       "      <td>0.997</td>\n",
       "      <td>1.927</td>\n",
       "      <td>1.395</td>\n",
       "      <td>0.720</td>\n",
       "      <td>1.337</td>\n",
       "      <td>...</td>\n",
       "      <td>3.388</td>\n",
       "      <td>1.720</td>\n",
       "      <td>0.974</td>\n",
       "      <td>0.737</td>\n",
       "      <td>3.660</td>\n",
       "      <td>1.437</td>\n",
       "      <td>1.215</td>\n",
       "      <td>0.865</td>\n",
       "      <td>0.918</td>\n",
       "      <td>1.065</td>\n",
       "    </tr>\n",
       "  </tbody>\n",
       "</table>\n",
       "<p>5 rows × 245 columns</p>\n",
       "</div>"
      ],
      "text/plain": [
       "               sc5rJUQ033_AAAGATGAGTTTCCTT  sc5rJUQ033_AAAGATGGTGGCCCTA  \\\n",
       "Unnamed: 0                                                                \n",
       "FO538757.2                           0.953                        1.420   \n",
       "RP11-206L10.9                        0.188                        0.246   \n",
       "NOC2L                                0.522                        0.428   \n",
       "PLEKHN1                              0.133                        0.140   \n",
       "HES4                                 1.554                        1.122   \n",
       "\n",
       "               sc5rJUQ033_AAAGTAGTCCCTCAGT  sc5rJUQ033_AAATGCCGTCAGCTAT  \\\n",
       "Unnamed: 0                                                                \n",
       "FO538757.2                           1.441                        1.465   \n",
       "RP11-206L10.9                        0.189                        0.188   \n",
       "NOC2L                                0.426                        0.422   \n",
       "PLEKHN1                              0.137                        0.441   \n",
       "HES4                                 3.421                        1.696   \n",
       "\n",
       "               sc5rJUQ033_AACACGTTCCGAAGAG  sc5rJUQ033_AACTTTCGTTCGGCAC  \\\n",
       "Unnamed: 0                                                                \n",
       "FO538757.2                           0.716                        0.466   \n",
       "RP11-206L10.9                        0.179                        0.193   \n",
       "NOC2L                                0.384                        0.441   \n",
       "PLEKHN1                              0.103                        0.154   \n",
       "HES4                                 0.783                        0.997   \n",
       "\n",
       "               sc5rJUQ033_AAGACCTGTAAACACA  sc5rJUQ033_AAGGAGCAGTGAAGTT  \\\n",
       "Unnamed: 0                                                                \n",
       "FO538757.2                           0.777                        0.490   \n",
       "RP11-206L10.9                        0.299                        0.187   \n",
       "NOC2L                                0.422                        0.415   \n",
       "PLEKHN1                              0.133                        0.127   \n",
       "HES4                                 1.927                        1.395   \n",
       "\n",
       "               sc5rJUQ033_AATCGGTTCTTGTTTG  sc5rJUQ033_ACAGCTAAGGGTCGAT  ...  \\\n",
       "Unnamed: 0                                                               ...   \n",
       "FO538757.2                           1.198                        0.945  ...   \n",
       "RP11-206L10.9                        0.192                        0.246  ...   \n",
       "NOC2L                                0.540                        0.531  ...   \n",
       "PLEKHN1                              0.148                        0.141  ...   \n",
       "HES4                                 0.720                        1.337  ...   \n",
       "\n",
       "               sc5rJUQ033_TTATGCTTCTCTTATG  sc5rJUQ033_TTCCCAGGTGGGTCAA  \\\n",
       "Unnamed: 0                                                                \n",
       "FO538757.2                           1.682                        0.823   \n",
       "RP11-206L10.9                        0.194                        0.190   \n",
       "NOC2L                                0.548                        0.427   \n",
       "PLEKHN1                              1.234                        0.139   \n",
       "HES4                                 3.388                        1.720   \n",
       "\n",
       "               sc5rJUQ033_TTCGGTCAGGGTGTGT  sc5rJUQ033_TTCGGTCTCATTCACT  \\\n",
       "Unnamed: 0                                                                \n",
       "FO538757.2                           0.788                        1.228   \n",
       "RP11-206L10.9                        0.195                        0.239   \n",
       "NOC2L                                0.449                        0.408   \n",
       "PLEKHN1                              0.164                        0.121   \n",
       "HES4                                 0.974                        0.737   \n",
       "\n",
       "               sc5rJUQ033_TTCTACATCTGTTTGT  sc5rJUQ033_TTCTCAATCTTTACGT  \\\n",
       "Unnamed: 0                                                                \n",
       "FO538757.2                           2.305                        1.485   \n",
       "RP11-206L10.9                        0.196                        0.191   \n",
       "NOC2L                                0.455                        0.434   \n",
       "PLEKHN1                              0.171                        0.146   \n",
       "HES4                                 3.660                        1.437   \n",
       "\n",
       "               sc5rJUQ033_TTTACTGCACCAGGTC  sc5rJUQ033_TTTATGCCACCTTGTC  \\\n",
       "Unnamed: 0                                                                \n",
       "FO538757.2                           1.119                        0.996   \n",
       "RP11-206L10.9                        0.183                        0.198   \n",
       "NOC2L                                0.496                        0.461   \n",
       "PLEKHN1                              0.380                        0.180   \n",
       "HES4                                 1.215                        0.865   \n",
       "\n",
       "               sc5rJUQ033_TTTCCTCAGATCTGAA  sc5rJUQ033_TTTGGTTGTAAGAGAG  \n",
       "Unnamed: 0                                                               \n",
       "FO538757.2                           2.284                        1.469  \n",
       "RP11-206L10.9                        0.191                        0.188  \n",
       "NOC2L                                0.533                        0.419  \n",
       "PLEKHN1                              0.469                        0.131  \n",
       "HES4                                 0.918                        1.065  \n",
       "\n",
       "[5 rows x 245 columns]"
      ]
     },
     "execution_count": 4,
     "metadata": {},
     "output_type": "execute_result"
    }
   ],
   "source": [
    "BRCA_exp_filter_saver.set_index(BRCA_exp_filter_saver.columns[0], inplace=True)\n",
    "#原代码多删了第一列,以下是正确的结果\n",
    "BRCA_exp_filter_saver.head()"
   ]
  },
  {
   "cell_type": "code",
   "execution_count": null,
   "id": "9c107f47",
   "metadata": {},
   "outputs": [
    {
     "data": {
      "text/html": [
       "<div>\n",
       "<style scoped>\n",
       "    .dataframe tbody tr th:only-of-type {\n",
       "        vertical-align: middle;\n",
       "    }\n",
       "\n",
       "    .dataframe tbody tr th {\n",
       "        vertical-align: top;\n",
       "    }\n",
       "\n",
       "    .dataframe thead th {\n",
       "        text-align: right;\n",
       "    }\n",
       "</style>\n",
       "<table border=\"1\" class=\"dataframe\">\n",
       "  <thead>\n",
       "    <tr style=\"text-align: right;\">\n",
       "      <th></th>\n",
       "      <th>TF</th>\n",
       "      <th>Gene</th>\n",
       "    </tr>\n",
       "  </thead>\n",
       "  <tbody>\n",
       "    <tr>\n",
       "      <th>0</th>\n",
       "      <td>PDHA1</td>\n",
       "      <td>DLAT</td>\n",
       "    </tr>\n",
       "    <tr>\n",
       "      <th>1</th>\n",
       "      <td>PDHB</td>\n",
       "      <td>DLAT</td>\n",
       "    </tr>\n",
       "    <tr>\n",
       "      <th>2</th>\n",
       "      <td>DLAT</td>\n",
       "      <td>DLD</td>\n",
       "    </tr>\n",
       "    <tr>\n",
       "      <th>3</th>\n",
       "      <td>PKM</td>\n",
       "      <td>ENO1</td>\n",
       "    </tr>\n",
       "    <tr>\n",
       "      <th>4</th>\n",
       "      <td>PGAM1</td>\n",
       "      <td>PGK1</td>\n",
       "    </tr>\n",
       "    <tr>\n",
       "      <th>...</th>\n",
       "      <td>...</td>\n",
       "      <td>...</td>\n",
       "    </tr>\n",
       "    <tr>\n",
       "      <th>69566</th>\n",
       "      <td>ZRANB2</td>\n",
       "      <td>YY1</td>\n",
       "    </tr>\n",
       "    <tr>\n",
       "      <th>69567</th>\n",
       "      <td>ZRANB2</td>\n",
       "      <td>ZRANB2</td>\n",
       "    </tr>\n",
       "    <tr>\n",
       "      <th>69568</th>\n",
       "      <td>ZSCAN16</td>\n",
       "      <td>SLC25A38</td>\n",
       "    </tr>\n",
       "    <tr>\n",
       "      <th>69569</th>\n",
       "      <td>ZSCAN16</td>\n",
       "      <td>ZNF446</td>\n",
       "    </tr>\n",
       "    <tr>\n",
       "      <th>69570</th>\n",
       "      <td>ZSCAN21</td>\n",
       "      <td>SCAND1</td>\n",
       "    </tr>\n",
       "  </tbody>\n",
       "</table>\n",
       "<p>69571 rows × 2 columns</p>\n",
       "</div>"
      ],
      "text/plain": [
       "            TF      Gene\n",
       "0        PDHA1      DLAT\n",
       "1         PDHB      DLAT\n",
       "2         DLAT       DLD\n",
       "3          PKM      ENO1\n",
       "4        PGAM1      PGK1\n",
       "...        ...       ...\n",
       "69566   ZRANB2       YY1\n",
       "69567   ZRANB2    ZRANB2\n",
       "69568  ZSCAN16  SLC25A38\n",
       "69569  ZSCAN16    ZNF446\n",
       "69570  ZSCAN21    SCAND1\n",
       "\n",
       "[69571 rows x 2 columns]"
      ]
     },
     "execution_count": 9,
     "metadata": {},
     "output_type": "execute_result"
    }
   ],
   "source": [
    "# 优化后的函数用时30s,比优化前(10min)快大约20倍\n",
    "BRCA_exp_filter_saver_metacell = cal_metacell(BRCA_exp_filter_saver)\n",
    "calRegnetwork1(human_network, BRCA_exp_filter_saver_metacell.index.to_list())"
   ]
  },
  {
   "cell_type": "code",
   "execution_count": null,
   "id": "0179bdba",
   "metadata": {},
   "outputs": [
    {
     "data": {
      "text/html": [
       "<div>\n",
       "<style scoped>\n",
       "    .dataframe tbody tr th:only-of-type {\n",
       "        vertical-align: middle;\n",
       "    }\n",
       "\n",
       "    .dataframe tbody tr th {\n",
       "        vertical-align: top;\n",
       "    }\n",
       "\n",
       "    .dataframe thead th {\n",
       "        text-align: right;\n",
       "    }\n",
       "</style>\n",
       "<table border=\"1\" class=\"dataframe\">\n",
       "  <thead>\n",
       "    <tr style=\"text-align: right;\">\n",
       "      <th></th>\n",
       "      <th>TF</th>\n",
       "      <th>Gene</th>\n",
       "    </tr>\n",
       "  </thead>\n",
       "  <tbody>\n",
       "    <tr>\n",
       "      <th>0</th>\n",
       "      <td>ISG15</td>\n",
       "      <td>DDX58</td>\n",
       "    </tr>\n",
       "    <tr>\n",
       "      <th>1</th>\n",
       "      <td>ISG15</td>\n",
       "      <td>IFIH1</td>\n",
       "    </tr>\n",
       "    <tr>\n",
       "      <th>2</th>\n",
       "      <td>AGRN</td>\n",
       "      <td>DAG1</td>\n",
       "    </tr>\n",
       "    <tr>\n",
       "      <th>3</th>\n",
       "      <td>DVL1</td>\n",
       "      <td>GSK3B</td>\n",
       "    </tr>\n",
       "    <tr>\n",
       "      <th>4</th>\n",
       "      <td>DVL1</td>\n",
       "      <td>RAC1</td>\n",
       "    </tr>\n",
       "    <tr>\n",
       "      <th>...</th>\n",
       "      <td>...</td>\n",
       "      <td>...</td>\n",
       "    </tr>\n",
       "    <tr>\n",
       "      <th>69566</th>\n",
       "      <td>COL6A1</td>\n",
       "      <td>ITGB1</td>\n",
       "    </tr>\n",
       "    <tr>\n",
       "      <th>69567</th>\n",
       "      <td>COL6A1</td>\n",
       "      <td>CD44</td>\n",
       "    </tr>\n",
       "    <tr>\n",
       "      <th>69568</th>\n",
       "      <td>COL6A2</td>\n",
       "      <td>ITGB1</td>\n",
       "    </tr>\n",
       "    <tr>\n",
       "      <th>69569</th>\n",
       "      <td>COL6A2</td>\n",
       "      <td>CD44</td>\n",
       "    </tr>\n",
       "    <tr>\n",
       "      <th>69570</th>\n",
       "      <td>LSS</td>\n",
       "      <td>DHCR24</td>\n",
       "    </tr>\n",
       "  </tbody>\n",
       "</table>\n",
       "<p>69571 rows × 2 columns</p>\n",
       "</div>"
      ],
      "text/plain": [
       "           TF    Gene\n",
       "0       ISG15   DDX58\n",
       "1       ISG15   IFIH1\n",
       "2        AGRN    DAG1\n",
       "3        DVL1   GSK3B\n",
       "4        DVL1    RAC1\n",
       "...       ...     ...\n",
       "69566  COL6A1   ITGB1\n",
       "69567  COL6A1    CD44\n",
       "69568  COL6A2   ITGB1\n",
       "69569  COL6A2    CD44\n",
       "69570     LSS  DHCR24\n",
       "\n",
       "[69571 rows x 2 columns]"
      ]
     },
     "execution_count": 10,
     "metadata": {},
     "output_type": "execute_result"
    }
   ],
   "source": [
    "#优化前, 结果相同,耗时较长\n",
    "calRegnetwork(human_network, BRCA_exp_filter_saver_metacell.index.to_list())"
   ]
  },
  {
   "cell_type": "code",
   "execution_count": 11,
   "id": "0d5f0ab8",
   "metadata": {},
   "outputs": [
    {
     "data": {
      "text/plain": [
       "True"
      ]
     },
     "execution_count": 11,
     "metadata": {},
     "output_type": "execute_result"
    }
   ],
   "source": [
    "def is_symmetric(matrix):\n",
    "    # 检查是否为二维数组且行列数相等（方阵）\n",
    "    if matrix.ndim != 2 or matrix.shape[0] != matrix.shape[1]:\n",
    "        return False\n",
    "    # 使用allclose处理浮点数精度问题\n",
    "    return np.allclose(matrix, matrix.T)\n",
    "\n",
    "a = np.array([[1,2],[2,1]])\n",
    "is_symmetric(a)"
   ]
  },
  {
   "cell_type": "code",
   "execution_count": null,
   "id": "d5b9d3fa",
   "metadata": {},
   "outputs": [
    {
     "name": "stdout",
     "output_type": "stream",
     "text": [
      "边的数量 169 166 1.0180722891566265\n",
      "计算GRN的方法: cmi\n",
      "False\n",
      "{'Pathway': 'hsa05224', 'NUM_ORIG': 67.46987951807229, 'NUM_PCC': 18.92661555312158, 'NUM_MI': 13.603504928806133}\n",
      "Cancer_Datasets/S33_T_cell_BRCA_output_meta.data is OK!!!!\n",
      "边的数量 187 199 0.9396984924623115\n",
      "计算GRN的方法: cmi\n",
      "False\n",
      "{'Pathway': 'hsa05224', 'NUM_ORIG': 85.42713567839196, 'NUM_PCC': 14.070351758793967, 'NUM_MI': 0.5025125628140702}\n",
      "Cancer_Datasets/S39_T_cell_BRCA_output_meta.data is OK!!!!\n",
      "边的数量 153 174 0.8793103448275862\n",
      "计算GRN的方法: cmi\n",
      "False\n",
      "{'Pathway': 'hsa05224', 'NUM_ORIG': 80.45977011494253, 'NUM_PCC': 19.54022988505747, 'NUM_MI': 0}\n",
      "Cancer_Datasets/S42_T_cell_BRCA_output_meta.data is OK!!!!\n",
      "边的数量 283 309 0.9158576051779935\n",
      "计算GRN的方法: cmi\n",
      "False\n",
      "{'Pathway': 'hsa05224', 'NUM_ORIG': 77.02265372168284, 'NUM_PCC': 11.974110032362459, 'NUM_MI': 11.003236245954692}\n",
      "Cancer_Datasets/S53_T_cell_BRCA_output_meta.data is OK!!!!\n",
      "边的数量 239 265 0.9018867924528302\n",
      "计算GRN的方法: cmi\n",
      "False\n",
      "{'Pathway': 'hsa05224', 'NUM_ORIG': 77.35849056603774, 'NUM_PCC': 19.622641509433954, 'NUM_MI': 3.0188679245283003}\n",
      "Cancer_Datasets/S60_T_cell_BRCA_output_meta.data is OK!!!!\n",
      "边的数量 198 203 0.9753694581280788\n",
      "计算GRN的方法: cmi\n",
      "False\n",
      "{'Pathway': 'hsa05224', 'NUM_ORIG': 76.35467980295566, 'NUM_PCC': 20.689655172413794, 'NUM_MI': 2.955665024630542}\n",
      "Cancer_Datasets/S33_B_cell_BRCA_output_meta.data is OK!!!!\n",
      "边的数量 197 204 0.9656862745098039\n",
      "计算GRN的方法: cmi\n",
      "False\n",
      "{'Pathway': 'hsa05224', 'NUM_ORIG': 79.41176470588235, 'NUM_PCC': 18.716577540106954, 'NUM_MI': 1.8716577540106956}\n",
      "Cancer_Datasets/S39_B_cell_BRCA_output_meta.data is OK!!!!\n",
      "边的数量 178 175 1.0171428571428571\n",
      "计算GRN的方法: cmi\n",
      "False\n",
      "{'Pathway': 'hsa05224', 'NUM_ORIG': 79.42857142857143, 'NUM_PCC': 20.0, 'NUM_MI': 0.5714285714285714}\n",
      "Cancer_Datasets/S42_B_cell_BRCA_output_meta.data is OK!!!!\n",
      "边的数量 369 392 0.9413265306122449\n",
      "计算GRN的方法: cmi\n",
      "False\n",
      "{'Pathway': 'hsa05224', 'NUM_ORIG': 82.6530612244898, 'NUM_PCC': 14.030612244897958, 'NUM_MI': 3.316326530612245}\n",
      "Cancer_Datasets/S53_B_cell_BRCA_output_meta.data is OK!!!!\n",
      "边的数量 305 321 0.9501557632398754\n",
      "计算GRN的方法: cmi\n",
      "False\n",
      "{'Pathway': 'hsa05224', 'NUM_ORIG': 73.83177570093457, 'NUM_PCC': 17.445482866043612, 'NUM_MI': 8.722741433021806}\n",
      "Cancer_Datasets/S60_B_cell_BRCA_output_meta.data is OK!!!!\n",
      "边的数量 466 520 0.8961538461538462\n",
      "计算GRN的方法: cmi\n",
      "False\n",
      "{'Pathway': 'hsa05224', 'NUM_ORIG': 74.42307692307692, 'NUM_PCC': 17.5, 'NUM_MI': 8.076923076923077}\n",
      "Cancer_Datasets/S33_Cancer_BRCA_output_meta.data is OK!!!!\n",
      "边的数量 428 499 0.8577154308617234\n",
      "计算GRN的方法: cmi\n",
      "False\n",
      "{'Pathway': 'hsa05224', 'NUM_ORIG': 81.56312625250501, 'NUM_PCC': 8.817635270541082, 'NUM_MI': 9.619238476953909}\n",
      "Cancer_Datasets/S42_Cancer_BRCA_output_meta.data is OK!!!!\n",
      "边的数量 277 306 0.9052287581699346\n",
      "计算GRN的方法: cmi\n",
      "False\n",
      "{'Pathway': 'hsa05224', 'NUM_ORIG': 70.91503267973856, 'NUM_PCC': 17.647058823529413, 'NUM_MI': 11.437908496732026}\n",
      "Cancer_Datasets/S53_Cancer_BRCA_output_meta.data is OK!!!!\n",
      "边的数量 388 460 0.8434782608695652\n",
      "计算GRN的方法: cmi\n",
      "False\n",
      "{'Pathway': 'hsa05224', 'NUM_ORIG': 85.0, 'NUM_PCC': 13.695652173913043, 'NUM_MI': 1.3043478260869565}\n",
      "Cancer_Datasets/S60_Cancer_BRCA_output_meta.data is OK!!!!\n"
     ]
    }
   ],
   "source": [
    "for si in celllist:\n",
    "        for ji in filelist:\n",
    "            # 39_Cancer作为测试集\n",
    "            if not((str(ji) == '39') and (si == \"Cancer\")):\n",
    "                #原代码路径有误,已根据实际情况修改\n",
    "                filepath = 'Cancer_Datasets/S'+str(ji)+'_' + si+'_BRCA_output.csv'\n",
    "                BRCA_exp_filter_saver = pd.read_csv(filepath)\n",
    "                #原代码在删除第一列的操作有误,多删除了一列,已修改\n",
    "                BRCA_exp_filter_saver.set_index(BRCA_exp_filter_saver.iloc[:,0],inplace=True)\n",
    "                #BRCA_exp_filter_saver.drop(columns = BRCA_exp_filter_saver.columns[0],inplace = True)\n",
    "                BRCA_exp_filter_saver_metacell = cal_metacell(BRCA_exp_filter_saver, Cnum=Cnum, k=k)# (基因个数,metacell个数)\n",
    "                filepath = filepath.replace('output','output_meta')\n",
    "                if BRCA_exp_filter_saver is not None:\n",
    "                    parm = {'pear_percent': 4, 'MI_percent': 4, 'pmi_percent': 0.001}\n",
    "                    [exp, adj_matrix, new_row] = from_cancer_create(BRCA_exp_filter_saver_metacell,\n",
    "                                                                    KEGG,\n",
    "                                                                    parm,\n",
    "                                                                    test_pathway=None,\n",
    "                                                                    Other_Pathway=test_pathway,\n",
    "                                                                    human_network=human_network)\n",
    "                    # 此处容易误会的是Other_Pathway=test_pathway,不是参数中的test_pathway=None,\n",
    "                    # 而是在上方单元格定义的test_pathway.\n",
    "                    # Other_Pathway决定了exp在KEGG中的哪个子集\n",
    "                    \"\"\" data1 = np.sum(adj_matrix, axis=0)\n",
    "                    fit1 = powerlaw.Fit(data1)\n",
    "                    data2 = np.sum(adj_matrix, axis=1)\n",
    "                    fit2 = powerlaw.Fit(data2)\n",
    "                    data3 = data1+data2\n",
    "                    fit3 = powerlaw.Fit(data3)\n",
    "                    print(\"Alpha (exponent,0):\", fit1.alpha, \"Alpha (exponent,1):\", fit2.alpha, \"Alpha (exponent,sum):\", fit3.alpha) \"\"\"\n",
    "                    #源代码中以上这段拟合意义不明,没有在其他地方出现,而且数据不符合幂律分布拟合的要求(全部大于0),所以注释掉\n",
    "                    data = {\"net\": adj_matrix, \"exp\": np.array(exp), \"genename\": exp.index}\n",
    "                    print(is_symmetric(adj_matrix))\n",
    "                    print(new_row)\n",
    "                    filename = filepath.replace(\"csv\", \"data\")\n",
    "                    f = open(filename, 'wb')\n",
    "                    pickle.dump(data, f)\n",
    "                    f.close()\n",
    "\n",
    "                    sio.savemat(filepath.replace(\"csv\", \"mat\"), {\"net\": adj_matrix, \"exp\": np.array(exp), \"genename\": exp.index})\n",
    "                    print(filename+' is OK!!!!')\n",
    "\n",
    "# 输出解释:\n",
    "# 第一行:pearson-mi,cmi边的数量与比值\n",
    "# 第二行:预处理选择了pearson-mi/cmi中的一个图\n",
    "# 第三行:邻接矩阵是否对称\n",
    "# 第四行:图的统计信息\n",
    "# 第五行:文件夹处理完毕的输出"
   ]
  },
  {
   "cell_type": "markdown",
   "id": "7c683109",
   "metadata": {},
   "source": [
    "此节以下部分不用运行"
   ]
  },
  {
   "cell_type": "code",
   "execution_count": null,
   "id": "80b9e5c6",
   "metadata": {},
   "outputs": [
    {
     "name": "stdout",
     "output_type": "stream",
     "text": [
      "边的数量 466 520 0.8961538461538462\n",
      "计算GRN的方法: cmi\n"
     ]
    }
   ],
   "source": [
    "# 测试数据,Data\n",
    "testdata = create_batch_dataset_from_cancer(filepath=filepath,\n",
    "                    test_pathway=test_pathway, test=True)\n",
    "test_file = 'reproducibility/test_data.pkl'\n",
    "with open(test_file, 'wb') as f:\n",
    "    pickle.dump(testdata, f)"
   ]
  },
  {
   "cell_type": "code",
   "execution_count": null,
   "id": "deec2bab",
   "metadata": {},
   "outputs": [
    {
     "name": "stderr",
     "output_type": "stream",
     "text": [
      " Pathway: hsa00010, total contain 35 genes, and 35 links!:   0%|                        | 1/342 [00:02<16:19,  2.87s/it]"
     ]
    },
    {
     "name": "stdout",
     "output_type": "stream",
     "text": [
      "边的数量 35 35 1.0\n",
      "计算GRN的方法: cmi\n"
     ]
    },
    {
     "name": "stderr",
     "output_type": "stream",
     "text": [
      " Pathway: hsa00020, total contain 27 genes, and 43 links!:   1%|▏                       | 2/342 [00:04<12:54,  2.28s/it]"
     ]
    },
    {
     "name": "stdout",
     "output_type": "stream",
     "text": [
      "边的数量 44 43 1.0232558139534884\n",
      "计算GRN的方法: cmi\n"
     ]
    },
    {
     "name": "stderr",
     "output_type": "stream",
     "text": [
      " Pathway: hsa00030, total contain 19 genes, and 24 links!:   1%|▏                       | 3/342 [00:05<10:00,  1.77s/it]"
     ]
    },
    {
     "name": "stdout",
     "output_type": "stream",
     "text": [
      "边的数量 24 24 1.0\n",
      "计算GRN的方法: cmi\n"
     ]
    },
    {
     "name": "stderr",
     "output_type": "stream",
     "text": [
      " Pathway: hsa00040, total contain 11 genes, and 10 links!:   1%|▎                       | 4/342 [00:06<07:21,  1.31s/it]"
     ]
    },
    {
     "name": "stdout",
     "output_type": "stream",
     "text": [
      "边的数量 10 10 1.0\n",
      "计算GRN的方法: cmi\n"
     ]
    },
    {
     "name": "stderr",
     "output_type": "stream",
     "text": [
      " Pathway: hsa00051, total contain 21 genes, and 18 links!:   1%|▎                       | 5/342 [00:07<07:18,  1.30s/it]"
     ]
    },
    {
     "name": "stdout",
     "output_type": "stream",
     "text": [
      "边的数量 18 18 1.0\n",
      "计算GRN的方法: cmi\n"
     ]
    },
    {
     "name": "stderr",
     "output_type": "stream",
     "text": [
      " Pathway: hsa00052, total contain 18 genes, and 11 links!:   2%|▍                       | 6/342 [00:08<07:01,  1.25s/it]"
     ]
    },
    {
     "name": "stdout",
     "output_type": "stream",
     "text": [
      "边的数量 11 11 1.0\n",
      "计算GRN的方法: cmi\n"
     ]
    },
    {
     "name": "stderr",
     "output_type": "stream",
     "text": [
      " Pathway: hsa00500, total contain 16 genes, and 15 links!:   2%|▌                       | 8/342 [00:09<04:51,  1.15it/s]"
     ]
    },
    {
     "name": "stdout",
     "output_type": "stream",
     "text": [
      "边的数量 15 15 1.0\n",
      "计算GRN的方法: cmi\n"
     ]
    },
    {
     "name": "stderr",
     "output_type": "stream",
     "text": [
      " Pathway: hsa00520, total contain 36 genes, and 34 links!:   3%|▋                       | 9/342 [00:12<07:33,  1.36s/it]"
     ]
    },
    {
     "name": "stdout",
     "output_type": "stream",
     "text": [
      "边的数量 34 34 1.0\n",
      "计算GRN的方法: cmi\n"
     ]
    },
    {
     "name": "stderr",
     "output_type": "stream",
     "text": [
      " Pathway: hsa00620, total contain 31 genes, and 41 links!:   3%|▋                      | 10/342 [00:14<08:54,  1.61s/it]"
     ]
    },
    {
     "name": "stdout",
     "output_type": "stream",
     "text": [
      "边的数量 41 41 1.0\n",
      "计算GRN的方法: cmi\n"
     ]
    },
    {
     "name": "stderr",
     "output_type": "stream",
     "text": [
      " Pathway: hsa00630, total contain 21 genes, and 13 links!:   3%|▋                      | 11/342 [00:16<08:23,  1.52s/it]"
     ]
    },
    {
     "name": "stdout",
     "output_type": "stream",
     "text": [
      "边的数量 13 13 1.0\n",
      "计算GRN的方法: cmi\n"
     ]
    },
    {
     "name": "stderr",
     "output_type": "stream",
     "text": [
      " Pathway: hsa00640, total contain 22 genes, and 21 links!:   4%|▊                      | 12/342 [00:17<08:15,  1.50s/it]"
     ]
    },
    {
     "name": "stdout",
     "output_type": "stream",
     "text": [
      "边的数量 21 21 1.0\n",
      "计算GRN的方法: cmi\n"
     ]
    },
    {
     "name": "stderr",
     "output_type": "stream",
     "text": [
      " Pathway: hsa00650, total contain 13 genes, and 16 links!:   4%|▊                      | 13/342 [00:18<07:05,  1.29s/it]"
     ]
    },
    {
     "name": "stdout",
     "output_type": "stream",
     "text": [
      "边的数量 16 16 1.0\n",
      "计算GRN的方法: cmi\n"
     ]
    },
    {
     "name": "stderr",
     "output_type": "stream",
     "text": [
      " Pathway: hsa00562, total contain 41 genes, and 63 links!:   4%|▉                      | 14/342 [00:21<10:30,  1.92s/it]"
     ]
    },
    {
     "name": "stdout",
     "output_type": "stream",
     "text": [
      "边的数量 64 63 1.0158730158730158\n",
      "计算GRN的方法: cmi\n"
     ]
    },
    {
     "name": "stderr",
     "output_type": "stream",
     "text": [
      " Pathway: hsa00190, total contain 90 genes, and 20 links!:   4%|█                      | 15/342 [00:36<31:27,  5.77s/it]"
     ]
    },
    {
     "name": "stdout",
     "output_type": "stream",
     "text": [
      "边的数量 20 20 1.0\n",
      "计算GRN的方法: cmi\n"
     ]
    },
    {
     "name": "stderr",
     "output_type": "stream",
     "text": [
      " Pathway: hsa00061, total contain 12 genes, and 13 links!:   5%|█▏                     | 18/342 [00:37<14:29,  2.68s/it]"
     ]
    },
    {
     "name": "stdout",
     "output_type": "stream",
     "text": [
      "边的数量 13 13 1.0\n",
      "计算GRN的方法: cmi\n"
     ]
    },
    {
     "name": "stderr",
     "output_type": "stream",
     "text": [
      " Pathway: hsa00062, total contain 20 genes, and 18 links!:   6%|█▎                     | 19/342 [00:38<12:51,  2.39s/it]"
     ]
    },
    {
     "name": "stdout",
     "output_type": "stream",
     "text": [
      "边的数量 18 18 1.0\n",
      "计算GRN的方法: cmi\n"
     ]
    },
    {
     "name": "stderr",
     "output_type": "stream",
     "text": [
      " Pathway: hsa00071, total contain 27 genes, and 29 links!:   6%|█▎                     | 20/342 [00:40<12:16,  2.29s/it]"
     ]
    },
    {
     "name": "stdout",
     "output_type": "stream",
     "text": [
      "边的数量 32 29 1.103448275862069\n",
      "计算GRN的方法: cmi\n"
     ]
    },
    {
     "name": "stderr",
     "output_type": "stream",
     "text": [
      " Pathway: hsa00100, total contain 16 genes, and 17 links!:   6%|█▍                     | 21/342 [00:41<10:27,  1.96s/it]"
     ]
    },
    {
     "name": "stdout",
     "output_type": "stream",
     "text": [
      "边的数量 17 17 1.0\n",
      "计算GRN的方法: cmi\n"
     ]
    },
    {
     "name": "stderr",
     "output_type": "stream",
     "text": [
      "d:\\desktop\\code\\DigNet-main\\pathway\\pathway.py:278: RuntimeWarning: invalid value encountered in scalar divide\n",
      "  print('边的数量',np.sum(adj_matrix),np.sum(predicted_adj_matrix),(np.sum(adj_matrix) / np.sum(predicted_adj_matrix)) )\n",
      " Pathway: hsa00100, total contain 16 genes, and 17 links!:   7%|█▌                     | 23/342 [00:42<06:49,  1.28s/it]"
     ]
    },
    {
     "name": "stdout",
     "output_type": "stream",
     "text": [
      "边的数量 0 0.0 nan\n"
     ]
    },
    {
     "name": "stderr",
     "output_type": "stream",
     "text": [
      " Pathway: hsa00561, total contain 37 genes, and 47 links!:   7%|█▌                     | 24/342 [00:45<09:02,  1.70s/it]"
     ]
    },
    {
     "name": "stdout",
     "output_type": "stream",
     "text": [
      "边的数量 47 47 1.0\n",
      "计算GRN的方法: cmi\n"
     ]
    },
    {
     "name": "stderr",
     "output_type": "stream",
     "text": [
      " Pathway: hsa00564, total contain 53 genes, and 73 links!:   7%|█▋                     | 25/342 [00:50<13:34,  2.57s/it]"
     ]
    },
    {
     "name": "stdout",
     "output_type": "stream",
     "text": [
      "边的数量 77 73 1.0547945205479452\n",
      "计算GRN的方法: cmi\n"
     ]
    },
    {
     "name": "stderr",
     "output_type": "stream",
     "text": [
      " Pathway: hsa00565, total contain 17 genes, and 17 links!:   8%|█▋                     | 26/342 [00:51<11:22,  2.16s/it]"
     ]
    },
    {
     "name": "stdout",
     "output_type": "stream",
     "text": [
      "边的数量 17 17 1.0\n",
      "计算GRN的方法: cmi\n"
     ]
    },
    {
     "name": "stderr",
     "output_type": "stream",
     "text": [
      " Pathway: hsa00600, total contain 36 genes, and 35 links!:   8%|█▊                     | 27/342 [00:54<12:07,  2.31s/it]"
     ]
    },
    {
     "name": "stdout",
     "output_type": "stream",
     "text": [
      "边的数量 35 35 1.0\n",
      "计算GRN的方法: cmi\n"
     ]
    },
    {
     "name": "stderr",
     "output_type": "stream",
     "text": [
      " Pathway: hsa00590, total contain 11 genes, and 3 links!:   8%|█▉                      | 28/342 [00:55<09:34,  1.83s/it]"
     ]
    },
    {
     "name": "stdout",
     "output_type": "stream",
     "text": [
      "边的数量 3 3 1.0\n",
      "计算GRN的方法: cmi\n"
     ]
    },
    {
     "name": "stderr",
     "output_type": "stream",
     "text": [
      " Pathway: hsa01040, total contain 19 genes, and 10 links!:   9%|██                     | 31/342 [00:56<05:23,  1.04s/it]"
     ]
    },
    {
     "name": "stdout",
     "output_type": "stream",
     "text": [
      "边的数量 10 10 1.0\n",
      "计算GRN的方法: cmi\n"
     ]
    },
    {
     "name": "stderr",
     "output_type": "stream",
     "text": [
      " Pathway: hsa00230, total contain 66 genes, and 72 links!:   9%|██▏                    | 32/342 [01:03<12:19,  2.39s/it]"
     ]
    },
    {
     "name": "stdout",
     "output_type": "stream",
     "text": [
      "边的数量 75 72 1.0416666666666667\n",
      "计算GRN的方法: cmi\n"
     ]
    },
    {
     "name": "stderr",
     "output_type": "stream",
     "text": [
      " Pathway: hsa00240, total contain 42 genes, and 61 links!:  10%|██▏                    | 33/342 [01:07<13:30,  2.62s/it]"
     ]
    },
    {
     "name": "stdout",
     "output_type": "stream",
     "text": [
      "边的数量 60 61 0.9836065573770492\n",
      "计算GRN的方法: cmi\n"
     ]
    },
    {
     "name": "stderr",
     "output_type": "stream",
     "text": [
      " Pathway: hsa00250, total contain 18 genes, and 11 links!:  10%|██▎                    | 34/342 [01:08<11:29,  2.24s/it]"
     ]
    },
    {
     "name": "stdout",
     "output_type": "stream",
     "text": [
      "边的数量 12 11 1.0909090909090908\n",
      "计算GRN的方法: cmi\n"
     ]
    },
    {
     "name": "stderr",
     "output_type": "stream",
     "text": [
      " Pathway: hsa00260, total contain 17 genes, and 11 links!:  10%|██▎                    | 35/342 [01:09<09:48,  1.92s/it]"
     ]
    },
    {
     "name": "stdout",
     "output_type": "stream",
     "text": [
      "边的数量 11 11 1.0\n",
      "计算GRN的方法: cmi\n"
     ]
    },
    {
     "name": "stderr",
     "output_type": "stream",
     "text": [
      " Pathway: hsa00270, total contain 32 genes, and 27 links!:  11%|██▍                    | 36/342 [01:11<10:17,  2.02s/it]"
     ]
    },
    {
     "name": "stdout",
     "output_type": "stream",
     "text": [
      "边的数量 31 27 1.1481481481481481\n",
      "计算GRN的方法: cmi\n"
     ]
    },
    {
     "name": "stderr",
     "output_type": "stream",
     "text": [
      " Pathway: hsa00280, total contain 37 genes, and 73 links!:  11%|██▍                    | 37/342 [01:14<11:25,  2.25s/it]"
     ]
    },
    {
     "name": "stdout",
     "output_type": "stream",
     "text": [
      "边的数量 74 73 1.0136986301369864\n",
      "计算GRN的方法: cmi\n"
     ]
    },
    {
     "name": "stderr",
     "output_type": "stream",
     "text": [
      " Pathway: hsa00310, total contain 48 genes, and 52 links!:  11%|██▌                    | 39/342 [01:18<11:07,  2.20s/it]"
     ]
    },
    {
     "name": "stdout",
     "output_type": "stream",
     "text": [
      "边的数量 52 52 1.0\n",
      "计算GRN的方法: cmi\n"
     ]
    },
    {
     "name": "stderr",
     "output_type": "stream",
     "text": [
      " Pathway: hsa00220, total contain 11 genes, and 12 links!:  12%|██▋                    | 40/342 [01:19<09:09,  1.82s/it]"
     ]
    },
    {
     "name": "stdout",
     "output_type": "stream",
     "text": [
      "边的数量 12 12 1.0\n",
      "计算GRN的方法: cmi\n"
     ]
    },
    {
     "name": "stderr",
     "output_type": "stream",
     "text": [
      " Pathway: hsa00330, total contain 25 genes, and 10 links!:  12%|██▊                    | 41/342 [01:20<08:52,  1.77s/it]"
     ]
    },
    {
     "name": "stdout",
     "output_type": "stream",
     "text": [
      "边的数量 10 10 1.0\n",
      "计算GRN的方法: cmi\n"
     ]
    },
    {
     "name": "stderr",
     "output_type": "stream",
     "text": [
      " Pathway: hsa00350, total contain 10 genes, and 3 links!:  13%|███                     | 43/342 [01:21<05:40,  1.14s/it]"
     ]
    },
    {
     "name": "stdout",
     "output_type": "stream",
     "text": [
      "边的数量 3 3 1.0\n",
      "计算GRN的方法: cmi\n"
     ]
    },
    {
     "name": "stderr",
     "output_type": "stream",
     "text": [
      " Pathway: hsa00380, total contain 20 genes, and 14 links!:  13%|███                    | 45/342 [01:22<04:38,  1.07it/s]"
     ]
    },
    {
     "name": "stdout",
     "output_type": "stream",
     "text": [
      "边的数量 14 14 1.0\n",
      "计算GRN的方法: cmi\n"
     ]
    },
    {
     "name": "stderr",
     "output_type": "stream",
     "text": [
      " Pathway: hsa00410, total contain 15 genes, and 10 links!:  14%|███▏                   | 47/342 [01:23<03:44,  1.31it/s]"
     ]
    },
    {
     "name": "stdout",
     "output_type": "stream",
     "text": [
      "边的数量 11 10 1.1\n",
      "计算GRN的方法: cmi\n"
     ]
    },
    {
     "name": "stderr",
     "output_type": "stream",
     "text": [
      " Pathway: hsa00450, total contain 10 genes, and 6 links!:  15%|███▌                    | 50/342 [01:24<02:30,  1.94it/s]"
     ]
    },
    {
     "name": "stdout",
     "output_type": "stream",
     "text": [
      "边的数量 7 6 1.1666666666666667\n",
      "计算GRN的方法: cmi\n"
     ]
    },
    {
     "name": "stderr",
     "output_type": "stream",
     "text": [
      " Pathway: hsa00480, total contain 38 genes, and 28 links!:  15%|███▍                   | 52/342 [01:27<03:51,  1.25it/s]"
     ]
    },
    {
     "name": "stdout",
     "output_type": "stream",
     "text": [
      "边的数量 28 28 1.0\n",
      "计算GRN的方法: cmi\n"
     ]
    },
    {
     "name": "stderr",
     "output_type": "stream",
     "text": [
      " Pathway: hsa00510, total contain 42 genes, and 30 links!:  15%|███▌                   | 53/342 [01:30<06:02,  1.25s/it]"
     ]
    },
    {
     "name": "stdout",
     "output_type": "stream",
     "text": [
      "边的数量 30 30 1.0\n",
      "计算GRN的方法: cmi\n"
     ]
    },
    {
     "name": "stderr",
     "output_type": "stream",
     "text": [
      " Pathway: hsa00513, total contain 35 genes, and 18 links!:  16%|███▋                   | 54/342 [01:33<07:18,  1.52s/it]"
     ]
    },
    {
     "name": "stdout",
     "output_type": "stream",
     "text": [
      "边的数量 18 18 1.0\n",
      "计算GRN的方法: cmi\n"
     ]
    },
    {
     "name": "stderr",
     "output_type": "stream",
     "text": [
      " Pathway: hsa00512, total contain 16 genes, and 14 links!:  16%|███▋                   | 55/342 [01:34<06:38,  1.39s/it]"
     ]
    },
    {
     "name": "stdout",
     "output_type": "stream",
     "text": [
      "边的数量 16 14 1.1428571428571428\n",
      "计算GRN的方法: cmi\n"
     ]
    },
    {
     "name": "stderr",
     "output_type": "stream",
     "text": [
      " Pathway: hsa00515, total contain 10 genes, and 7 links!:  16%|███▉                    | 56/342 [01:34<05:38,  1.19s/it]"
     ]
    },
    {
     "name": "stdout",
     "output_type": "stream",
     "text": [
      "边的数量 7 7 1.0\n",
      "计算GRN的方法: cmi\n"
     ]
    },
    {
     "name": "stderr",
     "output_type": "stream",
     "text": [
      " Pathway: hsa00514, total contain 27 genes, and 16 links!:  17%|███▊                   | 57/342 [01:36<06:22,  1.34s/it]"
     ]
    },
    {
     "name": "stdout",
     "output_type": "stream",
     "text": [
      "边的数量 16 16 1.0\n",
      "计算GRN的方法: cmi\n"
     ]
    },
    {
     "name": "stderr",
     "output_type": "stream",
     "text": [
      "d:\\desktop\\code\\DigNet-main\\pathway\\pathway.py:278: RuntimeWarning: invalid value encountered in scalar divide\n",
      "  print('边的数量',np.sum(adj_matrix),np.sum(predicted_adj_matrix),(np.sum(adj_matrix) / np.sum(predicted_adj_matrix)) )\n",
      " Pathway: hsa00514, total contain 27 genes, and 16 links!:  17%|███▉                   | 59/342 [01:36<04:12,  1.12it/s]"
     ]
    },
    {
     "name": "stdout",
     "output_type": "stream",
     "text": [
      "边的数量 0 0.0 nan\n"
     ]
    },
    {
     "name": "stderr",
     "output_type": "stream",
     "text": [
      " Pathway: hsa00533, total contain 10 genes, and 5 links!:  18%|████▏                   | 60/342 [01:37<03:48,  1.23it/s]"
     ]
    },
    {
     "name": "stdout",
     "output_type": "stream",
     "text": [
      "边的数量 5 5 1.0\n",
      "计算GRN的方法: cmi\n"
     ]
    },
    {
     "name": "stderr",
     "output_type": "stream",
     "text": [
      " Pathway: hsa00531, total contain 11 genes, and 7 links!:  18%|████▎                   | 61/342 [01:38<03:32,  1.32it/s]"
     ]
    },
    {
     "name": "stdout",
     "output_type": "stream",
     "text": [
      "边的数量 7 7 1.0\n",
      "计算GRN的方法: cmi\n"
     ]
    },
    {
     "name": "stderr",
     "output_type": "stream",
     "text": [
      " Pathway: hsa00563, total contain 20 genes, and 3 links!:  18%|████▎                   | 62/342 [01:39<04:05,  1.14it/s]"
     ]
    },
    {
     "name": "stdout",
     "output_type": "stream",
     "text": [
      "边的数量 3 3 1.0\n",
      "计算GRN的方法: cmi\n"
     ]
    },
    {
     "name": "stderr",
     "output_type": "stream",
     "text": [
      " Pathway: hsa00601, total contain 13 genes, and 13 links!:  18%|████▏                  | 63/342 [01:40<03:52,  1.20it/s]"
     ]
    },
    {
     "name": "stdout",
     "output_type": "stream",
     "text": [
      "边的数量 13 13 1.0\n",
      "计算GRN的方法: cmi\n"
     ]
    },
    {
     "name": "stderr",
     "output_type": "stream",
     "text": [
      " Pathway: hsa00604, total contain 12 genes, and 11 links!:  19%|████▎                  | 65/342 [01:40<02:49,  1.63it/s]"
     ]
    },
    {
     "name": "stdout",
     "output_type": "stream",
     "text": [
      "边的数量 11 11 1.0\n",
      "计算GRN的方法: cmi\n"
     ]
    },
    {
     "name": "stderr",
     "output_type": "stream",
     "text": [
      " Pathway: hsa00511, total contain 12 genes, and 1 links!:  19%|████▋                   | 66/342 [01:41<02:52,  1.60it/s]"
     ]
    },
    {
     "name": "stdout",
     "output_type": "stream",
     "text": [
      "边的数量 1 1 1.0\n",
      "计算GRN的方法: cmi\n"
     ]
    },
    {
     "name": "stderr",
     "output_type": "stream",
     "text": [
      " Pathway: hsa00760, total contain 20 genes, and 16 links!:  20%|████▋                  | 70/342 [01:42<01:59,  2.27it/s]"
     ]
    },
    {
     "name": "stdout",
     "output_type": "stream",
     "text": [
      "边的数量 16 16 1.0\n",
      "计算GRN的方法: cmi\n"
     ]
    },
    {
     "name": "stderr",
     "output_type": "stream",
     "text": [
      " Pathway: hsa00770, total contain 11 genes, and 1 links!:  21%|████▉                   | 71/342 [01:43<02:07,  2.13it/s]"
     ]
    },
    {
     "name": "stdout",
     "output_type": "stream",
     "text": [
      "边的数量 2 1 2.0\n",
      "计算GRN的方法: cmi\n"
     ]
    },
    {
     "name": "stderr",
     "output_type": "stream",
     "text": [
      " Pathway: hsa00785, total contain 12 genes, and 12 links!:  21%|████▉                  | 73/342 [01:43<01:54,  2.35it/s]"
     ]
    },
    {
     "name": "stdout",
     "output_type": "stream",
     "text": [
      "边的数量 13 12 1.0833333333333333\n",
      "计算GRN的方法: cmi\n"
     ]
    },
    {
     "name": "stderr",
     "output_type": "stream",
     "text": [
      " Pathway: hsa00790, total contain 15 genes, and 11 links!:  22%|████▉                  | 74/342 [01:44<02:15,  1.98it/s]"
     ]
    },
    {
     "name": "stdout",
     "output_type": "stream",
     "text": [
      "边的数量 14 11 1.2727272727272727\n",
      "计算GRN的方法: cmi\n"
     ]
    },
    {
     "name": "stderr",
     "output_type": "stream",
     "text": [
      " Pathway: hsa00670, total contain 15 genes, and 9 links!:  22%|█████▎                  | 75/342 [01:45<02:34,  1.73it/s]"
     ]
    },
    {
     "name": "stdout",
     "output_type": "stream",
     "text": [
      "边的数量 10 9 1.1111111111111112\n",
      "计算GRN的方法: cmi\n"
     ]
    },
    {
     "name": "stderr",
     "output_type": "stream",
     "text": [
      " Pathway: hsa00860, total contain 20 genes, and 12 links!:  23%|█████▏                 | 77/342 [01:46<02:35,  1.70it/s]"
     ]
    },
    {
     "name": "stdout",
     "output_type": "stream",
     "text": [
      "边的数量 16 12 1.3333333333333333\n",
      "计算GRN的方法: cmi\n"
     ]
    },
    {
     "name": "stderr",
     "output_type": "stream",
     "text": [
      " Pathway: hsa00900, total contain 20 genes, and 18 links!:  23%|█████▎                 | 79/342 [01:47<02:36,  1.68it/s]"
     ]
    },
    {
     "name": "stdout",
     "output_type": "stream",
     "text": [
      "边的数量 20 18 1.1111111111111112\n",
      "计算GRN的方法: cmi\n"
     ]
    },
    {
     "name": "stderr",
     "output_type": "stream",
     "text": [
      " Pathway: hsa00980, total contain 18 genes, and 12 links!:  24%|█████▌                 | 82/342 [01:49<02:08,  2.03it/s]"
     ]
    },
    {
     "name": "stdout",
     "output_type": "stream",
     "text": [
      "边的数量 12 12 1.0\n",
      "计算GRN的方法: cmi\n"
     ]
    },
    {
     "name": "stderr",
     "output_type": "stream",
     "text": [
      "d:\\desktop\\code\\DigNet-main\\pathway\\pathway.py:278: RuntimeWarning: invalid value encountered in scalar divide\n",
      "  print('边的数量',np.sum(adj_matrix),np.sum(predicted_adj_matrix),(np.sum(adj_matrix) / np.sum(predicted_adj_matrix)) )\n",
      " Pathway: hsa00980, total contain 18 genes, and 12 links!:  24%|█████▌                 | 83/342 [01:49<02:20,  1.84it/s]"
     ]
    },
    {
     "name": "stdout",
     "output_type": "stream",
     "text": [
      "边的数量 0 0.0 nan\n"
     ]
    },
    {
     "name": "stderr",
     "output_type": "stream",
     "text": [
      " Pathway: hsa00983, total contain 38 genes, and 30 links!:  25%|█████▋                 | 84/342 [01:52<04:21,  1.01s/it]"
     ]
    },
    {
     "name": "stdout",
     "output_type": "stream",
     "text": [
      "边的数量 32 30 1.0666666666666667\n",
      "计算GRN的方法: cmi\n"
     ]
    },
    {
     "name": "stderr",
     "output_type": "stream",
     "text": [
      " Pathway: hsa03020, total contain 28 genes, and 117 links!:  25%|█████▍                | 85/342 [01:54<05:20,  1.25s/it]"
     ]
    },
    {
     "name": "stdout",
     "output_type": "stream",
     "text": [
      "边的数量 130 117 1.1111111111111112\n",
      "计算GRN的方法: cmi\n"
     ]
    },
    {
     "name": "stderr",
     "output_type": "stream",
     "text": [
      " Pathway: hsa03022, total contain 38 genes, and 227 links!:  25%|█████▌                | 86/342 [01:58<07:32,  1.77s/it]"
     ]
    },
    {
     "name": "stdout",
     "output_type": "stream",
     "text": [
      "边的数量 225 227 0.9911894273127754\n",
      "计算GRN的方法: cmi\n"
     ]
    },
    {
     "name": "stderr",
     "output_type": "stream",
     "text": [
      " Pathway: hsa03040, total contain 124 genes, and 52 links!:  25%|█████▌                | 87/342 [02:25<34:27,  8.11s/it]"
     ]
    },
    {
     "name": "stdout",
     "output_type": "stream",
     "text": [
      "边的数量 58 52 1.1153846153846154\n",
      "计算GRN的方法: cmi\n"
     ]
    },
    {
     "name": "stderr",
     "output_type": "stream",
     "text": [
      " Pathway: hsa03010, total contain 125 genes, and 1 links!:  26%|█████▉                 | 88/342 [02:51<54:19, 12.83s/it]"
     ]
    },
    {
     "name": "stdout",
     "output_type": "stream",
     "text": [
      "边的数量 2 1 2.0\n",
      "计算GRN的方法: cmi\n"
     ]
    },
    {
     "name": "stderr",
     "output_type": "stream",
     "text": [
      " Pathway: hsa00970, total contain 19 genes, and 1 links!:  26%|██████▏                 | 89/342 [02:52<40:35,  9.63s/it]"
     ]
    },
    {
     "name": "stdout",
     "output_type": "stream",
     "text": [
      "边的数量 1 1 1.0\n",
      "计算GRN的方法: cmi\n"
     ]
    },
    {
     "name": "stderr",
     "output_type": "stream",
     "text": [
      " Pathway: hsa03013, total contain 97 genes, and 17 links!:  26%|██████                 | 90/342 [03:10<50:12, 11.95s/it]"
     ]
    },
    {
     "name": "stdout",
     "output_type": "stream",
     "text": [
      "边的数量 19 17 1.1176470588235294\n",
      "计算GRN的方法: cmi\n"
     ]
    },
    {
     "name": "stderr",
     "output_type": "stream",
     "text": [
      " Pathway: hsa03015, total contain 78 genes, and 44 links!:  27%|██████                 | 91/342 [03:22<50:05, 11.97s/it]"
     ]
    },
    {
     "name": "stdout",
     "output_type": "stream",
     "text": [
      "边的数量 48 44 1.0909090909090908\n",
      "计算GRN的方法: cmi\n"
     ]
    },
    {
     "name": "stderr",
     "output_type": "stream",
     "text": [
      " Pathway: hsa03008, total contain 68 genes, and 4 links!:  27%|██████▍                 | 92/342 [03:31<46:38, 11.19s/it]"
     ]
    },
    {
     "name": "stdout",
     "output_type": "stream",
     "text": [
      "边的数量 4 4 1.0\n",
      "计算GRN的方法: cmi\n"
     ]
    },
    {
     "name": "stderr",
     "output_type": "stream",
     "text": [
      "d:\\desktop\\code\\DigNet-main\\pathway\\pathway.py:278: RuntimeWarning: invalid value encountered in scalar divide\n",
      "  print('边的数量',np.sum(adj_matrix),np.sum(predicted_adj_matrix),(np.sum(adj_matrix) / np.sum(predicted_adj_matrix)) )\n",
      " Pathway: hsa03008, total contain 68 genes, and 4 links!:  27%|██████▌                 | 93/342 [03:32<34:45,  8.38s/it]"
     ]
    },
    {
     "name": "stdout",
     "output_type": "stream",
     "text": [
      "边的数量 0 0.0 nan\n"
     ]
    },
    {
     "name": "stderr",
     "output_type": "stream",
     "text": [
      " Pathway: hsa04141, total contain 146 genes, and 114 links!:  27%|█████▏             | 94/342 [04:46<1:53:53, 27.56s/it]"
     ]
    },
    {
     "name": "stdout",
     "output_type": "stream",
     "text": [
      "边的数量 119 114 1.043859649122807\n",
      "计算GRN的方法: cmi\n"
     ]
    },
    {
     "name": "stderr",
     "output_type": "stream",
     "text": [
      " Pathway: hsa04130, total contain 27 genes, and 11 links!:  28%|█████▊               | 95/342 [04:49<1:24:06, 20.43s/it]"
     ]
    },
    {
     "name": "stdout",
     "output_type": "stream",
     "text": [
      "边的数量 11 11 1.0\n",
      "计算GRN的方法: cmi\n"
     ]
    },
    {
     "name": "stderr",
     "output_type": "stream",
     "text": [
      " Pathway: hsa04120, total contain 120 genes, and 28 links!:  28%|█████▌              | 96/342 [05:53<2:16:04, 33.19s/it]"
     ]
    },
    {
     "name": "stdout",
     "output_type": "stream",
     "text": [
      "边的数量 37 28 1.3214285714285714\n",
      "计算GRN的方法: cmi\n"
     ]
    },
    {
     "name": "stderr",
     "output_type": "stream",
     "text": [
      "d:\\desktop\\code\\DigNet-main\\pathway\\pathway.py:278: RuntimeWarning: invalid value encountered in scalar divide\n",
      "  print('边的数量',np.sum(adj_matrix),np.sum(predicted_adj_matrix),(np.sum(adj_matrix) / np.sum(predicted_adj_matrix)) )\n",
      " Pathway: hsa04120, total contain 120 genes, and 28 links!:  29%|█████▋              | 98/342 [05:56<1:16:18, 18.76s/it]"
     ]
    },
    {
     "name": "stdout",
     "output_type": "stream",
     "text": [
      "边的数量 0 0.0 nan\n"
     ]
    },
    {
     "name": "stderr",
     "output_type": "stream",
     "text": [
      " Pathway: hsa03018, total contain 62 genes, and 39 links!:  29%|██████               | 99/342 [06:03<1:03:57, 15.79s/it]"
     ]
    },
    {
     "name": "stdout",
     "output_type": "stream",
     "text": [
      "边的数量 42 39 1.0769230769230769\n",
      "计算GRN的方法: cmi\n"
     ]
    },
    {
     "name": "stderr",
     "output_type": "stream",
     "text": [
      " Pathway: hsa03030, total contain 33 genes, and 37 links!:  29%|██████▍               | 100/342 [06:05<49:36, 12.30s/it]"
     ]
    },
    {
     "name": "stdout",
     "output_type": "stream",
     "text": [
      "边的数量 55 37 1.4864864864864864\n",
      "计算GRN的方法: cmi\n"
     ]
    },
    {
     "name": "stderr",
     "output_type": "stream",
     "text": [
      " Pathway: hsa03410, total contain 40 genes, and 21 links!:  30%|██████▍               | 101/342 [06:09<39:44,  9.89s/it]"
     ]
    },
    {
     "name": "stdout",
     "output_type": "stream",
     "text": [
      "边的数量 22 21 1.0476190476190477\n",
      "计算GRN的方法: cmi\n"
     ]
    },
    {
     "name": "stderr",
     "output_type": "stream",
     "text": [
      " Pathway: hsa03420, total contain 55 genes, and 139 links!:  30%|██████▎              | 102/342 [06:15<35:14,  8.81s/it]"
     ]
    },
    {
     "name": "stdout",
     "output_type": "stream",
     "text": [
      "边的数量 150 139 1.079136690647482\n",
      "计算GRN的方法: cmi\n"
     ]
    },
    {
     "name": "stderr",
     "output_type": "stream",
     "text": [
      " Pathway: hsa03430, total contain 21 genes, and 4 links!:  30%|██████▉                | 103/342 [06:16<26:35,  6.67s/it]"
     ]
    },
    {
     "name": "stdout",
     "output_type": "stream",
     "text": [
      "边的数量 4 4 1.0\n",
      "计算GRN的方法: cmi\n"
     ]
    },
    {
     "name": "stderr",
     "output_type": "stream",
     "text": [
      " Pathway: hsa03440, total contain 25 genes, and 13 links!:  30%|██████▋               | 104/342 [06:18<20:41,  5.22s/it]"
     ]
    },
    {
     "name": "stdout",
     "output_type": "stream",
     "text": [
      "边的数量 14 13 1.0769230769230769\n",
      "计算GRN的方法: cmi\n"
     ]
    },
    {
     "name": "stderr",
     "output_type": "stream",
     "text": [
      " Pathway: hsa03450, total contain 10 genes, and 6 links!:  31%|███████                | 105/342 [06:18<15:13,  3.85s/it]"
     ]
    },
    {
     "name": "stdout",
     "output_type": "stream",
     "text": [
      "边的数量 6 6 1.0\n",
      "计算GRN的方法: cmi\n"
     ]
    },
    {
     "name": "stderr",
     "output_type": "stream",
     "text": [
      " Pathway: hsa03460, total contain 31 genes, and 5 links!:  31%|███████▏               | 106/342 [06:21<13:17,  3.38s/it]"
     ]
    },
    {
     "name": "stdout",
     "output_type": "stream",
     "text": [
      "边的数量 5 5 1.0\n",
      "计算GRN的方法: cmi\n"
     ]
    },
    {
     "name": "stderr",
     "output_type": "stream",
     "text": [
      " Pathway: hsa03083, total contain 70 genes, and 182 links!:  31%|██████▌              | 107/342 [06:29<19:24,  4.96s/it]"
     ]
    },
    {
     "name": "stdout",
     "output_type": "stream",
     "text": [
      "边的数量 169 182 0.9285714285714286\n",
      "计算GRN的方法: cmi\n"
     ]
    },
    {
     "name": "stderr",
     "output_type": "stream",
     "text": [
      " Pathway: hsa03250, total contain 53 genes, and 40 links!:  32%|██████▉               | 108/342 [06:34<19:27,  4.99s/it]"
     ]
    },
    {
     "name": "stdout",
     "output_type": "stream",
     "text": [
      "边的数量 40 40 1.0\n",
      "计算GRN的方法: cmi\n"
     ]
    },
    {
     "name": "stderr",
     "output_type": "stream",
     "text": [
      "d:\\desktop\\code\\DigNet-main\\pathway\\pathway.py:278: RuntimeWarning: invalid value encountered in scalar divide\n",
      "  print('边的数量',np.sum(adj_matrix),np.sum(predicted_adj_matrix),(np.sum(adj_matrix) / np.sum(predicted_adj_matrix)) )\n",
      " Pathway: hsa03250, total contain 53 genes, and 40 links!:  33%|███████▎              | 114/342 [06:35<05:48,  1.53s/it]"
     ]
    },
    {
     "name": "stdout",
     "output_type": "stream",
     "text": [
      "边的数量 0 0.0 nan\n"
     ]
    },
    {
     "name": "stderr",
     "output_type": "stream",
     "text": [
      " Pathway: hsa04010, total contain 132 genes, and 536 links!:  34%|██████▋             | 115/342 [07:08<22:51,  6.04s/it]"
     ]
    },
    {
     "name": "stdout",
     "output_type": "stream",
     "text": [
      "边的数量 531 536 0.9906716417910447\n",
      "计算GRN的方法: cmi\n"
     ]
    },
    {
     "name": "stderr",
     "output_type": "stream",
     "text": [
      " Pathway: hsa04012, total contain 32 genes, and 41 links!:  34%|███████▍              | 116/342 [07:10<20:24,  5.42s/it]"
     ]
    },
    {
     "name": "stdout",
     "output_type": "stream",
     "text": [
      "边的数量 36 41 0.8780487804878049\n",
      "计算GRN的方法: cmi\n"
     ]
    },
    {
     "name": "stderr",
     "output_type": "stream",
     "text": [
      " Pathway: hsa04014, total contain 89 genes, and 216 links!:  34%|███████▏             | 117/342 [07:25<26:59,  7.20s/it]"
     ]
    },
    {
     "name": "stdout",
     "output_type": "stream",
     "text": [
      "边的数量 225 216 1.0416666666666667\n",
      "计算GRN的方法: cmi\n"
     ]
    },
    {
     "name": "stderr",
     "output_type": "stream",
     "text": [
      " Pathway: hsa04015, total contain 86 genes, and 101 links!:  35%|███████▏             | 118/342 [07:37<31:28,  8.43s/it]"
     ]
    },
    {
     "name": "stdout",
     "output_type": "stream",
     "text": [
      "边的数量 102 101 1.00990099009901\n",
      "计算GRN的方法: cmi\n"
     ]
    },
    {
     "name": "stderr",
     "output_type": "stream",
     "text": [
      " Pathway: hsa04310, total contain 71 genes, and 102 links!:  35%|███████▎             | 119/342 [07:46<31:42,  8.53s/it]"
     ]
    },
    {
     "name": "stdout",
     "output_type": "stream",
     "text": [
      "边的数量 106 102 1.0392156862745099\n",
      "计算GRN的方法: cmi\n"
     ]
    },
    {
     "name": "stderr",
     "output_type": "stream",
     "text": [
      " Pathway: hsa04330, total contain 33 genes, and 87 links!:  35%|███████▋              | 120/342 [07:49<25:53,  7.00s/it]"
     ]
    },
    {
     "name": "stdout",
     "output_type": "stream",
     "text": [
      "边的数量 96 87 1.103448275862069\n",
      "计算GRN的方法: cmi\n"
     ]
    },
    {
     "name": "stderr",
     "output_type": "stream",
     "text": [
      " Pathway: hsa04340, total contain 25 genes, and 9 links!:  35%|████████▏              | 121/342 [07:50<20:29,  5.56s/it]"
     ]
    },
    {
     "name": "stdout",
     "output_type": "stream",
     "text": [
      "边的数量 11 9 1.2222222222222223\n",
      "计算GRN的方法: cmi\n"
     ]
    },
    {
     "name": "stderr",
     "output_type": "stream",
     "text": [
      " Pathway: hsa04350, total contain 51 genes, and 273 links!:  36%|███████▍             | 122/342 [07:56<20:12,  5.51s/it]"
     ]
    },
    {
     "name": "stdout",
     "output_type": "stream",
     "text": [
      "边的数量 240 273 0.8791208791208791\n",
      "计算GRN的方法: cmi\n"
     ]
    },
    {
     "name": "stderr",
     "output_type": "stream",
     "text": [
      " Pathway: hsa04390, total contain 67 genes, and 96 links!:  36%|███████▉              | 123/342 [08:04<22:51,  6.26s/it]"
     ]
    },
    {
     "name": "stdout",
     "output_type": "stream",
     "text": [
      "边的数量 94 96 0.9791666666666666\n",
      "计算GRN的方法: cmi\n"
     ]
    },
    {
     "name": "stderr",
     "output_type": "stream",
     "text": [
      " Pathway: hsa04392, total contain 21 genes, and 23 links!:  36%|███████▉              | 124/342 [08:05<17:31,  4.82s/it]"
     ]
    },
    {
     "name": "stdout",
     "output_type": "stream",
     "text": [
      "边的数量 21 23 0.9130434782608695\n",
      "计算GRN的方法: cmi\n"
     ]
    },
    {
     "name": "stderr",
     "output_type": "stream",
     "text": [
      " Pathway: hsa04370, total contain 26 genes, and 42 links!:  37%|████████              | 125/342 [08:07<14:10,  3.92s/it]"
     ]
    },
    {
     "name": "stdout",
     "output_type": "stream",
     "text": [
      "边的数量 44 42 1.0476190476190477\n",
      "计算GRN的方法: cmi\n"
     ]
    },
    {
     "name": "stderr",
     "output_type": "stream",
     "text": [
      " Pathway: hsa04371, total contain 61 genes, and 110 links!:  37%|███████▋             | 126/342 [08:14<17:16,  4.80s/it]"
     ]
    },
    {
     "name": "stdout",
     "output_type": "stream",
     "text": [
      "边的数量 107 110 0.9727272727272728\n",
      "计算GRN的方法: cmi\n"
     ]
    },
    {
     "name": "stderr",
     "output_type": "stream",
     "text": [
      " Pathway: hsa04630, total contain 52 genes, and 340 links!:  37%|███████▊             | 127/342 [08:20<18:21,  5.12s/it]"
     ]
    },
    {
     "name": "stdout",
     "output_type": "stream",
     "text": [
      "边的数量 301 340 0.8852941176470588\n",
      "计算GRN的方法: cmi\n"
     ]
    },
    {
     "name": "stderr",
     "output_type": "stream",
     "text": [
      " Pathway: hsa04064, total contain 62 genes, and 329 links!:  37%|███████▊             | 128/342 [08:27<20:51,  5.85s/it]"
     ]
    },
    {
     "name": "stdout",
     "output_type": "stream",
     "text": [
      "边的数量 316 329 0.9604863221884499\n",
      "计算GRN的方法: cmi\n"
     ]
    },
    {
     "name": "stderr",
     "output_type": "stream",
     "text": [
      " Pathway: hsa04668, total contain 68 genes, and 377 links!:  38%|███████▉             | 129/342 [08:36<24:05,  6.79s/it]"
     ]
    },
    {
     "name": "stdout",
     "output_type": "stream",
     "text": [
      "边的数量 335 377 0.8885941644562334\n",
      "计算GRN的方法: cmi\n"
     ]
    },
    {
     "name": "stderr",
     "output_type": "stream",
     "text": [
      " Pathway: hsa04066, total contain 53 genes, and 148 links!:  38%|███████▉             | 130/342 [08:42<22:37,  6.40s/it]"
     ]
    },
    {
     "name": "stdout",
     "output_type": "stream",
     "text": [
      "边的数量 154 148 1.0405405405405406\n",
      "计算GRN的方法: cmi\n"
     ]
    },
    {
     "name": "stderr",
     "output_type": "stream",
     "text": [
      " Pathway: hsa04068, total contain 61 genes, and 115 links!:  38%|████████             | 131/342 [08:49<22:53,  6.51s/it]"
     ]
    },
    {
     "name": "stdout",
     "output_type": "stream",
     "text": [
      "边的数量 113 115 0.9826086956521739\n",
      "计算GRN的方法: cmi\n"
     ]
    },
    {
     "name": "stderr",
     "output_type": "stream",
     "text": [
      " Pathway: hsa04020, total contain 76 genes, and 88 links!:  39%|████████▍             | 132/342 [08:59<26:39,  7.62s/it]"
     ]
    },
    {
     "name": "stdout",
     "output_type": "stream",
     "text": [
      "边的数量 92 88 1.0454545454545454\n",
      "计算GRN的方法: cmi\n"
     ]
    },
    {
     "name": "stderr",
     "output_type": "stream",
     "text": [
      " Pathway: hsa04070, total contain 53 genes, and 81 links!:  39%|████████▌             | 133/342 [09:04<23:57,  6.88s/it]"
     ]
    },
    {
     "name": "stdout",
     "output_type": "stream",
     "text": [
      "边的数量 83 81 1.0246913580246915\n",
      "计算GRN的方法: cmi\n"
     ]
    },
    {
     "name": "stderr",
     "output_type": "stream",
     "text": [
      " Pathway: hsa04072, total contain 56 genes, and 74 links!:  39%|████████▌             | 134/342 [09:10<22:42,  6.55s/it]"
     ]
    },
    {
     "name": "stdout",
     "output_type": "stream",
     "text": [
      "边的数量 75 74 1.0135135135135136\n",
      "计算GRN的方法: cmi\n"
     ]
    },
    {
     "name": "stderr",
     "output_type": "stream",
     "text": [
      " Pathway: hsa04071, total contain 69 genes, and 99 links!:  39%|████████▋             | 135/342 [09:18<24:39,  7.15s/it]"
     ]
    },
    {
     "name": "stdout",
     "output_type": "stream",
     "text": [
      "边的数量 108 99 1.0909090909090908\n",
      "计算GRN的方法: cmi\n"
     ]
    },
    {
     "name": "stderr",
     "output_type": "stream",
     "text": [
      " Pathway: hsa04024, total contain 64 genes, and 211 links!:  40%|████████▎            | 136/342 [09:26<25:01,  7.29s/it]"
     ]
    },
    {
     "name": "stdout",
     "output_type": "stream",
     "text": [
      "边的数量 203 211 0.9620853080568721\n",
      "计算GRN的方法: cmi\n"
     ]
    },
    {
     "name": "stderr",
     "output_type": "stream",
     "text": [
      " Pathway: hsa04022, total contain 72 genes, and 115 links!:  40%|████████▍            | 137/342 [09:35<26:32,  7.77s/it]"
     ]
    },
    {
     "name": "stdout",
     "output_type": "stream",
     "text": [
      "边的数量 128 115 1.1130434782608696\n",
      "计算GRN的方法: cmi\n"
     ]
    },
    {
     "name": "stderr",
     "output_type": "stream",
     "text": [
      " Pathway: hsa04151, total contain 143 genes, and 350 links!:  40%|████████            | 138/342 [10:09<52:58, 15.58s/it]"
     ]
    },
    {
     "name": "stdout",
     "output_type": "stream",
     "text": [
      "边的数量 334 350 0.9542857142857143\n",
      "计算GRN的方法: cmi\n"
     ]
    },
    {
     "name": "stderr",
     "output_type": "stream",
     "text": [
      " Pathway: hsa04152, total contain 67 genes, and 110 links!:  41%|████████▌            | 139/342 [10:17<45:36, 13.48s/it]"
     ]
    },
    {
     "name": "stdout",
     "output_type": "stream",
     "text": [
      "边的数量 113 110 1.0272727272727273\n",
      "计算GRN的方法: cmi\n"
     ]
    },
    {
     "name": "stderr",
     "output_type": "stream",
     "text": [
      " Pathway: hsa04150, total contain 77 genes, and 62 links!:  41%|█████████             | 140/342 [10:28<43:10, 12.82s/it]"
     ]
    },
    {
     "name": "stdout",
     "output_type": "stream",
     "text": [
      "边的数量 64 62 1.032258064516129\n",
      "计算GRN的方法: cmi\n"
     ]
    },
    {
     "name": "stderr",
     "output_type": "stream",
     "text": [
      " Pathway: hsa04080, total contain 22 genes, and 2 links!:  41%|█████████▍             | 141/342 [10:30<31:26,  9.39s/it]"
     ]
    },
    {
     "name": "stdout",
     "output_type": "stream",
     "text": [
      "边的数量 2 2 1.0\n",
      "计算GRN的方法: cmi\n"
     ]
    },
    {
     "name": "stderr",
     "output_type": "stream",
     "text": [
      " Pathway: hsa04060, total contain 60 genes, and 13 links!:  42%|█████████▏            | 142/342 [10:36<28:22,  8.51s/it]"
     ]
    },
    {
     "name": "stdout",
     "output_type": "stream",
     "text": [
      "边的数量 13 13 1.0\n",
      "计算GRN的方法: cmi\n"
     ]
    },
    {
     "name": "stderr",
     "output_type": "stream",
     "text": [
      " Pathway: hsa04061, total contain 24 genes, and 4 links!:  42%|█████████▌             | 143/342 [10:38<21:19,  6.43s/it]"
     ]
    },
    {
     "name": "stdout",
     "output_type": "stream",
     "text": [
      "边的数量 4 4 1.0\n",
      "计算GRN的方法: cmi\n"
     ]
    },
    {
     "name": "stderr",
     "output_type": "stream",
     "text": [
      " Pathway: hsa04512, total contain 33 genes, and 44 links!:  42%|█████████▎            | 144/342 [10:40<17:18,  5.24s/it]"
     ]
    },
    {
     "name": "stdout",
     "output_type": "stream",
     "text": [
      "边的数量 46 44 1.0454545454545454\n",
      "计算GRN的方法: cmi\n"
     ]
    },
    {
     "name": "stderr",
     "output_type": "stream",
     "text": [
      " Pathway: hsa04514, total contain 58 genes, and 23 links!:  42%|█████████▎            | 145/342 [10:47<18:13,  5.55s/it]"
     ]
    },
    {
     "name": "stdout",
     "output_type": "stream",
     "text": [
      "边的数量 38 23 1.6521739130434783\n",
      "计算GRN的方法: cmi\n"
     ]
    },
    {
     "name": "stderr",
     "output_type": "stream",
     "text": [
      " Pathway: hsa04144, total contain 182 genes, and 97 links!:  43%|████████           | 146/342 [11:38<1:02:50, 19.24s/it]"
     ]
    },
    {
     "name": "stdout",
     "output_type": "stream",
     "text": [
      "边的数量 104 97 1.0721649484536082\n",
      "计算GRN的方法: cmi\n"
     ]
    },
    {
     "name": "stderr",
     "output_type": "stream",
     "text": [
      " Pathway: hsa04145, total contain 103 genes, and 31 links!:  43%|████████▏          | 147/342 [12:11<1:16:02, 23.40s/it]"
     ]
    },
    {
     "name": "stdout",
     "output_type": "stream",
     "text": [
      "边的数量 46 31 1.4838709677419355\n",
      "计算GRN的方法: cmi\n"
     ]
    },
    {
     "name": "stderr",
     "output_type": "stream",
     "text": [
      " Pathway: hsa04142, total contain 104 genes, and 13 links!:  43%|████████▏          | 148/342 [12:57<1:37:47, 30.24s/it]"
     ]
    },
    {
     "name": "stdout",
     "output_type": "stream",
     "text": [
      "边的数量 13 13 1.0\n",
      "计算GRN的方法: cmi\n"
     ]
    },
    {
     "name": "stderr",
     "output_type": "stream",
     "text": [
      " Pathway: hsa04146, total contain 59 genes, and 9 links!:  44%|█████████▏           | 149/342 [13:11<1:21:09, 25.23s/it]"
     ]
    },
    {
     "name": "stdout",
     "output_type": "stream",
     "text": [
      "边的数量 9 9 1.0\n",
      "计算GRN的方法: cmi\n"
     ]
    },
    {
     "name": "stderr",
     "output_type": "stream",
     "text": [
      " Pathway: hsa04140, total contain 103 genes, and 109 links!:  44%|███████▉          | 150/342 [13:57<1:41:12, 31.63s/it]"
     ]
    },
    {
     "name": "stdout",
     "output_type": "stream",
     "text": [
      "边的数量 106 109 0.9724770642201835\n",
      "计算GRN的方法: cmi\n"
     ]
    },
    {
     "name": "stderr",
     "output_type": "stream",
     "text": [
      " Pathway: hsa04136, total contain 25 genes, and 16 links!:  44%|████████▊           | 151/342 [14:00<1:13:33, 23.11s/it]"
     ]
    },
    {
     "name": "stdout",
     "output_type": "stream",
     "text": [
      "边的数量 16 16 1.0\n",
      "计算GRN的方法: cmi\n"
     ]
    },
    {
     "name": "stderr",
     "output_type": "stream",
     "text": [
      " Pathway: hsa04137, total contain 54 genes, and 65 links!:  44%|████████▉           | 152/342 [14:12<1:02:26, 19.72s/it]"
     ]
    },
    {
     "name": "stdout",
     "output_type": "stream",
     "text": [
      "边的数量 68 65 1.0461538461538462\n",
      "计算GRN的方法: cmi\n"
     ]
    },
    {
     "name": "stderr",
     "output_type": "stream",
     "text": [
      " Pathway: hsa04110, total contain 114 genes, and 454 links!:  45%|████████          | 153/342 [15:11<1:38:30, 31.27s/it]"
     ]
    },
    {
     "name": "stdout",
     "output_type": "stream",
     "text": [
      "边的数量 427 454 0.9405286343612335\n",
      "计算GRN的方法: cmi\n"
     ]
    },
    {
     "name": "stderr",
     "output_type": "stream",
     "text": [
      " Pathway: hsa04114, total contain 81 genes, and 74 links!:  45%|█████████           | 154/342 [15:31<1:27:42, 27.99s/it]"
     ]
    },
    {
     "name": "stdout",
     "output_type": "stream",
     "text": [
      "边的数量 75 74 1.0135135135135136\n",
      "计算GRN的方法: cmi\n"
     ]
    },
    {
     "name": "stderr",
     "output_type": "stream",
     "text": [
      " Pathway: hsa04210, total contain 84 genes, and 238 links!:  45%|████████▌          | 155/342 [16:03<1:30:41, 29.10s/it]"
     ]
    },
    {
     "name": "stdout",
     "output_type": "stream",
     "text": [
      "边的数量 230 238 0.9663865546218487\n",
      "计算GRN的方法: cmi\n"
     ]
    },
    {
     "name": "stderr",
     "output_type": "stream",
     "text": [
      " Pathway: hsa04215, total contain 24 genes, and 46 links!:  46%|█████████           | 156/342 [16:06<1:05:54, 21.26s/it]"
     ]
    },
    {
     "name": "stdout",
     "output_type": "stream",
     "text": [
      "边的数量 48 46 1.0434782608695652\n",
      "计算GRN的方法: cmi\n"
     ]
    },
    {
     "name": "stderr",
     "output_type": "stream",
     "text": [
      " Pathway: hsa04216, total contain 34 genes, and 8 links!:  46%|██████████▌            | 157/342 [16:11<50:35, 16.41s/it]"
     ]
    },
    {
     "name": "stdout",
     "output_type": "stream",
     "text": [
      "边的数量 8 8 1.0\n",
      "计算GRN的方法: cmi\n"
     ]
    },
    {
     "name": "stderr",
     "output_type": "stream",
     "text": [
      " Pathway: hsa04217, total contain 87 genes, and 195 links!:  46%|████████▊          | 158/342 [16:45<1:06:56, 21.83s/it]"
     ]
    },
    {
     "name": "stdout",
     "output_type": "stream",
     "text": [
      "边的数量 197 195 1.0102564102564102\n",
      "计算GRN的方法: cmi\n"
     ]
    },
    {
     "name": "stderr",
     "output_type": "stream",
     "text": [
      " Pathway: hsa04115, total contain 52 genes, and 58 links!:  46%|██████████▏           | 159/342 [16:57<57:41, 18.92s/it]"
     ]
    },
    {
     "name": "stdout",
     "output_type": "stream",
     "text": [
      "边的数量 58 58 1.0\n",
      "计算GRN的方法: cmi\n"
     ]
    },
    {
     "name": "stderr",
     "output_type": "stream",
     "text": [
      " Pathway: hsa04218, total contain 91 genes, and 191 links!:  47%|████████▉          | 160/342 [17:33<1:12:19, 23.84s/it]"
     ]
    },
    {
     "name": "stdout",
     "output_type": "stream",
     "text": [
      "边的数量 193 191 1.0104712041884816\n",
      "计算GRN的方法: cmi\n"
     ]
    },
    {
     "name": "stderr",
     "output_type": "stream",
     "text": [
      " Pathway: hsa04510, total contain 96 genes, and 168 links!:  47%|████████▉          | 161/342 [18:10<1:24:37, 28.05s/it]"
     ]
    },
    {
     "name": "stdout",
     "output_type": "stream",
     "text": [
      "边的数量 147 168 0.875\n",
      "计算GRN的方法: cmi\n"
     ]
    },
    {
     "name": "stderr",
     "output_type": "stream",
     "text": [
      " Pathway: hsa04520, total contain 55 genes, and 78 links!:  47%|█████████▍          | 162/342 [18:21<1:08:50, 22.95s/it]"
     ]
    },
    {
     "name": "stdout",
     "output_type": "stream",
     "text": [
      "边的数量 78 78 1.0\n",
      "计算GRN的方法: cmi\n"
     ]
    },
    {
     "name": "stderr",
     "output_type": "stream",
     "text": [
      " Pathway: hsa04530, total contain 108 genes, and 149 links!:  48%|████████▌         | 163/342 [19:11<1:32:38, 31.05s/it]"
     ]
    },
    {
     "name": "stdout",
     "output_type": "stream",
     "text": [
      "边的数量 149 149 1.0\n",
      "计算GRN的方法: cmi\n"
     ]
    },
    {
     "name": "stderr",
     "output_type": "stream",
     "text": [
      " Pathway: hsa04540, total contain 37 genes, and 39 links!:  48%|█████████▌          | 164/342 [19:17<1:09:45, 23.51s/it]"
     ]
    },
    {
     "name": "stdout",
     "output_type": "stream",
     "text": [
      "边的数量 39 39 1.0\n",
      "计算GRN的方法: cmi\n"
     ]
    },
    {
     "name": "stderr",
     "output_type": "stream",
     "text": [
      " Pathway: hsa04550, total contain 36 genes, and 67 links!:  48%|██████████▌           | 165/342 [19:22<53:04, 17.99s/it]"
     ]
    },
    {
     "name": "stdout",
     "output_type": "stream",
     "text": [
      "边的数量 67 67 1.0\n",
      "计算GRN的方法: cmi\n"
     ]
    },
    {
     "name": "stderr",
     "output_type": "stream",
     "text": [
      " Pathway: hsa04814, total contain 92 genes, and 53 links!:  49%|█████████▋          | 166/342 [19:56<1:06:10, 22.56s/it]"
     ]
    },
    {
     "name": "stdout",
     "output_type": "stream",
     "text": [
      "边的数量 53 53 1.0\n",
      "计算GRN的方法: cmi\n"
     ]
    },
    {
     "name": "stderr",
     "output_type": "stream",
     "text": [
      " Pathway: hsa04810, total contain 113 genes, and 167 links!:  49%|████████▊         | 167/342 [20:47<1:30:40, 31.09s/it]"
     ]
    },
    {
     "name": "stdout",
     "output_type": "stream",
     "text": [
      "边的数量 168 167 1.0059880239520957\n",
      "计算GRN的方法: cmi\n"
     ]
    },
    {
     "name": "stderr",
     "output_type": "stream",
     "text": [
      " Pathway: hsa04640, total contain 33 genes, and 4 links!:  49%|██████████▎          | 168/342 [20:51<1:07:00, 23.11s/it]"
     ]
    },
    {
     "name": "stdout",
     "output_type": "stream",
     "text": [
      "边的数量 13 4 3.25\n",
      "计算GRN的方法: cmi\n"
     ]
    },
    {
     "name": "stderr",
     "output_type": "stream",
     "text": [
      " Pathway: hsa04610, total contain 22 genes, and 5 links!:  49%|███████████▎           | 169/342 [20:54<48:46, 16.91s/it]"
     ]
    },
    {
     "name": "stdout",
     "output_type": "stream",
     "text": [
      "边的数量 5 5 1.0\n",
      "计算GRN的方法: cmi\n"
     ]
    },
    {
     "name": "stderr",
     "output_type": "stream",
     "text": [
      " Pathway: hsa04611, total contain 53 genes, and 66 links!:  50%|██████████▉           | 170/342 [21:04<43:13, 15.08s/it]"
     ]
    },
    {
     "name": "stdout",
     "output_type": "stream",
     "text": [
      "边的数量 66 66 1.0\n",
      "计算GRN的方法: cmi\n"
     ]
    },
    {
     "name": "stderr",
     "output_type": "stream",
     "text": [
      " Pathway: hsa04613, total contain 52 genes, and 70 links!:  50%|███████████           | 171/342 [21:15<39:10, 13.75s/it]"
     ]
    },
    {
     "name": "stdout",
     "output_type": "stream",
     "text": [
      "边的数量 95 70 1.3571428571428572\n",
      "计算GRN的方法: cmi\n"
     ]
    },
    {
     "name": "stderr",
     "output_type": "stream",
     "text": [
      " Pathway: hsa04620, total contain 48 genes, and 327 links!:  50%|██████████▌          | 172/342 [21:25<36:04, 12.73s/it]"
     ]
    },
    {
     "name": "stdout",
     "output_type": "stream",
     "text": [
      "边的数量 310 327 0.9480122324159022\n",
      "计算GRN的方法: cmi\n"
     ]
    },
    {
     "name": "stderr",
     "output_type": "stream",
     "text": [
      " Pathway: hsa04621, total contain 115 genes, and 442 links!:  51%|█████████         | 173/342 [22:19<1:10:37, 25.07s/it]"
     ]
    },
    {
     "name": "stdout",
     "output_type": "stream",
     "text": [
      "边的数量 429 442 0.9705882352941176\n",
      "计算GRN的方法: cmi\n"
     ]
    },
    {
     "name": "stderr",
     "output_type": "stream",
     "text": [
      " Pathway: hsa04622, total contain 43 genes, and 229 links!:  51%|██████████▋          | 174/342 [22:27<55:48, 19.93s/it]"
     ]
    },
    {
     "name": "stdout",
     "output_type": "stream",
     "text": [
      "边的数量 222 229 0.9694323144104804\n",
      "计算GRN的方法: cmi\n"
     ]
    },
    {
     "name": "stderr",
     "output_type": "stream",
     "text": [
      " Pathway: hsa04623, total contain 42 genes, and 175 links!:  51%|██████████▋          | 175/342 [22:34<44:55, 16.14s/it]"
     ]
    },
    {
     "name": "stdout",
     "output_type": "stream",
     "text": [
      "边的数量 168 175 0.96\n",
      "计算GRN的方法: cmi\n"
     ]
    },
    {
     "name": "stderr",
     "output_type": "stream",
     "text": [
      " Pathway: hsa04625, total contain 58 genes, and 234 links!:  51%|██████████▊          | 176/342 [22:47<41:52, 15.13s/it]"
     ]
    },
    {
     "name": "stdout",
     "output_type": "stream",
     "text": [
      "边的数量 216 234 0.9230769230769231\n",
      "计算GRN的方法: cmi\n"
     ]
    },
    {
     "name": "stderr",
     "output_type": "stream",
     "text": [
      " Pathway: hsa04650, total contain 43 genes, and 72 links!:  52%|███████████▍          | 177/342 [22:54<34:52, 12.68s/it]"
     ]
    },
    {
     "name": "stdout",
     "output_type": "stream",
     "text": [
      "边的数量 76 72 1.0555555555555556\n",
      "计算GRN的方法: cmi\n"
     ]
    },
    {
     "name": "stderr",
     "output_type": "stream",
     "text": [
      " Pathway: hsa04612, total contain 49 genes, and 113 links!:  52%|██████████▉          | 178/342 [23:04<32:05, 11.74s/it]"
     ]
    },
    {
     "name": "stdout",
     "output_type": "stream",
     "text": [
      "边的数量 129 113 1.1415929203539823\n",
      "计算GRN的方法: cmi\n"
     ]
    },
    {
     "name": "stderr",
     "output_type": "stream",
     "text": [
      " Pathway: hsa04660, total contain 45 genes, and 215 links!:  52%|██████████▉          | 179/342 [23:12<29:10, 10.74s/it]"
     ]
    },
    {
     "name": "stdout",
     "output_type": "stream",
     "text": [
      "边的数量 218 215 1.013953488372093\n",
      "计算GRN的方法: cmi\n"
     ]
    },
    {
     "name": "stderr",
     "output_type": "stream",
     "text": [
      " Pathway: hsa04658, total contain 50 genes, and 202 links!:  53%|███████████          | 180/342 [23:23<28:45, 10.65s/it]"
     ]
    },
    {
     "name": "stdout",
     "output_type": "stream",
     "text": [
      "边的数量 195 202 0.9653465346534653\n",
      "计算GRN的方法: cmi\n"
     ]
    },
    {
     "name": "stderr",
     "output_type": "stream",
     "text": [
      " Pathway: hsa04659, total contain 62 genes, and 316 links!:  53%|███████████          | 181/342 [23:31<27:07, 10.11s/it]"
     ]
    },
    {
     "name": "stdout",
     "output_type": "stream",
     "text": [
      "边的数量 270 316 0.8544303797468354\n",
      "计算GRN的方法: cmi\n"
     ]
    },
    {
     "name": "stderr",
     "output_type": "stream",
     "text": [
      " Pathway: hsa04657, total contain 48 genes, and 233 links!:  53%|███████████▏         | 182/342 [23:36<22:35,  8.47s/it]"
     ]
    },
    {
     "name": "stdout",
     "output_type": "stream",
     "text": [
      "边的数量 208 233 0.8927038626609443\n",
      "计算GRN的方法: cmi\n"
     ]
    },
    {
     "name": "stderr",
     "output_type": "stream",
     "text": [
      " Pathway: hsa04662, total contain 31 genes, and 110 links!:  54%|███████████▏         | 183/342 [23:38<17:33,  6.62s/it]"
     ]
    },
    {
     "name": "stdout",
     "output_type": "stream",
     "text": [
      "边的数量 119 110 1.0818181818181818\n",
      "计算GRN的方法: cmi\n"
     ]
    },
    {
     "name": "stderr",
     "output_type": "stream",
     "text": [
      " Pathway: hsa04664, total contain 24 genes, and 36 links!:  54%|███████████▊          | 184/342 [23:40<13:24,  5.09s/it]"
     ]
    },
    {
     "name": "stdout",
     "output_type": "stream",
     "text": [
      "边的数量 36 36 1.0\n",
      "计算GRN的方法: cmi\n"
     ]
    },
    {
     "name": "stderr",
     "output_type": "stream",
     "text": [
      " Pathway: hsa04666, total contain 57 genes, and 44 links!:  54%|███████████▉          | 185/342 [23:46<14:05,  5.39s/it]"
     ]
    },
    {
     "name": "stdout",
     "output_type": "stream",
     "text": [
      "边的数量 44 44 1.0\n",
      "计算GRN的方法: cmi\n"
     ]
    },
    {
     "name": "stderr",
     "output_type": "stream",
     "text": [
      " Pathway: hsa04670, total contain 59 genes, and 79 links!:  54%|███████████▉          | 186/342 [23:52<14:39,  5.64s/it]"
     ]
    },
    {
     "name": "stdout",
     "output_type": "stream",
     "text": [
      "边的数量 83 79 1.0506329113924051\n",
      "计算GRN的方法: cmi\n"
     ]
    },
    {
     "name": "stderr",
     "output_type": "stream",
     "text": [
      " Pathway: hsa04672, total contain 18 genes, and 6 links!:  55%|████████████▌          | 187/342 [23:53<11:01,  4.27s/it]"
     ]
    },
    {
     "name": "stdout",
     "output_type": "stream",
     "text": [
      "边的数量 15 6 2.5\n",
      "计算GRN的方法: cmi\n"
     ]
    },
    {
     "name": "stderr",
     "output_type": "stream",
     "text": [
      " Pathway: hsa04062, total contain 75 genes, and 265 links!:  55%|███████████▌         | 188/342 [24:03<15:24,  6.00s/it]"
     ]
    },
    {
     "name": "stdout",
     "output_type": "stream",
     "text": [
      "边的数量 259 265 0.9773584905660377\n",
      "计算GRN的方法: cmi\n"
     ]
    },
    {
     "name": "stderr",
     "output_type": "stream",
     "text": [
      " Pathway: hsa04911, total contain 33 genes, and 71 links!:  55%|████████████▏         | 189/342 [24:06<12:33,  4.92s/it]"
     ]
    },
    {
     "name": "stdout",
     "output_type": "stream",
     "text": [
      "边的数量 71 71 1.0\n",
      "计算GRN的方法: cmi\n"
     ]
    },
    {
     "name": "stderr",
     "output_type": "stream",
     "text": [
      " Pathway: hsa04910, total contain 71 genes, and 79 links!:  56%|████████████▏         | 190/342 [24:14<15:17,  6.04s/it]"
     ]
    },
    {
     "name": "stdout",
     "output_type": "stream",
     "text": [
      "边的数量 79 79 1.0\n",
      "计算GRN的方法: cmi\n"
     ]
    },
    {
     "name": "stderr",
     "output_type": "stream",
     "text": [
      " Pathway: hsa04922, total contain 62 genes, and 170 links!:  56%|███████████▋         | 191/342 [24:21<15:47,  6.27s/it]"
     ]
    },
    {
     "name": "stdout",
     "output_type": "stream",
     "text": [
      "边的数量 156 170 0.9176470588235294\n",
      "计算GRN的方法: cmi\n"
     ]
    },
    {
     "name": "stderr",
     "output_type": "stream",
     "text": [
      " Pathway: hsa04923, total contain 16 genes, and 12 links!:  56%|████████████▎         | 192/342 [24:22<11:38,  4.66s/it]"
     ]
    },
    {
     "name": "stdout",
     "output_type": "stream",
     "text": [
      "边的数量 12 12 1.0\n",
      "计算GRN的方法: cmi\n"
     ]
    },
    {
     "name": "stderr",
     "output_type": "stream",
     "text": [
      " Pathway: hsa04920, total contain 43 genes, and 184 links!:  56%|███████████▊         | 193/342 [24:26<10:55,  4.40s/it]"
     ]
    },
    {
     "name": "stdout",
     "output_type": "stream",
     "text": [
      "边的数量 176 184 0.9565217391304348\n",
      "计算GRN的方法: cmi\n"
     ]
    },
    {
     "name": "stderr",
     "output_type": "stream",
     "text": [
      " Pathway: hsa03320, total contain 37 genes, and 124 links!:  57%|███████████▉         | 194/342 [24:29<09:44,  3.95s/it]"
     ]
    },
    {
     "name": "stdout",
     "output_type": "stream",
     "text": [
      "边的数量 112 124 0.9032258064516129\n",
      "计算GRN的方法: cmi\n"
     ]
    },
    {
     "name": "stderr",
     "output_type": "stream",
     "text": [
      " Pathway: hsa04929, total contain 15 genes, and 15 links!:  57%|████████████▌         | 195/342 [24:30<07:23,  3.01s/it]"
     ]
    },
    {
     "name": "stdout",
     "output_type": "stream",
     "text": [
      "边的数量 15 15 1.0\n",
      "计算GRN的方法: cmi\n"
     ]
    },
    {
     "name": "stderr",
     "output_type": "stream",
     "text": [
      " Pathway: hsa04912, total contain 44 genes, and 92 links!:  57%|████████████▌         | 196/342 [24:33<07:50,  3.22s/it]"
     ]
    },
    {
     "name": "stdout",
     "output_type": "stream",
     "text": [
      "边的数量 89 92 0.967391304347826\n",
      "计算GRN的方法: cmi\n"
     ]
    },
    {
     "name": "stderr",
     "output_type": "stream",
     "text": [
      " Pathway: hsa04913, total contain 14 genes, and 9 links!:  58%|█████████████▏         | 197/342 [24:34<06:00,  2.48s/it]"
     ]
    },
    {
     "name": "stdout",
     "output_type": "stream",
     "text": [
      "边的数量 9 9 1.0\n",
      "计算GRN的方法: cmi\n"
     ]
    },
    {
     "name": "stderr",
     "output_type": "stream",
     "text": [
      " Pathway: hsa04915, total contain 50 genes, and 77 links!:  58%|████████████▋         | 198/342 [24:39<07:29,  3.12s/it]"
     ]
    },
    {
     "name": "stdout",
     "output_type": "stream",
     "text": [
      "边的数量 74 77 0.961038961038961\n",
      "计算GRN的方法: cmi\n"
     ]
    },
    {
     "name": "stderr",
     "output_type": "stream",
     "text": [
      " Pathway: hsa04914, total contain 47 genes, and 51 links!:  58%|████████████▊         | 199/342 [24:43<08:08,  3.42s/it]"
     ]
    },
    {
     "name": "stdout",
     "output_type": "stream",
     "text": [
      "边的数量 51 51 1.0\n",
      "计算GRN的方法: cmi\n"
     ]
    },
    {
     "name": "stderr",
     "output_type": "stream",
     "text": [
      " Pathway: hsa04917, total contain 23 genes, and 98 links!:  58%|████████████▊         | 200/342 [24:44<06:45,  2.86s/it]"
     ]
    },
    {
     "name": "stdout",
     "output_type": "stream",
     "text": [
      "边的数量 93 98 0.9489795918367347\n",
      "计算GRN的方法: cmi\n"
     ]
    },
    {
     "name": "stderr",
     "output_type": "stream",
     "text": [
      " Pathway: hsa04921, total contain 61 genes, and 80 links!:  59%|████████████▉         | 201/342 [24:51<09:13,  3.93s/it]"
     ]
    },
    {
     "name": "stdout",
     "output_type": "stream",
     "text": [
      "边的数量 74 80 0.925\n",
      "计算GRN的方法: cmi\n"
     ]
    },
    {
     "name": "stderr",
     "output_type": "stream",
     "text": [
      " Pathway: hsa04926, total contain 51 genes, and 163 links!:  59%|████████████▍        | 202/342 [24:56<09:46,  4.19s/it]"
     ]
    },
    {
     "name": "stdout",
     "output_type": "stream",
     "text": [
      "边的数量 158 163 0.9693251533742331\n",
      "计算GRN的方法: cmi\n"
     ]
    },
    {
     "name": "stderr",
     "output_type": "stream",
     "text": [
      " Pathway: hsa04935, total contain 53 genes, and 276 links!:  59%|████████████▍        | 203/342 [25:01<10:32,  4.55s/it]"
     ]
    },
    {
     "name": "stdout",
     "output_type": "stream",
     "text": [
      "边的数量 246 276 0.8913043478260869\n",
      "计算GRN的方法: cmi\n"
     ]
    },
    {
     "name": "stderr",
     "output_type": "stream",
     "text": [
      " Pathway: hsa04918, total contain 38 genes, and 72 links!:  60%|█████████████         | 204/342 [25:04<09:21,  4.07s/it]"
     ]
    },
    {
     "name": "stdout",
     "output_type": "stream",
     "text": [
      "边的数量 76 72 1.0555555555555556\n",
      "计算GRN的方法: cmi\n"
     ]
    },
    {
     "name": "stderr",
     "output_type": "stream",
     "text": [
      " Pathway: hsa04919, total contain 56 genes, and 127 links!:  60%|████████████▌        | 205/342 [25:10<10:29,  4.60s/it]"
     ]
    },
    {
     "name": "stdout",
     "output_type": "stream",
     "text": [
      "边的数量 129 127 1.015748031496063\n",
      "计算GRN的方法: cmi\n"
     ]
    },
    {
     "name": "stderr",
     "output_type": "stream",
     "text": [
      " Pathway: hsa04928, total contain 52 genes, and 149 links!:  60%|████████████▋        | 206/342 [25:15<10:39,  4.70s/it]"
     ]
    },
    {
     "name": "stdout",
     "output_type": "stream",
     "text": [
      "边的数量 134 149 0.8993288590604027\n",
      "计算GRN的方法: cmi\n"
     ]
    },
    {
     "name": "stderr",
     "output_type": "stream",
     "text": [
      " Pathway: hsa04916, total contain 29 genes, and 88 links!:  61%|█████████████▎        | 207/342 [25:17<08:46,  3.90s/it]"
     ]
    },
    {
     "name": "stdout",
     "output_type": "stream",
     "text": [
      "边的数量 77 88 0.875\n",
      "计算GRN的方法: cmi\n"
     ]
    },
    {
     "name": "stderr",
     "output_type": "stream",
     "text": [
      " Pathway: hsa04924, total contain 28 genes, and 23 links!:  61%|█████████████▍        | 208/342 [25:19<07:18,  3.27s/it]"
     ]
    },
    {
     "name": "stdout",
     "output_type": "stream",
     "text": [
      "边的数量 22 23 0.9565217391304348\n",
      "计算GRN的方法: cmi\n"
     ]
    },
    {
     "name": "stderr",
     "output_type": "stream",
     "text": [
      " Pathway: hsa04925, total contain 45 genes, and 118 links!:  61%|████████████▉        | 210/342 [25:22<05:50,  2.66s/it]"
     ]
    },
    {
     "name": "stdout",
     "output_type": "stream",
     "text": [
      "边的数量 110 118 0.9322033898305084\n",
      "计算GRN的方法: cmi\n"
     ]
    },
    {
     "name": "stderr",
     "output_type": "stream",
     "text": [
      " Pathway: hsa04927, total contain 29 genes, and 62 links!:  62%|█████████████▌        | 211/342 [25:24<05:25,  2.49s/it]"
     ]
    },
    {
     "name": "stdout",
     "output_type": "stream",
     "text": [
      "边的数量 60 62 0.967741935483871\n",
      "计算GRN的方法: cmi\n"
     ]
    },
    {
     "name": "stderr",
     "output_type": "stream",
     "text": [
      "d:\\desktop\\code\\DigNet-main\\pathway\\pathway.py:278: RuntimeWarning: invalid value encountered in scalar divide\n",
      "  print('边的数量',np.sum(adj_matrix),np.sum(predicted_adj_matrix),(np.sum(adj_matrix) / np.sum(predicted_adj_matrix)) )\n",
      " Pathway: hsa04927, total contain 29 genes, and 62 links!:  62%|█████████████▋        | 212/342 [25:27<05:10,  2.39s/it]"
     ]
    },
    {
     "name": "stdout",
     "output_type": "stream",
     "text": [
      "边的数量 0 0.0 nan\n"
     ]
    },
    {
     "name": "stderr",
     "output_type": "stream",
     "text": [
      " Pathway: hsa04261, total contain 65 genes, and 129 links!:  62%|█████████████        | 213/342 [25:34<08:01,  3.74s/it]"
     ]
    },
    {
     "name": "stdout",
     "output_type": "stream",
     "text": [
      "边的数量 129 129 1.0\n",
      "计算GRN的方法: cmi\n"
     ]
    },
    {
     "name": "stderr",
     "output_type": "stream",
     "text": [
      " Pathway: hsa04270, total contain 49 genes, and 42 links!:  63%|█████████████▊        | 214/342 [25:38<08:20,  3.91s/it]"
     ]
    },
    {
     "name": "stdout",
     "output_type": "stream",
     "text": [
      "边的数量 42 42 1.0\n",
      "计算GRN的方法: cmi\n"
     ]
    },
    {
     "name": "stderr",
     "output_type": "stream",
     "text": [
      " Pathway: hsa04970, total contain 31 genes, and 24 links!:  63%|█████████████▊        | 215/342 [25:40<07:12,  3.41s/it]"
     ]
    },
    {
     "name": "stdout",
     "output_type": "stream",
     "text": [
      "边的数量 24 24 1.0\n",
      "计算GRN的方法: cmi\n"
     ]
    },
    {
     "name": "stderr",
     "output_type": "stream",
     "text": [
      " Pathway: hsa04971, total contain 34 genes, and 29 links!:  63%|█████████████▉        | 216/342 [25:43<06:36,  3.15s/it]"
     ]
    },
    {
     "name": "stdout",
     "output_type": "stream",
     "text": [
      "边的数量 29 29 1.0\n",
      "计算GRN的方法: cmi\n"
     ]
    },
    {
     "name": "stderr",
     "output_type": "stream",
     "text": [
      " Pathway: hsa04972, total contain 33 genes, and 18 links!:  63%|█████████████▉        | 217/342 [25:45<06:07,  2.94s/it]"
     ]
    },
    {
     "name": "stdout",
     "output_type": "stream",
     "text": [
      "边的数量 19 18 1.0555555555555556\n",
      "计算GRN的方法: cmi\n"
     ]
    },
    {
     "name": "stderr",
     "output_type": "stream",
     "text": [
      " Pathway: hsa04976, total contain 18 genes, and 12 links!:  64%|██████████████        | 218/342 [25:46<04:55,  2.38s/it]"
     ]
    },
    {
     "name": "stdout",
     "output_type": "stream",
     "text": [
      "边的数量 7 12 0.5833333333333334\n",
      "计算GRN的方法: cmi\n"
     ]
    },
    {
     "name": "stderr",
     "output_type": "stream",
     "text": [
      " Pathway: hsa04973, total contain 11 genes, and 2 links!:  64%|██████████████▋        | 219/342 [25:47<03:47,  1.85s/it]"
     ]
    },
    {
     "name": "stdout",
     "output_type": "stream",
     "text": [
      "边的数量 2 2 1.0\n",
      "计算GRN的方法: cmi\n"
     ]
    },
    {
     "name": "stderr",
     "output_type": "stream",
     "text": [
      "d:\\desktop\\code\\DigNet-main\\pathway\\pathway.py:278: RuntimeWarning: invalid value encountered in scalar divide\n",
      "  print('边的数量',np.sum(adj_matrix),np.sum(predicted_adj_matrix),(np.sum(adj_matrix) / np.sum(predicted_adj_matrix)) )\n",
      " Pathway: hsa04973, total contain 11 genes, and 2 links!:  64%|██████████████▊        | 220/342 [25:48<03:26,  1.69s/it]"
     ]
    },
    {
     "name": "stdout",
     "output_type": "stream",
     "text": [
      "边的数量 0 0.0 nan\n"
     ]
    },
    {
     "name": "stderr",
     "output_type": "stream",
     "text": [
      " Pathway: hsa04975, total contain 13 genes, and 8 links!:  65%|██████████████▊        | 221/342 [25:49<02:49,  1.40s/it]"
     ]
    },
    {
     "name": "stdout",
     "output_type": "stream",
     "text": [
      "边的数量 8 8 1.0\n",
      "计算GRN的方法: cmi\n"
     ]
    },
    {
     "name": "stderr",
     "output_type": "stream",
     "text": [
      " Pathway: hsa04979, total contain 27 genes, and 10 links!:  65%|██████████████▎       | 222/342 [25:51<03:00,  1.50s/it]"
     ]
    },
    {
     "name": "stdout",
     "output_type": "stream",
     "text": [
      "边的数量 10 10 1.0\n",
      "计算GRN的方法: cmi\n"
     ]
    },
    {
     "name": "stderr",
     "output_type": "stream",
     "text": [
      "d:\\desktop\\code\\DigNet-main\\pathway\\pathway.py:278: RuntimeWarning: invalid value encountered in scalar divide\n",
      "  print('边的数量',np.sum(adj_matrix),np.sum(predicted_adj_matrix),(np.sum(adj_matrix) / np.sum(predicted_adj_matrix)) )\n",
      " Pathway: hsa04979, total contain 27 genes, and 10 links!:  65%|██████████████▍       | 224/342 [25:52<02:12,  1.12s/it]"
     ]
    },
    {
     "name": "stdout",
     "output_type": "stream",
     "text": [
      "边的数量 0 0.0 nan\n"
     ]
    },
    {
     "name": "stderr",
     "output_type": "stream",
     "text": [
      " Pathway: hsa04962, total contain 33 genes, and 30 links!:  66%|██████████████▍       | 225/342 [25:54<02:46,  1.42s/it]"
     ]
    },
    {
     "name": "stdout",
     "output_type": "stream",
     "text": [
      "边的数量 32 30 1.0666666666666667\n",
      "计算GRN的方法: cmi\n"
     ]
    },
    {
     "name": "stderr",
     "output_type": "stream",
     "text": [
      " Pathway: hsa04960, total contain 10 genes, and 3 links!:  66%|███████████████▏       | 226/342 [25:55<02:18,  1.19s/it]"
     ]
    },
    {
     "name": "stdout",
     "output_type": "stream",
     "text": [
      "边的数量 3 3 1.0\n",
      "计算GRN的方法: cmi\n"
     ]
    },
    {
     "name": "stderr",
     "output_type": "stream",
     "text": [
      " Pathway: hsa04961, total contain 24 genes, and 11 links!:  66%|██████████████▌       | 227/342 [25:56<02:26,  1.28s/it]"
     ]
    },
    {
     "name": "stdout",
     "output_type": "stream",
     "text": [
      "边的数量 11 11 1.0\n",
      "计算GRN的方法: cmi\n"
     ]
    },
    {
     "name": "stderr",
     "output_type": "stream",
     "text": [
      "d:\\desktop\\code\\DigNet-main\\pathway\\pathway.py:278: RuntimeWarning: invalid value encountered in scalar divide\n",
      "  print('边的数量',np.sum(adj_matrix),np.sum(predicted_adj_matrix),(np.sum(adj_matrix) / np.sum(predicted_adj_matrix)) )\n",
      " Pathway: hsa04961, total contain 24 genes, and 11 links!:  67%|██████████████▋       | 229/342 [25:57<01:44,  1.08it/s]"
     ]
    },
    {
     "name": "stdout",
     "output_type": "stream",
     "text": [
      "边的数量 0 0.0 nan\n"
     ]
    },
    {
     "name": "stderr",
     "output_type": "stream",
     "text": [
      " Pathway: hsa04724, total contain 40 genes, and 46 links!:  67%|██████████████▊       | 230/342 [26:01<02:43,  1.46s/it]"
     ]
    },
    {
     "name": "stdout",
     "output_type": "stream",
     "text": [
      "边的数量 48 46 1.0434782608695652\n",
      "计算GRN的方法: cmi\n"
     ]
    },
    {
     "name": "stderr",
     "output_type": "stream",
     "text": [
      " Pathway: hsa04727, total contain 32 genes, and 18 links!:  68%|██████████████▊       | 231/342 [26:03<03:03,  1.65s/it]"
     ]
    },
    {
     "name": "stdout",
     "output_type": "stream",
     "text": [
      "边的数量 18 18 1.0\n",
      "计算GRN的方法: cmi\n"
     ]
    },
    {
     "name": "stderr",
     "output_type": "stream",
     "text": [
      " Pathway: hsa04725, total contain 39 genes, and 95 links!:  68%|██████████████▉       | 232/342 [26:06<03:44,  2.04s/it]"
     ]
    },
    {
     "name": "stdout",
     "output_type": "stream",
     "text": [
      "边的数量 81 95 0.8526315789473684\n",
      "计算GRN的方法: cmi\n"
     ]
    },
    {
     "name": "stderr",
     "output_type": "stream",
     "text": [
      " Pathway: hsa04728, total contain 68 genes, and 124 links!:  68%|██████████████▎      | 233/342 [26:14<06:40,  3.67s/it]"
     ]
    },
    {
     "name": "stdout",
     "output_type": "stream",
     "text": [
      "边的数量 119 124 0.9596774193548387\n",
      "计算GRN的方法: cmi\n"
     ]
    },
    {
     "name": "stderr",
     "output_type": "stream",
     "text": [
      " Pathway: hsa04726, total contain 28 genes, and 42 links!:  68%|███████████████       | 234/342 [26:16<05:41,  3.16s/it]"
     ]
    },
    {
     "name": "stdout",
     "output_type": "stream",
     "text": [
      "边的数量 42 42 1.0\n",
      "计算GRN的方法: cmi\n"
     ]
    },
    {
     "name": "stderr",
     "output_type": "stream",
     "text": [
      " Pathway: hsa04720, total contain 32 genes, and 85 links!:  69%|███████████████       | 235/342 [26:18<05:11,  2.91s/it]"
     ]
    },
    {
     "name": "stdout",
     "output_type": "stream",
     "text": [
      "边的数量 83 85 0.9764705882352941\n",
      "计算GRN的方法: cmi\n"
     ]
    },
    {
     "name": "stderr",
     "output_type": "stream",
     "text": [
      " Pathway: hsa04730, total contain 20 genes, and 17 links!:  69%|███████████████▏      | 236/342 [26:19<04:18,  2.44s/it]"
     ]
    },
    {
     "name": "stdout",
     "output_type": "stream",
     "text": [
      "边的数量 17 17 1.0\n",
      "计算GRN的方法: cmi\n"
     ]
    },
    {
     "name": "stderr",
     "output_type": "stream",
     "text": [
      " Pathway: hsa04723, total contain 74 genes, and 40 links!:  69%|███████████████▏      | 237/342 [26:29<07:49,  4.47s/it]"
     ]
    },
    {
     "name": "stdout",
     "output_type": "stream",
     "text": [
      "边的数量 40 40 1.0\n",
      "计算GRN的方法: cmi\n"
     ]
    },
    {
     "name": "stderr",
     "output_type": "stream",
     "text": [
      " Pathway: hsa04721, total contain 33 genes, and 3 links!:  70%|████████████████       | 238/342 [26:31<06:40,  3.85s/it]"
     ]
    },
    {
     "name": "stdout",
     "output_type": "stream",
     "text": [
      "边的数量 3 3 1.0\n",
      "计算GRN的方法: cmi\n"
     ]
    },
    {
     "name": "stderr",
     "output_type": "stream",
     "text": [
      " Pathway: hsa04722, total contain 64 genes, and 137 links!:  70%|██████████████▋      | 239/342 [26:38<08:17,  4.83s/it]"
     ]
    },
    {
     "name": "stdout",
     "output_type": "stream",
     "text": [
      "边的数量 147 137 1.072992700729927\n",
      "计算GRN的方法: cmi\n"
     ]
    },
    {
     "name": "stderr",
     "output_type": "stream",
     "text": [
      " Pathway: hsa04740, total contain 16 genes, and 8 links!:  70%|████████████████▏      | 241/342 [26:39<04:45,  2.82s/it]"
     ]
    },
    {
     "name": "stdout",
     "output_type": "stream",
     "text": [
      "边的数量 8 8 1.0\n",
      "计算GRN的方法: cmi\n"
     ]
    },
    {
     "name": "stderr",
     "output_type": "stream",
     "text": [
      " Pathway: hsa04750, total contain 39 genes, and 53 links!:  71%|███████████████▋      | 243/342 [26:42<03:48,  2.31s/it]"
     ]
    },
    {
     "name": "stdout",
     "output_type": "stream",
     "text": [
      "边的数量 53 53 1.0\n",
      "计算GRN的方法: cmi\n"
     ]
    },
    {
     "name": "stderr",
     "output_type": "stream",
     "text": [
      " Pathway: hsa04360, total contain 82 genes, and 100 links!:  71%|██████████████▉      | 244/342 [26:54<07:06,  4.35s/it]"
     ]
    },
    {
     "name": "stdout",
     "output_type": "stream",
     "text": [
      "边的数量 99 100 0.99\n",
      "计算GRN的方法: cmi\n"
     ]
    },
    {
     "name": "stderr",
     "output_type": "stream",
     "text": [
      " Pathway: hsa04380, total contain 64 genes, and 385 links!:  72%|███████████████      | 245/342 [27:01<08:18,  5.13s/it]"
     ]
    },
    {
     "name": "stdout",
     "output_type": "stream",
     "text": [
      "边的数量 343 385 0.8909090909090909\n",
      "计算GRN的方法: cmi\n"
     ]
    },
    {
     "name": "stderr",
     "output_type": "stream",
     "text": [
      " Pathway: hsa04211, total contain 50 genes, and 126 links!:  72%|███████████████      | 246/342 [27:06<07:59,  5.00s/it]"
     ]
    },
    {
     "name": "stdout",
     "output_type": "stream",
     "text": [
      "边的数量 110 126 0.873015873015873\n",
      "计算GRN的方法: cmi\n"
     ]
    },
    {
     "name": "stderr",
     "output_type": "stream",
     "text": [
      " Pathway: hsa04213, total contain 30 genes, and 26 links!:  72%|███████████████▉      | 247/342 [27:08<06:39,  4.21s/it]"
     ]
    },
    {
     "name": "stdout",
     "output_type": "stream",
     "text": [
      "边的数量 31 26 1.1923076923076923\n",
      "计算GRN的方法: cmi\n"
     ]
    },
    {
     "name": "stderr",
     "output_type": "stream",
     "text": [
      " Pathway: hsa04710, total contain 26 genes, and 74 links!:  73%|███████████████▉      | 248/342 [27:10<05:31,  3.52s/it]"
     ]
    },
    {
     "name": "stdout",
     "output_type": "stream",
     "text": [
      "边的数量 72 74 0.972972972972973\n",
      "计算GRN的方法: cmi\n"
     ]
    },
    {
     "name": "stderr",
     "output_type": "stream",
     "text": [
      " Pathway: hsa04713, total contain 36 genes, and 66 links!:  73%|████████████████      | 249/342 [27:13<05:12,  3.36s/it]"
     ]
    },
    {
     "name": "stdout",
     "output_type": "stream",
     "text": [
      "边的数量 67 66 1.0151515151515151\n",
      "计算GRN的方法: cmi\n"
     ]
    },
    {
     "name": "stderr",
     "output_type": "stream",
     "text": [
      " Pathway: hsa04714, total contain 146 genes, and 111 links!:  73%|██████████████▌     | 250/342 [27:49<19:54, 12.99s/it]"
     ]
    },
    {
     "name": "stdout",
     "output_type": "stream",
     "text": [
      "边的数量 132 111 1.1891891891891893\n",
      "计算GRN的方法: cmi\n"
     ]
    },
    {
     "name": "stderr",
     "output_type": "stream",
     "text": [
      " Pathway: hsa05202, total contain 83 genes, and 360 links!:  74%|███████████████▍     | 252/342 [28:02<15:05, 10.07s/it]"
     ]
    },
    {
     "name": "stdout",
     "output_type": "stream",
     "text": [
      "边的数量 312 360 0.8666666666666667\n",
      "计算GRN的方法: cmi\n"
     ]
    },
    {
     "name": "stderr",
     "output_type": "stream",
     "text": [
      " Pathway: hsa05206, total contain 81 genes, and 147 links!:  74%|███████████████▌     | 253/342 [28:14<15:34, 10.50s/it]"
     ]
    },
    {
     "name": "stdout",
     "output_type": "stream",
     "text": [
      "边的数量 145 147 0.9863945578231292\n",
      "计算GRN的方法: cmi\n"
     ]
    },
    {
     "name": "stderr",
     "output_type": "stream",
     "text": [
      " Pathway: hsa05205, total contain 87 genes, and 139 links!:  74%|███████████████▌     | 254/342 [28:29<16:49, 11.47s/it]"
     ]
    },
    {
     "name": "stdout",
     "output_type": "stream",
     "text": [
      "边的数量 138 139 0.9928057553956835\n",
      "计算GRN的方法: cmi\n"
     ]
    },
    {
     "name": "stderr",
     "output_type": "stream",
     "text": [
      " Pathway: hsa05204, total contain 16 genes, and 12 links!:  75%|████████████████▍     | 255/342 [28:30<12:31,  8.64s/it]"
     ]
    },
    {
     "name": "stdout",
     "output_type": "stream",
     "text": [
      "边的数量 12 12 1.0\n",
      "计算GRN的方法: cmi\n"
     ]
    },
    {
     "name": "stderr",
     "output_type": "stream",
     "text": [
      " Pathway: hsa05207, total contain 71 genes, and 275 links!:  75%|███████████████▋     | 256/342 [28:39<12:37,  8.81s/it]"
     ]
    },
    {
     "name": "stdout",
     "output_type": "stream",
     "text": [
      "边的数量 217 275 0.7890909090909091\n",
      "计算GRN的方法: cmi\n"
     ]
    },
    {
     "name": "stderr",
     "output_type": "stream",
     "text": [
      " Pathway: hsa05208, total contain 128 genes, and 165 links!:  75%|███████████████     | 257/342 [29:07<20:12, 14.27s/it]"
     ]
    },
    {
     "name": "stdout",
     "output_type": "stream",
     "text": [
      "边的数量 169 165 1.0242424242424242\n",
      "计算GRN的方法: cmi\n"
     ]
    },
    {
     "name": "stderr",
     "output_type": "stream",
     "text": [
      " Pathway: hsa05203, total contain 124 genes, and 485 links!:  75%|███████████████     | 258/342 [29:33<24:50, 17.74s/it]"
     ]
    },
    {
     "name": "stdout",
     "output_type": "stream",
     "text": [
      "边的数量 471 485 0.9711340206185567\n",
      "计算GRN的方法: cmi\n"
     ]
    },
    {
     "name": "stderr",
     "output_type": "stream",
     "text": [
      " Pathway: hsa05230, total contain 27 genes, and 13 links!:  76%|████████████████▋     | 259/342 [29:35<18:06, 13.09s/it]"
     ]
    },
    {
     "name": "stdout",
     "output_type": "stream",
     "text": [
      "边的数量 13 13 1.0\n",
      "计算GRN的方法: cmi\n"
     ]
    },
    {
     "name": "stderr",
     "output_type": "stream",
     "text": [
      " Pathway: hsa05231, total contain 36 genes, and 22 links!:  76%|████████████████▋     | 260/342 [29:38<13:43, 10.05s/it]"
     ]
    },
    {
     "name": "stdout",
     "output_type": "stream",
     "text": [
      "边的数量 22 22 1.0\n",
      "计算GRN的方法: cmi\n"
     ]
    },
    {
     "name": "stderr",
     "output_type": "stream",
     "text": [
      " Pathway: hsa05235, total contain 42 genes, and 232 links!:  76%|████████████████     | 261/342 [29:42<11:06,  8.22s/it]"
     ]
    },
    {
     "name": "stdout",
     "output_type": "stream",
     "text": [
      "边的数量 216 232 0.9310344827586207\n",
      "计算GRN的方法: cmi\n"
     ]
    },
    {
     "name": "stderr",
     "output_type": "stream",
     "text": [
      " Pathway: hsa05210, total contain 28 genes, and 46 links!:  77%|████████████████▊     | 262/342 [29:43<08:26,  6.33s/it]"
     ]
    },
    {
     "name": "stdout",
     "output_type": "stream",
     "text": [
      "边的数量 43 46 0.9347826086956522\n",
      "计算GRN的方法: cmi\n"
     ]
    },
    {
     "name": "stderr",
     "output_type": "stream",
     "text": [
      " Pathway: hsa05212, total contain 30 genes, and 107 links!:  77%|████████████████▏    | 263/342 [29:46<06:41,  5.08s/it]"
     ]
    },
    {
     "name": "stdout",
     "output_type": "stream",
     "text": [
      "边的数量 107 107 1.0\n",
      "计算GRN的方法: cmi\n"
     ]
    },
    {
     "name": "stderr",
     "output_type": "stream",
     "text": [
      " Pathway: hsa05225, total contain 47 genes, and 64 links!:  77%|████████████████▉     | 264/342 [29:50<06:12,  4.78s/it]"
     ]
    },
    {
     "name": "stdout",
     "output_type": "stream",
     "text": [
      "边的数量 58 64 0.90625\n",
      "计算GRN的方法: cmi\n"
     ]
    },
    {
     "name": "stderr",
     "output_type": "stream",
     "text": [
      " Pathway: hsa05226, total contain 20 genes, and 40 links!:  77%|█████████████████     | 265/342 [29:51<04:46,  3.72s/it]"
     ]
    },
    {
     "name": "stdout",
     "output_type": "stream",
     "text": [
      "边的数量 33 40 0.825\n",
      "计算GRN的方法: cmi\n"
     ]
    },
    {
     "name": "stderr",
     "output_type": "stream",
     "text": [
      " Pathway: hsa05214, total contain 14 genes, and 12 links!:  78%|█████████████████     | 266/342 [29:52<03:35,  2.83s/it]"
     ]
    },
    {
     "name": "stdout",
     "output_type": "stream",
     "text": [
      "边的数量 12 12 1.0\n",
      "计算GRN的方法: cmi\n"
     ]
    },
    {
     "name": "stderr",
     "output_type": "stream",
     "text": [
      " Pathway: hsa05221, total contain 22 genes, and 95 links!:  78%|█████████████████▏    | 268/342 [29:53<02:18,  1.86s/it]"
     ]
    },
    {
     "name": "stdout",
     "output_type": "stream",
     "text": [
      "边的数量 89 95 0.9368421052631579\n",
      "计算GRN的方法: cmi\n"
     ]
    },
    {
     "name": "stderr",
     "output_type": "stream",
     "text": [
      " Pathway: hsa05220, total contain 27 genes, and 87 links!:  79%|█████████████████▎    | 269/342 [29:55<02:15,  1.86s/it]"
     ]
    },
    {
     "name": "stdout",
     "output_type": "stream",
     "text": [
      "边的数量 96 87 1.103448275862069\n",
      "计算GRN的方法: cmi\n"
     ]
    },
    {
     "name": "stderr",
     "output_type": "stream",
     "text": [
      " Pathway: hsa05211, total contain 33 genes, and 91 links!:  80%|█████████████████▍    | 272/342 [29:57<01:32,  1.32s/it]"
     ]
    },
    {
     "name": "stdout",
     "output_type": "stream",
     "text": [
      "边的数量 91 91 1.0\n",
      "计算GRN的方法: cmi\n"
     ]
    },
    {
     "name": "stderr",
     "output_type": "stream",
     "text": [
      " Pathway: hsa05219, total contain 11 genes, and 2 links!:  80%|██████████████████▎    | 273/342 [29:58<01:21,  1.18s/it]"
     ]
    },
    {
     "name": "stdout",
     "output_type": "stream",
     "text": [
      "边的数量 2 2 1.0\n",
      "计算GRN的方法: cmi\n"
     ]
    },
    {
     "name": "stderr",
     "output_type": "stream",
     "text": [
      " Pathway: hsa05215, total contain 33 genes, and 166 links!:  80%|████████████████▊    | 274/342 [30:01<01:41,  1.49s/it]"
     ]
    },
    {
     "name": "stdout",
     "output_type": "stream",
     "text": [
      "边的数量 135 166 0.8132530120481928\n",
      "计算GRN的方法: cmi\n"
     ]
    },
    {
     "name": "stderr",
     "output_type": "stream",
     "text": [
      " Pathway: hsa05222, total contain 50 genes, and 202 links!:  81%|█████████████████    | 277/342 [30:05<01:40,  1.54s/it]"
     ]
    },
    {
     "name": "stdout",
     "output_type": "stream",
     "text": [
      "边的数量 191 202 0.9455445544554455\n",
      "计算GRN的方法: cmi\n"
     ]
    },
    {
     "name": "stderr",
     "output_type": "stream",
     "text": [
      " Pathway: hsa05223, total contain 20 genes, and 19 links!:  81%|█████████████████▉    | 278/342 [30:07<01:34,  1.48s/it]"
     ]
    },
    {
     "name": "stdout",
     "output_type": "stream",
     "text": [
      "边的数量 23 19 1.2105263157894737\n",
      "计算GRN的方法: cmi\n"
     ]
    },
    {
     "name": "stderr",
     "output_type": "stream",
     "text": [
      " Pathway: hsa05166, total contain 143 genes, and 592 links!:  82%|████████████████▎   | 279/342 [30:42<09:01,  8.60s/it]"
     ]
    },
    {
     "name": "stdout",
     "output_type": "stream",
     "text": [
      "边的数量 598 592 1.010135135135135\n",
      "计算GRN的方法: cmi\n"
     ]
    },
    {
     "name": "stderr",
     "output_type": "stream",
     "text": [
      " Pathway: hsa05170, total contain 130 genes, and 377 links!:  82%|████████████████▎   | 280/342 [31:11<13:54, 13.46s/it]"
     ]
    },
    {
     "name": "stdout",
     "output_type": "stream",
     "text": [
      "边的数量 396 377 1.0503978779840848\n",
      "计算GRN的方法: cmi\n"
     ]
    },
    {
     "name": "stderr",
     "output_type": "stream",
     "text": [
      " Pathway: hsa05161, total contain 85 genes, and 730 links!:  82%|█████████████████▎   | 281/342 [31:26<14:03, 13.82s/it]"
     ]
    },
    {
     "name": "stdout",
     "output_type": "stream",
     "text": [
      "边的数量 625 730 0.8561643835616438\n",
      "计算GRN的方法: cmi\n"
     ]
    },
    {
     "name": "stderr",
     "output_type": "stream",
     "text": [
      " Pathway: hsa05160, total contain 79 genes, and 387 links!:  82%|█████████████████▎   | 282/342 [31:38<13:15, 13.26s/it]"
     ]
    },
    {
     "name": "stdout",
     "output_type": "stream",
     "text": [
      "边的数量 365 387 0.9431524547803618\n",
      "计算GRN的方法: cmi\n"
     ]
    },
    {
     "name": "stderr",
     "output_type": "stream",
     "text": [
      " Pathway: hsa05171, total contain 147 genes, and 277 links!:  83%|████████████████▌   | 283/342 [32:56<30:24, 30.92s/it]"
     ]
    },
    {
     "name": "stdout",
     "output_type": "stream",
     "text": [
      "边的数量 284 277 1.0252707581227436\n",
      "计算GRN的方法: cmi\n"
     ]
    },
    {
     "name": "stderr",
     "output_type": "stream",
     "text": [
      " Pathway: hsa05164, total contain 101 genes, and 467 links!:  83%|████████████████▌   | 284/342 [33:41<33:43, 34.88s/it]"
     ]
    },
    {
     "name": "stdout",
     "output_type": "stream",
     "text": [
      "边的数量 446 467 0.9550321199143469\n",
      "计算GRN的方法: cmi\n"
     ]
    },
    {
     "name": "stderr",
     "output_type": "stream",
     "text": [
      " Pathway: hsa05162, total contain 77 genes, and 434 links!:  83%|█████████████████▌   | 285/342 [34:07<30:44, 32.36s/it]"
     ]
    },
    {
     "name": "stdout",
     "output_type": "stream",
     "text": [
      "边的数量 438 434 1.0092165898617511\n",
      "计算GRN的方法: cmi\n"
     ]
    },
    {
     "name": "stderr",
     "output_type": "stream",
     "text": [
      " Pathway: hsa05163, total contain 118 genes, and 531 links!:  84%|████████████████▊   | 287/342 [35:08<28:53, 31.53s/it]"
     ]
    },
    {
     "name": "stdout",
     "output_type": "stream",
     "text": [
      "边的数量 519 531 0.9774011299435028\n",
      "计算GRN的方法: cmi\n"
     ]
    },
    {
     "name": "stderr",
     "output_type": "stream",
     "text": [
      " Pathway: hsa05167, total contain 97 genes, and 431 links!:  84%|█████████████████▋   | 288/342 [35:52<31:10, 34.65s/it]"
     ]
    },
    {
     "name": "stdout",
     "output_type": "stream",
     "text": [
      "边的数量 384 431 0.8909512761020881\n",
      "计算GRN的方法: cmi\n"
     ]
    },
    {
     "name": "stderr",
     "output_type": "stream",
     "text": [
      " Pathway: hsa05169, total contain 130 genes, and 626 links!:  85%|████████████████▉   | 289/342 [37:11<40:29, 45.84s/it]"
     ]
    },
    {
     "name": "stdout",
     "output_type": "stream",
     "text": [
      "边的数量 607 626 0.9696485623003195\n",
      "计算GRN的方法: cmi\n"
     ]
    },
    {
     "name": "stderr",
     "output_type": "stream",
     "text": [
      " Pathway: hsa05165, total contain 155 genes, and 559 links!:  85%|████████████████▉   | 290/342 [38:48<51:43, 59.68s/it]"
     ]
    },
    {
     "name": "stdout",
     "output_type": "stream",
     "text": [
      "边的数量 552 559 0.9874776386404294\n",
      "计算GRN的方法: cmi\n"
     ]
    },
    {
     "name": "stderr",
     "output_type": "stream",
     "text": [
      " Pathway: hsa05110, total contain 43 genes, and 13 links!:  85%|██████████████████▋   | 291/342 [38:55<38:20, 45.10s/it]"
     ]
    },
    {
     "name": "stdout",
     "output_type": "stream",
     "text": [
      "边的数量 13 13 1.0\n",
      "计算GRN的方法: cmi\n"
     ]
    },
    {
     "name": "stderr",
     "output_type": "stream",
     "text": [
      " Pathway: hsa05120, total contain 49 genes, and 87 links!:  85%|██████████████████▊   | 292/342 [39:05<29:10, 35.01s/it]"
     ]
    },
    {
     "name": "stdout",
     "output_type": "stream",
     "text": [
      "边的数量 91 87 1.0459770114942528\n",
      "计算GRN的方法: cmi\n"
     ]
    },
    {
     "name": "stderr",
     "output_type": "stream",
     "text": [
      " Pathway: hsa05130, total contain 131 genes, and 296 links!:  86%|█████████████████▏  | 293/342 [40:09<35:24, 43.37s/it]"
     ]
    },
    {
     "name": "stdout",
     "output_type": "stream",
     "text": [
      "边的数量 310 296 1.0472972972972974\n",
      "计算GRN的方法: cmi\n"
     ]
    },
    {
     "name": "stderr",
     "output_type": "stream",
     "text": [
      " Pathway: hsa05132, total contain 175 genes, and 368 links!:  86%|█████████████████▏  | 294/342 [40:58<36:13, 45.27s/it]"
     ]
    },
    {
     "name": "stdout",
     "output_type": "stream",
     "text": [
      "边的数量 373 368 1.013586956521739\n",
      "计算GRN的方法: cmi\n"
     ]
    },
    {
     "name": "stderr",
     "output_type": "stream",
     "text": [
      " Pathway: hsa05131, total contain 162 genes, and 390 links!:  86%|█████████████████▎  | 295/342 [42:33<46:44, 59.68s/it]"
     ]
    },
    {
     "name": "stdout",
     "output_type": "stream",
     "text": [
      "边的数量 407 390 1.0435897435897437\n",
      "计算GRN的方法: cmi\n"
     ]
    },
    {
     "name": "stderr",
     "output_type": "stream",
     "text": [
      " Pathway: hsa05135, total contain 88 genes, and 255 links!:  87%|██████████████████▏  | 296/342 [42:47<35:31, 46.34s/it]"
     ]
    },
    {
     "name": "stdout",
     "output_type": "stream",
     "text": [
      "边的数量 260 255 1.0196078431372548\n",
      "计算GRN的方法: cmi\n"
     ]
    },
    {
     "name": "stderr",
     "output_type": "stream",
     "text": [
      " Pathway: hsa05133, total contain 44 genes, and 75 links!:  87%|███████████████████   | 297/342 [42:51<25:17, 33.72s/it]"
     ]
    },
    {
     "name": "stdout",
     "output_type": "stream",
     "text": [
      "边的数量 79 75 1.0533333333333332\n",
      "计算GRN的方法: cmi\n"
     ]
    },
    {
     "name": "stderr",
     "output_type": "stream",
     "text": [
      " Pathway: hsa05134, total contain 38 genes, and 50 links!:  87%|███████████████████▏  | 298/342 [42:54<18:02, 24.60s/it]"
     ]
    },
    {
     "name": "stdout",
     "output_type": "stream",
     "text": [
      "边的数量 53 50 1.06\n",
      "计算GRN的方法: cmi\n"
     ]
    },
    {
     "name": "stderr",
     "output_type": "stream",
     "text": [
      " Pathway: hsa05150, total contain 29 genes, and 12 links!:  87%|███████████████████▏  | 299/342 [42:56<12:48, 17.88s/it]"
     ]
    },
    {
     "name": "stdout",
     "output_type": "stream",
     "text": [
      "边的数量 21 12 1.75\n",
      "计算GRN的方法: cmi\n"
     ]
    },
    {
     "name": "stderr",
     "output_type": "stream",
     "text": [
      " Pathway: hsa05152, total contain 105 genes, and 338 links!:  88%|█████████████████▌  | 300/342 [43:16<12:50, 18.34s/it]"
     ]
    },
    {
     "name": "stdout",
     "output_type": "stream",
     "text": [
      "边的数量 346 338 1.0236686390532543\n",
      "计算GRN的方法: cmi\n"
     ]
    },
    {
     "name": "stderr",
     "output_type": "stream",
     "text": [
      " Pathway: hsa05100, total contain 47 genes, and 62 links!:  88%|███████████████████▎  | 301/342 [43:20<09:38, 14.10s/it]"
     ]
    },
    {
     "name": "stdout",
     "output_type": "stream",
     "text": [
      "边的数量 62 62 1.0\n",
      "计算GRN的方法: cmi\n"
     ]
    },
    {
     "name": "stderr",
     "output_type": "stream",
     "text": [
      " Pathway: hsa05146, total contain 37 genes, and 52 links!:  88%|███████████████████▍  | 302/342 [43:23<07:10, 10.76s/it]"
     ]
    },
    {
     "name": "stdout",
     "output_type": "stream",
     "text": [
      "边的数量 53 52 1.0192307692307692\n",
      "计算GRN的方法: cmi\n"
     ]
    },
    {
     "name": "stderr",
     "output_type": "stream",
     "text": [
      " Pathway: hsa05144, total contain 16 genes, and 7 links!:  89%|████████████████████▍  | 303/342 [43:24<05:05,  7.83s/it]"
     ]
    },
    {
     "name": "stdout",
     "output_type": "stream",
     "text": [
      "边的数量 7 7 1.0\n",
      "计算GRN的方法: cmi\n"
     ]
    },
    {
     "name": "stderr",
     "output_type": "stream",
     "text": [
      " Pathway: hsa05145, total contain 71 genes, and 334 links!:  89%|██████████████████▋  | 304/342 [43:34<05:22,  8.48s/it]"
     ]
    },
    {
     "name": "stdout",
     "output_type": "stream",
     "text": [
      "边的数量 341 334 1.0209580838323353\n",
      "计算GRN的方法: cmi\n"
     ]
    },
    {
     "name": "stderr",
     "output_type": "stream",
     "text": [
      " Pathway: hsa05140, total contain 43 genes, and 108 links!:  89%|██████████████████▋  | 305/342 [43:38<04:25,  7.17s/it]"
     ]
    },
    {
     "name": "stdout",
     "output_type": "stream",
     "text": [
      "边的数量 118 108 1.0925925925925926\n",
      "计算GRN的方法: cmi\n"
     ]
    },
    {
     "name": "stderr",
     "output_type": "stream",
     "text": [
      " Pathway: hsa05142, total contain 54 genes, and 170 links!:  89%|██████████████████▊  | 306/342 [43:44<04:02,  6.74s/it]"
     ]
    },
    {
     "name": "stdout",
     "output_type": "stream",
     "text": [
      "边的数量 187 170 1.1\n",
      "计算GRN的方法: cmi\n"
     ]
    },
    {
     "name": "stderr",
     "output_type": "stream",
     "text": [
      " Pathway: hsa05143, total contain 13 genes, and 6 links!:  90%|████████████████████▋  | 307/342 [43:44<02:52,  4.93s/it]"
     ]
    },
    {
     "name": "stdout",
     "output_type": "stream",
     "text": [
      "边的数量 6 6 1.0\n",
      "计算GRN的方法: cmi\n"
     ]
    },
    {
     "name": "stderr",
     "output_type": "stream",
     "text": [
      " Pathway: hsa05310, total contain 13 genes, and 3 links!:  90%|████████████████████▋  | 308/342 [43:45<02:04,  3.66s/it]"
     ]
    },
    {
     "name": "stdout",
     "output_type": "stream",
     "text": [
      "边的数量 12 3 4.0\n",
      "计算GRN的方法: cmi\n"
     ]
    },
    {
     "name": "stderr",
     "output_type": "stream",
     "text": [
      " Pathway: hsa05322, total contain 26 genes, and 10 links!:  90%|███████████████████▉  | 309/342 [43:47<01:41,  3.06s/it]"
     ]
    },
    {
     "name": "stdout",
     "output_type": "stream",
     "text": [
      "边的数量 20 10 2.0\n",
      "计算GRN的方法: cmi\n"
     ]
    },
    {
     "name": "stderr",
     "output_type": "stream",
     "text": [
      " Pathway: hsa05323, total contain 43 genes, and 7 links!:  91%|████████████████████▊  | 310/342 [43:50<01:42,  3.21s/it]"
     ]
    },
    {
     "name": "stdout",
     "output_type": "stream",
     "text": [
      "边的数量 16 7 2.2857142857142856\n",
      "计算GRN的方法: cmi\n"
     ]
    },
    {
     "name": "stderr",
     "output_type": "stream",
     "text": [
      " Pathway: hsa05320, total contain 18 genes, and 2 links!:  91%|████████████████████▉  | 311/342 [43:51<01:19,  2.57s/it]"
     ]
    },
    {
     "name": "stdout",
     "output_type": "stream",
     "text": [
      "边的数量 16 2 8.0\n",
      "计算GRN的方法: cmi\n"
     ]
    },
    {
     "name": "stderr",
     "output_type": "stream",
     "text": [
      " Pathway: hsa05321, total contain 28 genes, and 56 links!:  91%|████████████████████  | 312/342 [43:53<01:11,  2.39s/it]"
     ]
    },
    {
     "name": "stdout",
     "output_type": "stream",
     "text": [
      "边的数量 69 56 1.2321428571428572\n",
      "计算GRN的方法: cmi\n"
     ]
    },
    {
     "name": "stderr",
     "output_type": "stream",
     "text": [
      " Pathway: hsa05330, total contain 19 genes, and 4 links!:  92%|█████████████████████  | 313/342 [43:55<00:58,  2.03s/it]"
     ]
    },
    {
     "name": "stdout",
     "output_type": "stream",
     "text": [
      "边的数量 18 4 4.5\n",
      "计算GRN的方法: cmi\n"
     ]
    },
    {
     "name": "stderr",
     "output_type": "stream",
     "text": [
      " Pathway: hsa05332, total contain 18 genes, and 4 links!:  92%|█████████████████████  | 314/342 [43:56<00:49,  1.78s/it]"
     ]
    },
    {
     "name": "stdout",
     "output_type": "stream",
     "text": [
      "边的数量 18 4 4.5\n",
      "计算GRN的方法: cmi\n"
     ]
    },
    {
     "name": "stderr",
     "output_type": "stream",
     "text": [
      " Pathway: hsa05340, total contain 16 genes, and 15 links!:  92%|████████████████████▎ | 315/342 [43:57<00:41,  1.55s/it]"
     ]
    },
    {
     "name": "stdout",
     "output_type": "stream",
     "text": [
      "边的数量 14 15 0.9333333333333333\n",
      "计算GRN的方法: cmi\n"
     ]
    },
    {
     "name": "stderr",
     "output_type": "stream",
     "text": [
      " Pathway: hsa05012, total contain 187 genes, and 113 links!:  93%|██████████████████▌ | 317/342 [45:53<11:29, 27.57s/it]"
     ]
    },
    {
     "name": "stdout",
     "output_type": "stream",
     "text": [
      "边的数量 125 113 1.1061946902654867\n",
      "计算GRN的方法: cmi\n"
     ]
    },
    {
     "name": "stderr",
     "output_type": "stream",
     "text": [
      " Pathway: hsa05017, total contain 92 genes, and 76 links!:  94%|████████████████████▌ | 320/342 [46:18<06:37, 18.06s/it]"
     ]
    },
    {
     "name": "stdout",
     "output_type": "stream",
     "text": [
      "边的数量 73 76 0.9605263157894737\n",
      "计算GRN的方法: cmi\n"
     ]
    },
    {
     "name": "stderr",
     "output_type": "stream",
     "text": [
      " Pathway: hsa05020, total contain 173 genes, and 178 links!:  94%|██████████████████▊ | 321/342 [48:07<12:24, 35.46s/it]"
     ]
    },
    {
     "name": "stdout",
     "output_type": "stream",
     "text": [
      "边的数量 191 178 1.0730337078651686\n",
      "计算GRN的方法: cmi\n"
     ]
    },
    {
     "name": "stderr",
     "output_type": "stream",
     "text": [
      " Pathway: hsa05030, total contain 19 genes, and 56 links!:  94%|████████████████████▊ | 323/342 [48:08<07:19, 23.12s/it]"
     ]
    },
    {
     "name": "stdout",
     "output_type": "stream",
     "text": [
      "边的数量 51 56 0.9107142857142857\n",
      "计算GRN的方法: cmi\n"
     ]
    },
    {
     "name": "stderr",
     "output_type": "stream",
     "text": [
      " Pathway: hsa05031, total contain 29 genes, and 48 links!:  95%|████████████████████▊ | 324/342 [48:10<05:39, 18.83s/it]"
     ]
    },
    {
     "name": "stdout",
     "output_type": "stream",
     "text": [
      "边的数量 39 48 0.8125\n",
      "计算GRN的方法: cmi\n"
     ]
    },
    {
     "name": "stderr",
     "output_type": "stream",
     "text": [
      " Pathway: hsa05032, total contain 29 genes, and 20 links!:  95%|████████████████████▉ | 325/342 [48:12<04:15, 15.05s/it]"
     ]
    },
    {
     "name": "stdout",
     "output_type": "stream",
     "text": [
      "边的数量 20 20 1.0\n",
      "计算GRN的方法: cmi\n"
     ]
    },
    {
     "name": "stderr",
     "output_type": "stream",
     "text": [
      " Pathway: hsa05034, total contain 47 genes, and 91 links!:  96%|█████████████████████ | 327/342 [48:16<02:28,  9.93s/it]"
     ]
    },
    {
     "name": "stdout",
     "output_type": "stream",
     "text": [
      "边的数量 87 91 0.9560439560439561\n",
      "计算GRN的方法: cmi\n"
     ]
    },
    {
     "name": "stderr",
     "output_type": "stream",
     "text": [
      " Pathway: hsa05417, total contain 121 genes, and 625 links!:  96%|███████████████████▏| 328/342 [48:39<03:00, 12.87s/it]"
     ]
    },
    {
     "name": "stdout",
     "output_type": "stream",
     "text": [
      "边的数量 556 625 0.8896\n",
      "计算GRN的方法: cmi\n"
     ]
    },
    {
     "name": "stderr",
     "output_type": "stream",
     "text": [
      " Pathway: hsa05418, total contain 81 genes, and 139 links!:  96%|████████████████████▏| 329/342 [48:50<02:39, 12.30s/it]"
     ]
    },
    {
     "name": "stdout",
     "output_type": "stream",
     "text": [
      "边的数量 149 139 1.0719424460431655\n",
      "计算GRN的方法: cmi\n"
     ]
    },
    {
     "name": "stderr",
     "output_type": "stream",
     "text": [
      " Pathway: hsa05410, total contain 29 genes, and 14 links!:  96%|█████████████████████▏| 330/342 [48:51<01:55,  9.65s/it]"
     ]
    },
    {
     "name": "stdout",
     "output_type": "stream",
     "text": [
      "边的数量 14 14 1.0\n",
      "计算GRN的方法: cmi\n"
     ]
    },
    {
     "name": "stderr",
     "output_type": "stream",
     "text": [
      " Pathway: hsa05412, total contain 25 genes, and 16 links!:  97%|█████████████████████▎| 331/342 [48:53<01:22,  7.50s/it]"
     ]
    },
    {
     "name": "stdout",
     "output_type": "stream",
     "text": [
      "边的数量 16 16 1.0\n",
      "计算GRN的方法: cmi\n"
     ]
    },
    {
     "name": "stderr",
     "output_type": "stream",
     "text": [
      " Pathway: hsa05414, total contain 30 genes, and 24 links!:  97%|█████████████████████▎| 332/342 [48:55<00:59,  5.97s/it]"
     ]
    },
    {
     "name": "stdout",
     "output_type": "stream",
     "text": [
      "边的数量 24 24 1.0\n",
      "计算GRN的方法: cmi\n"
     ]
    },
    {
     "name": "stderr",
     "output_type": "stream",
     "text": [
      " Pathway: hsa05415, total contain 118 genes, and 62 links!:  97%|████████████████████▍| 333/342 [49:17<01:34, 10.56s/it]"
     ]
    },
    {
     "name": "stdout",
     "output_type": "stream",
     "text": [
      "边的数量 77 62 1.2419354838709677\n",
      "计算GRN的方法: cmi\n"
     ]
    },
    {
     "name": "stderr",
     "output_type": "stream",
     "text": [
      " Pathway: hsa05416, total contain 38 genes, and 13 links!:  98%|█████████████████████▍| 334/342 [49:20<01:06,  8.36s/it]"
     ]
    },
    {
     "name": "stdout",
     "output_type": "stream",
     "text": [
      "边的数量 27 13 2.076923076923077\n",
      "计算GRN的方法: cmi\n"
     ]
    },
    {
     "name": "stderr",
     "output_type": "stream",
     "text": [
      " Pathway: hsa04930, total contain 16 genes, and 20 links!:  98%|█████████████████████▌| 335/342 [49:21<00:43,  6.19s/it]"
     ]
    },
    {
     "name": "stdout",
     "output_type": "stream",
     "text": [
      "边的数量 24 20 1.2\n",
      "计算GRN的方法: cmi\n"
     ]
    },
    {
     "name": "stderr",
     "output_type": "stream",
     "text": [
      " Pathway: hsa04940, total contain 20 genes, and 4 links!:  98%|██████████████████████▌| 336/342 [49:22<00:28,  4.73s/it]"
     ]
    },
    {
     "name": "stdout",
     "output_type": "stream",
     "text": [
      "边的数量 18 4 4.5\n",
      "计算GRN的方法: cmi\n"
     ]
    },
    {
     "name": "stderr",
     "output_type": "stream",
     "text": [
      " Pathway: hsa04936, total contain 74 genes, and 302 links!:  99%|████████████████████▊| 338/342 [49:31<00:18,  4.67s/it]"
     ]
    },
    {
     "name": "stdout",
     "output_type": "stream",
     "text": [
      "边的数量 336 302 1.1125827814569536\n",
      "计算GRN的方法: cmi\n"
     ]
    },
    {
     "name": "stderr",
     "output_type": "stream",
     "text": [
      " Pathway: hsa04932, total contain 110 genes, and 110 links!:  99%|███████████████████▊| 339/342 [49:51<00:24,  8.25s/it]"
     ]
    },
    {
     "name": "stdout",
     "output_type": "stream",
     "text": [
      "边的数量 129 110 1.1727272727272726\n",
      "计算GRN的方法: cmi\n"
     ]
    },
    {
     "name": "stderr",
     "output_type": "stream",
     "text": [
      " Pathway: hsa04931, total contain 59 genes, and 157 links!:  99%|████████████████████▉| 340/342 [49:56<00:15,  7.61s/it]"
     ]
    },
    {
     "name": "stdout",
     "output_type": "stream",
     "text": [
      "边的数量 160 157 1.019108280254777\n",
      "计算GRN的方法: cmi\n"
     ]
    },
    {
     "name": "stderr",
     "output_type": "stream",
     "text": [
      " Pathway: hsa04933, total contain 47 genes, and 227 links!: 100%|████████████████████▉| 341/342 [50:00<00:06,  6.64s/it]"
     ]
    },
    {
     "name": "stdout",
     "output_type": "stream",
     "text": [
      "边的数量 204 227 0.8986784140969163\n",
      "计算GRN的方法: cmi\n"
     ]
    },
    {
     "name": "stderr",
     "output_type": "stream",
     "text": [
      " Pathway: hsa04934, total contain 56 genes, and 140 links!: 100%|█████████████████████| 342/342 [50:06<00:00,  8.79s/it]"
     ]
    },
    {
     "name": "stdout",
     "output_type": "stream",
     "text": [
      "边的数量 128 140 0.9142857142857143\n",
      "计算GRN的方法: cmi\n"
     ]
    },
    {
     "name": "stderr",
     "output_type": "stream",
     "text": [
      "\n"
     ]
    }
   ],
   "source": [
    "\"\"\" # test = False, 训练数据\n",
    "# notebook 对进度条的显示支持不友好\n",
    "# 处理一个文件需要50min, 若无必要不建议重新运行\n",
    "batch, edge_percent = create_batch_dataset_from_cancer(filepath = filepath, \n",
    "                                test_pathway = test_pathway,\n",
    "                                test = False) \"\"\""
   ]
  },
  {
   "cell_type": "code",
   "execution_count": null,
   "id": "34f10d3f",
   "metadata": {},
   "outputs": [],
   "source": [
    "\"\"\" # 处理后的batch保存到文件中, 无需运行\n",
    "torch.save(batch,'Cancer_datasets/S33_Cancer_BRCA_processed_20250609.data') \"\"\""
   ]
  },
  {
   "cell_type": "code",
   "execution_count": 7,
   "id": "0d6f8385",
   "metadata": {},
   "outputs": [],
   "source": [
    "# 加载batch\n",
    "batch = torch.load('Cancer_datasets/S33_Cancer_BRCA_processed_20250609.data')"
   ]
  },
  {
   "cell_type": "code",
   "execution_count": null,
   "id": "4e1b08ed",
   "metadata": {},
   "outputs": [
    {
     "name": "stdout",
     "output_type": "stream",
     "text": [
      "torch.Size([14492, 100]) 14492 29518\n",
      "285\n"
     ]
    }
   ],
   "source": [
    "\"\"\" print(batch.x.shape,batch.num_nodes, batch.num_edges)\n",
    "print(len(batch))\n",
    "# 共285个图,对应KEGG中的285个key,其余的key与原exp的基因没有交集.\n",
    "# 共14492个节点,29518条边\n",
    "# print(edge_percent) \n",
    "# 边的比例为0.043041377101426546,稀疏图 \"\"\""
   ]
  },
  {
   "cell_type": "code",
   "execution_count": null,
   "id": "d685ce3d",
   "metadata": {},
   "outputs": [],
   "source": [
    "\"\"\" edge_percent = 0.043041377101426546\n",
    "with open('reproducibility/train_batch.pkl','wb') as f:\n",
    "    pickle.dump({'data': batch, 'edge_percent': edge_percent},f) \"\"\""
   ]
  },
  {
   "cell_type": "markdown",
   "id": "dced3123",
   "metadata": {},
   "source": [
    "### 3.2 Dignet.py\n",
    "`load_data`\n",
    "原文命名不规范, 其中调用create_batch_dataset_from_cancer返回的却不是Batch而是list, 本文已保存Batch数据,不用类型转换"
   ]
  },
  {
   "cell_type": "code",
   "execution_count": 42,
   "id": "a24a1466",
   "metadata": {},
   "outputs": [],
   "source": [
    "train_file = 'reproducibility/train_batch.pkl'\n",
    "test_file = 'reproducibility/test_data.pkl'\n",
    "\n",
    "with open(test_file, 'rb') as f:\n",
    "    d = pickle.load(f)\n",
    "testdata = d # Data\n",
    "\n",
    "with open(train_file, 'rb') as f:\n",
    "    d = pickle.load(f)\n",
    "\n",
    "data = d['data'] # Batch\n",
    "edge_percent = d['edge_percent'] # float\n",
    "if edge_percent < 0.1:\n",
    "    edge_percent = 0.1"
   ]
  },
  {
   "cell_type": "code",
   "execution_count": 43,
   "id": "e5d0ead6",
   "metadata": {},
   "outputs": [],
   "source": [
    "from torch_geometric.utils import to_dense_adj, to_dense_batch\n",
    "import discrete.network_preprocess as network_preprocess\n",
    "test_list = []\n",
    "truelabel, node_mask, _ = network_preprocess.to_dense(testdata.x, testdata.edge_index,\n",
    "                                                                    testdata.edge_attr,\n",
    "                                                                    training=True, max_num_nodes=testdata.x.shape[0])\n",
    "# PlaceHolder, Tensor\n",
    "truelabel_discrete = truelabel.mask(node_mask, collapse=True)\n",
    "truelabel_discrete = truelabel_discrete.E.squeeze(0) #(n,n,2)\n",
    "test_list.append({'testdata': testdata, 'truelabel_discrete': truelabel_discrete}) #Data, Tensor"
   ]
  },
  {
   "cell_type": "code",
   "execution_count": 44,
   "id": "28d69b6e",
   "metadata": {},
   "outputs": [],
   "source": [
    "# 数据压缩, 从200多个细胞压缩为100个metacell,\n",
    "# 此处又pca压缩到30个维度\n",
    "use_PCA = 30\n",
    "pca_file = 'reproducibility/pca_model_parameters.pkl'\n",
    "\n",
    "pca = PCA(n_components=use_PCA)  # 设置维度为维度较小的数据集的维度\n",
    "traindata_pca = pca.fit_transform(data.x.cpu().numpy())\n",
    "with open(pca_file, 'wb') as file:\n",
    "    pickle.dump(pca, file)\n",
    "data.x = torch.tensor(traindata_pca, dtype=torch.float)\n",
    "del traindata_pca\n",
    "if test_list:\n",
    "    for pcai in range(0, len(test_list)):\n",
    "        testdata_pca = pca.transform(test_list[pcai]['testdata'].x.cpu().numpy())\n",
    "        test_list[pcai]['testdata'].x = torch.tensor(testdata_pca, dtype=torch.float)\n",
    "        del testdata_pca\n"
   ]
  },
  {
   "cell_type": "markdown",
   "id": "ac55b2f7",
   "metadata": {},
   "source": [
    "\n",
    "\n",
    "\n",
    "\n",
    "\n",
    "训练见train.py\n",
    "\n",
    "验证集见validation.py\n",
    "\n",
    "注:Cancer_datasets/中的.data只含一种细胞的data, 只有一个dict,不符合输入格式\n",
    "\n",
    "pathway/simulation/ 中的.data模拟数据, 是一个list,包含100个左右data(dict), 每个dict中有net,exp,符合输入格式\n",
    "\n",
    "即使预训练模型和数据文件名相同, 效果也不好?\n",
    "\n",
    "报错的函数路径\n",
    "\n",
    "DigNet.train ->  \n",
    "\n",
    "DigNet.load_data -> \n",
    "\n",
    "对.data文件,pathway.create_batch_dataset_simu\n",
    "\n",
    "对.csv文件(选择这个),pathway.create_batch_dataset_from_cancer\n",
    "\n",
    "->pathway.create_batch_dataset_from_cancer\n",
    "\n",
    "\n",
    "-> cal_metacell\n",
    "\n",
    "train_filename = 'Cancer_datasets\\S33_Cancer_BRCA_output.csv'\n",
    "(10015, 246)基因个数,细胞个数\n",
    "\n",
    "return BRCA_exp_filter_saver:(基因个数,Cnum = 100)\n",
    "\n",
    "<img src = 'validation.png'/>"
   ]
  },
  {
   "cell_type": "markdown",
   "id": "f8ca3662",
   "metadata": {},
   "source": [
    "## 4.其他文件\n",
    "`pathway/PCA_CMI.py`\n",
    ">conditional_mutual_info(X, Y, Z=np.array(1)):\n",
    "计算条件互信息cmi,多元正态分布\n",
    "如果X,Y是1维,修改形状为(-1,1)的2维数组.此处应该有误,因为cov是将每行当作特征,每列当作样本,(-1,1)的形状算不出协方差,(1,-1)的形状才能算出单个向量的方差.这里没出现报错,输入X,Y应该都是2维数组,列数相同(才能进行cov计算)\n",
    "Z是常数或向量,用矩阵来说是0维或1维\n",
    "分以下两种情况:\n",
    "1.Z是0维,即Z不是一个条件,cmi退化成mi\n",
    "d1,d2分别是X,Y的协方差的行列式\n",
    "d3是X和Y拼接后的协方差的行列式\n",
    "cmi = (1 / 2) * np.log((d1 * d2) / d3)\n",
    "2.Z是1维,即Z是条件\n",
    "d1是X,Z的协方差的行列式\n",
    "d2是Y,Z的协方差的行列式\n",
    "d3是Z的协方差的行列式\n",
    "d4是X,Y,Z的协方差的行列式\n",
    "cmi = (1 / 2) * np.log((d1 * d2) / (d3 * d4))\n",
    "关于公式推导见**补充知识**\n",
    "return cmi\n",
    "\n",
    ">remove_edges(predicted_graph, data, L, theta):\n",
    "先从predicted_graph中获得边的数量initial_num_edges和所有边edges\n",
    "遍历每条边edge:\n",
    "neighbors1 = edge[0]的子节点集合\n",
    "neighbors2 = edge[1]的子节点集合\n",
    "neighbors = 以上两个集合取交集,即两个点的公共子节点集合\n",
    "nhbrs = neighbors的拷贝\n",
    "T = 公共子节点个数\n",
    "如果T < L(阈值)或者edge的两个点相同(即edge是自环边),不进行操作\n",
    "否则:\n",
    "在data中根据edge的两个端点找到x,y,他们的形状是(-1,1)\n",
    "K = 在nhbrs中选择L个的组合\n",
    "1.如果L == 0:\n",
    "cmiVal = conditionconditional_mutual_info(x.T, y.T)\n",
    "这个转置(即(1,-1)的输入)也跳过了上面conditionconditional_mutual_info中不合理的判别\n",
    "如果cmiVal < theta则删除这条边\n",
    "2.否则:遍历K中的zgroup\n",
    "2.1 zgroup中没有数据,则跳过\n",
    "2.2 data中通过zgroup查找z,即影响xy互信息的条件\n",
    "cmiVal = conditional_mutual_info(x.T, y.T, z.T)\n",
    "在对zgroup的遍历中获得最大的cmi,如果小于theta则删除这条边\n",
    "在对每条边进行判断是否删除的操作后,计算图中边的数量,如果比输入时减少了,return predicted_graph, False\n",
    "否则return predicted_graph, True\n",
    "\n",
    ">pca_cmi(data, new_net_bit, theta, max_order, show=False):\n",
    "创建有向图predicted_graph,节点为data的index\n",
    "new_net_bit中的两列TF,Gene分别是每条边的头节点,尾节点\n",
    "L = 0\n",
    "nochange = False\n",
    "data = data.T\n",
    "循环,不断增加L,直到nochange == True\n",
    "这个循环隐含的假设是,随着L增大,条件越多,cmi值会越小,导致不断有边被删除,直到所有边的端点的cmi大于theta,不能被删除.\n",
    "但是查找资料:条件越多,条件互信息不一定越小或越大,其变化取决于条件变量与目标变量之间的因果或依赖结构.也就是说cmi不是一个单调的结构,这一段也需要考察.\n",
    "调用时L = 1,即删除操作只进行一次,也不用考察L更大时的单调性质了.\n",
    "show参数默认是False,如果为True有一段打印信息,调试时可以使用.\n",
    "返回邻接矩阵和图结构\n",
    "return predicted_adjMatrix, predicted_graph"
   ]
  },
  {
   "cell_type": "markdown",
   "id": "30aedbd1",
   "metadata": {},
   "source": [
    "## 5.补充知识\n",
    "### 5.1 互信息(mi)和条件互信息(cmi)\n",
    "熵,联合熵,条件熵的定义\n",
    "$H(x) = -\\sum_x p(x)log(p(x))\\\\\n",
    "H(x,y) = -\\sum_{x}\\sum_{y} p(x,y)log(p(x,y))\\\\\n",
    "H(x|y) = H(x,y) - H(y)$ \n",
    "首先,证明互信息mi的熵表达式和概率表达式等价\n",
    "`熵表达式`\n",
    "$mi(x,y) = H(x) + H(y) - H(x,y)\\\\\n",
    "=H(x)-H(x|y)= H(y) - H(y|x)$\n",
    "`概率表达式`\n",
    "$mi(x,y) = \\sum_{x}\\sum_{y} p(x,y)log(\\frac{p(x,y)}{p(x)p(y)})$\n",
    "证明:\n",
    "$$\\begin{align*}\n",
    "mi(x,y) &= H(x) + H(y) - H(x,y) \\\\\n",
    "&= -\\sum_x p(x)log(p(x))-\\sum_y p(y)log(p(y))+\\sum_{x}\\sum_{y} p(x,y)log(p(x,y)) \\\\\n",
    "&= -\\sum_x\\sum_{y} p(x,y)log(p(x))-\\sum_{x}\\sum_y p(x,y)log(p(y))+\\sum_{x}\\sum_{y} p(x,y)log(p(x,y)) \\\\\n",
    "&=\\sum_{x}\\sum_{y} p(x,y)log(\\frac{p(x,y)}{p(x)p(y)})\n",
    "\\end{align*}$$\n",
    "\n",
    "条件互信息cmi\n",
    "$cmi(x,y|z) =  H(x|z) + H(y|z) - H(x,y|z)\\\\ = \\sum_zp(z)mi(x,y|z)$\n",
    "\n",
    "关于本文中计算cmi的方法,网上的解释:\n",
    "条件互信息（CMI）与行列式之间存在一定的联系，但直接使用行列式计算CMI并不常见，需要根据具体情况分析。下面从理论和实际应用两个角度进行说明：\n",
    "\n",
    "\n",
    "#### **1. 理论上的联系**\n",
    "对于**多元高斯分布**，CMI可以通过协方差矩阵的行列式计算。假设随机变量 \\( X, Y, Z \\) 服从联合高斯分布，则：\n",
    "\\[\n",
    "\\text{CMI}(X;Y|Z) = \\frac{1}{2} \\ln \\left( \\frac{\\det(\\Sigma_{XZ}) \\cdot \\det(\\Sigma_{YZ})}{\\det(\\Sigma_{Z}) \\cdot \\det(\\Sigma_{XYZ})} \\right)\n",
    "\\]\n",
    "其中：\n",
    "- \\( \\Sigma_{XZ} \\) 是 \\( X \\) 和 \\( Z \\) 的协方差矩阵\n",
    "- \\( \\Sigma_{YZ} \\) 是 \\( Y \\) 和 \\( Z \\) 的协方差矩阵\n",
    "- \\( \\Sigma_{Z} \\) 是 \\( Z \\) 的协方差矩阵\n",
    "- \\( \\Sigma_{XYZ} \\) 是 \\( X, Y, Z \\) 的联合协方差矩阵\n",
    "\n",
    "**推导思路**：\n",
    "高斯分布的微分熵为 \\( H(X) = \\frac{1}{2} \\ln \\left( (2\\pi e)^n \\det(\\Sigma_X) \\right) \\)，代入CMI的熵表达式：\n",
    "\\[\n",
    "\\text{CMI}(X;Y|Z) = H(X|Z) + H(Y|Z) - H(X,Y|Z)\n",
    "\\]\n",
    "通过行列式的比值化简可得上述公式。\n",
    "\n",
    "\n",
    "#### **2. 离散数据的CMI与行列式**\n",
    "对于**离散数据**，CMI的定义基于概率分布，而非协方差矩阵，因此**无法直接使用行列式计算**。例如：\n",
    "\\[\n",
    "\\text{CMI}(X;Y|Z) = \\sum_{x,y,z} P(x,y,z) \\log \\frac{P(x,y|z)}{P(x|z) \\cdot P(y|z)}\n",
    "\\]\n",
    "此时需要通过统计频率估计概率分布，而非行列式。\n",
    "\n",
    "#### 总结\n",
    "本文假设变量都服从多元高斯分布"
   ]
  },
  {
   "cell_type": "code",
   "execution_count": null,
   "id": "a5c13551",
   "metadata": {},
   "outputs": [
    {
     "data": {
      "text/plain": [
       "(1.7388948450374015, 0.04718490304900292)"
      ]
     },
     "execution_count": 44,
     "metadata": {},
     "output_type": "execute_result"
    }
   ],
   "source": [
    "#计算互信息的代码,可以看出用两种方法得到的mi差别很大\n",
    "#注,mutual_info_score仅适用于离散数据,基于行列式的计算方法仅适用于多元高斯分布,\n",
    "#所以两种方法可比性不高,但是本文中两种方式都出现了,需要考察\n",
    "from sklearn.metrics import mutual_info_score\n",
    "x = np.random.randn(20)\n",
    "y = np.random.randn(20)\n",
    "#离散化\n",
    "bins = np.linspace(min(x),max(x),21)\n",
    "bins1 = np.linspace(min(y),max(y),21)\n",
    "labels = list(range(20))\n",
    "x_discrete = pd.cut(x,bins = bins,labels = labels,include_lowest=True)\n",
    "y_discrete = pd.cut(y,bins = bins1,labels = labels,include_lowest=True)\n",
    "mi1 = mutual_info_score(x_discrete.to_list(),y_discrete.to_list())\n",
    "d1 = np.cov(x_discrete)\n",
    "d2 = np.cov(y_discrete)\n",
    "d3 = np.linalg.det(np.cov(x_discrete,y_discrete))\n",
    "mi2 = 1/2 * np.log((d1 * d2)/d3)\n",
    "mi1, mi2"
   ]
  },
  {
   "cell_type": "markdown",
   "id": "a91c326b",
   "metadata": {},
   "source": [
    "### 5.2 初始化与激活函数\n",
    "discrete/models/train_metrics.py中,使用了两种初始化方法,kaiming初始化和xavier初始化.\n",
    "两种方法的比较如下\n",
    "#### 1. **Xavier 初始化**（Glorot 初始化）&#xA;\n",
    "\n",
    "*   **适用激活函数**：Sigmoid、Tanh、Softmax 等近似线性激活函数。\n",
    "\n",
    "*   **数学原理**：权重 $W$ 的方差满足：\n",
    "\n",
    "$\\text{Var}(W) = \\frac{2}{\\text{fan\\_in} + \\text{fan\\_out}}$\n",
    "\n",
    "其中 $\\text{fan\\_in}$ 和 $\\text{fan\\_out}$ 分别为输入和输出神经元数量。\n",
    "\n",
    "#### 2. **Kaiming 初始化**（He 初始化）&#xA;\n",
    "\n",
    "\n",
    "\n",
    "*   **适用激活函数**：ReLU、LeakyReLU、PReLU 等 ReLU 类激活函数。\n",
    "\n",
    "\n",
    "*   **数学原理**：考虑到 ReLU 对负值区域的抑制，权重 $W$ 的方差调整为：\n",
    "\n",
    "\n",
    "$\\text{Var}(W) = \\frac{2}{\\text{fan\\_in}}$\n",
    "\n",
    "其中 $\\text{fan\\_in}$ 为输入神经元数量。\n"
   ]
  },
  {
   "cell_type": "markdown",
   "id": "593cc632",
   "metadata": {},
   "source": [
    "### 5.3 FiLM（Feature-wise Linear Modulation）\n",
    "FiLM（Feature-wise Linear Modulation）是一种强大的条件式特征调制技术，通过学习对特征图进行动态的线性变换，使模型能够适应不同的输入条件或任务需求。该技术最早由DeepMind在2017年提出，现已广泛应用于计算机视觉、自然语言处理和强化学习等领域。\n",
    "\n",
    "\n",
    "### **核心原理**\n",
    "FiLM的核心思想是通过外部条件（如文本描述、环境变量等）生成两组参数：**缩放因子**（γ）和**偏移量**（β），然后对输入特征图进行线性调制：\n",
    "$$\n",
    "\\text{FiLM}(x, γ, β) = γ \\otimes x + β\n",
    "$$\n",
    "其中：\n",
    "- $x$ 是输入特征图（通常是CNN或Transformer的中间激活）。\n",
    "- $γ$ 和 $β$ 是通过条件信息计算得到的参数，维度通常与 $x$ 的通道数匹配。\n",
    "- $\\otimes$ 表示逐通道的乘法操作。\n",
    "\n",
    "### **FiLM的优势**\n",
    "1. **灵活性**：通过条件信息动态调整特征，适应不同场景（如风格迁移、少样本学习）。\n",
    "2. **轻量级**：仅需额外学习少量参数（γ和β），计算开销低。\n",
    "3. **可解释性**：γ和β可视为对特征的“增益”和“偏置”，直观反映条件对特征的影响。\n",
    "4. **兼容性**：可无缝集成到现有的CNN、Transformer等架构中。\n",
    "\n",
    "\n",
    "### **应用场景**\n",
    "#### **1. 视觉任务**\n",
    "- **条件图像生成**：根据文本描述生成图像（如FiLM-GAN）。\n",
    "- **少样本学习**：通过类别嵌入调整特征提取器。\n",
    "- **域适应**：通过域标签动态调整模型参数。\n",
    "\n",
    "#### **2. 自然语言处理**\n",
    "- **多任务学习**：为不同任务生成特定的γ和β。\n",
    "- **情感分析**：根据情感标签调制文本特征。\n",
    "\n",
    "#### **3. 强化学习**\n",
    "- **基于环境条件的策略调整**：通过FiLM动态改变策略网络。\n",
    "\n",
    "\n",
    "### **FiLM与其他归一化技术的对比**\n",
    "| **技术**       | **操作方式**                            | **核心思想**                          | **应用场景**                  |\n",
    "|----------------|----------------------------------------|---------------------------------------|-----------------------------|\n",
    "| **BatchNorm**  | 对一批样本的同一通道归一化               | 减少内部协变量偏移                     | 图像分类、CNN                |\n",
    "| **LayerNorm**  | 对单个样本的所有通道归一化               | 稳定RNN/Transformer的训练              | 序列建模                    |\n",
    "| **InstanceNorm**| 对单个样本的每个通道单独归一化            | 保留样本内的风格信息                   | 风格迁移                    |\n",
    "| **FiLM**       | 通过外部条件动态缩放和偏移特征           | 条件式特征调制                         | 条件生成、少样本学习         |\n",
    "\n",
    "\n",
    "### **FiLM的变体与扩展**\n",
    "1. **Adaptive FiLM**：根据输入动态调整γ和β的生成方式。\n",
    "2. **FiLM++**：引入注意力机制增强条件编码。\n",
    "3. **Squeeze-and-Excitation (SE)**：可视为FiLM的简化版本，通过全局池化生成通道权重。\n",
    "\n",
    "\n",
    "### **总结**\n",
    "FiLM通过特征级的线性调制，为深度学习模型提供了强大的条件适应能力。它不仅能提升模型在多任务、少样本等场景下的性能，还能增强模型的可解释性。作为一种轻量级且灵活的技术，FiLM已成为现代深度学习架构中的重要组件。"
   ]
  },
  {
   "cell_type": "markdown",
   "id": "98510907",
   "metadata": {},
   "source": [
    "### 5.4 pytorch张量计算相关知识\n",
    "\n",
    "矩阵乘法:c = a @ b\n",
    "a:(bs, q, k, v)\n",
    "b:(bs,1, v, p)\n",
    "c:(bs,q, k,p)\n",
    "原理:最后两个维度是矩阵维度,其他维度是批量维度,批量维度需要保证相同或者为1(广播机制), 矩阵维度需要保持a的列 = b的行.\n",
    "\n",
    "d = a[None,None,:]\n",
    "d:(1,1,bs,q,k,v)\n",
    "None切片的作用与unsqueeze相同,用于添加1维度"
   ]
  },
  {
   "cell_type": "markdown",
   "id": "1818c5e8",
   "metadata": {},
   "source": [
    "## 其他内容\n",
    ".gitignore配置文件增加*.data,*.mat,*.csv,忽略解压出来的大文件\n",
    "用gitdesktop推送克隆，比vscode流畅\n",
    "\n",
    "暂时没看出vb下界和ce的区别"
   ]
  }
 ],
 "metadata": {
  "kernelspec": {
   "display_name": "dignet",
   "language": "python",
   "name": "python3"
  },
  "language_info": {
   "codemirror_mode": {
    "name": "ipython",
    "version": 3
   },
   "file_extension": ".py",
   "mimetype": "text/x-python",
   "name": "python",
   "nbconvert_exporter": "python",
   "pygments_lexer": "ipython3",
   "version": "3.8.20"
  }
 },
 "nbformat": 4,
 "nbformat_minor": 5
}
